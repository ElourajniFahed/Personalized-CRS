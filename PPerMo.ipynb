{
  "cells": [
    {
      "cell_type": "code",
      "execution_count": null,
      "metadata": {
        "id": "bvVpAIyazezW"
      },
      "outputs": [],
      "source": [
        ""
      ]
    },
    {
      "cell_type": "code",
      "execution_count": null,
      "metadata": {
        "id": "45idwjP9sLn5"
      },
      "outputs": [],
      "source": [
        ""
      ]
    },
    {
      "cell_type": "code",
      "execution_count": null,
      "metadata": {
        "colab": {
          "base_uri": "https://localhost:8080/"
        },
        "id": "VSDezoagD0rG",
        "outputId": "ead9683f-7633-4047-bf98-03f1b00c5491"
      },
      "outputs": [
        {
          "output_type": "stream",
          "name": "stdout",
          "text": [
            "Mounted at /content/drive\n"
          ]
        }
      ],
      "source": [
        "from google.colab import drive\n",
        "\n",
        "drive.mount('/content/drive')"
      ]
    },
    {
      "cell_type": "code",
      "execution_count": null,
      "metadata": {
        "id": "2eFdyiFugaOP"
      },
      "outputs": [],
      "source": [
        "import pandas as pd \n",
        "import numpy as np"
      ]
    },
    {
      "cell_type": "code",
      "execution_count": null,
      "metadata": {
        "colab": {
          "base_uri": "https://localhost:8080/"
        },
        "id": "ahzlzPkbaKql",
        "outputId": "a1b903cf-a779-4db6-b8dc-3fb23fcf7b61"
      },
      "outputs": [
        {
          "output_type": "stream",
          "name": "stdout",
          "text": [
            "Collecting pytorch_lightning\n",
            "  Downloading pytorch_lightning-1.6.1-py3-none-any.whl (582 kB)\n",
            "\u001b[K     |████████████████████████████████| 582 kB 34.1 MB/s \n",
            "\u001b[?25hCollecting torchmetrics>=0.4.1\n",
            "  Downloading torchmetrics-0.8.0-py3-none-any.whl (408 kB)\n",
            "\u001b[K     |████████████████████████████████| 408 kB 81.3 MB/s \n",
            "\u001b[?25hRequirement already satisfied: packaging>=17.0 in /usr/local/lib/python3.7/dist-packages (from pytorch_lightning) (21.3)\n",
            "Collecting fsspec[http]!=2021.06.0,>=2021.05.0\n",
            "  Downloading fsspec-2022.3.0-py3-none-any.whl (136 kB)\n",
            "\u001b[K     |████████████████████████████████| 136 kB 5.6 MB/s \n",
            "\u001b[?25hCollecting pyDeprecate<0.4.0,>=0.3.1\n",
            "  Downloading pyDeprecate-0.3.2-py3-none-any.whl (10 kB)\n",
            "Requirement already satisfied: typing-extensions>=4.0.0 in /usr/local/lib/python3.7/dist-packages (from pytorch_lightning) (4.1.1)\n",
            "Requirement already satisfied: numpy>=1.17.2 in /usr/local/lib/python3.7/dist-packages (from pytorch_lightning) (1.21.5)\n",
            "Requirement already satisfied: tensorboard>=2.2.0 in /usr/local/lib/python3.7/dist-packages (from pytorch_lightning) (2.8.0)\n",
            "Requirement already satisfied: torch>=1.8.* in /usr/local/lib/python3.7/dist-packages (from pytorch_lightning) (1.10.0+cu111)\n",
            "Requirement already satisfied: tqdm>=4.41.0 in /usr/local/lib/python3.7/dist-packages (from pytorch_lightning) (4.64.0)\n",
            "Collecting PyYAML>=5.4\n",
            "  Downloading PyYAML-6.0-cp37-cp37m-manylinux_2_5_x86_64.manylinux1_x86_64.manylinux_2_12_x86_64.manylinux2010_x86_64.whl (596 kB)\n",
            "\u001b[K     |████████████████████████████████| 596 kB 66.0 MB/s \n",
            "\u001b[?25hRequirement already satisfied: requests in /usr/local/lib/python3.7/dist-packages (from fsspec[http]!=2021.06.0,>=2021.05.0->pytorch_lightning) (2.23.0)\n",
            "Collecting aiohttp\n",
            "  Downloading aiohttp-3.8.1-cp37-cp37m-manylinux_2_5_x86_64.manylinux1_x86_64.manylinux_2_12_x86_64.manylinux2010_x86_64.whl (1.1 MB)\n",
            "\u001b[K     |████████████████████████████████| 1.1 MB 85.0 MB/s \n",
            "\u001b[?25hRequirement already satisfied: pyparsing!=3.0.5,>=2.0.2 in /usr/local/lib/python3.7/dist-packages (from packaging>=17.0->pytorch_lightning) (3.0.8)\n",
            "Requirement already satisfied: markdown>=2.6.8 in /usr/local/lib/python3.7/dist-packages (from tensorboard>=2.2.0->pytorch_lightning) (3.3.6)\n",
            "Requirement already satisfied: tensorboard-data-server<0.7.0,>=0.6.0 in /usr/local/lib/python3.7/dist-packages (from tensorboard>=2.2.0->pytorch_lightning) (0.6.1)\n",
            "Requirement already satisfied: tensorboard-plugin-wit>=1.6.0 in /usr/local/lib/python3.7/dist-packages (from tensorboard>=2.2.0->pytorch_lightning) (1.8.1)\n",
            "Requirement already satisfied: protobuf>=3.6.0 in /usr/local/lib/python3.7/dist-packages (from tensorboard>=2.2.0->pytorch_lightning) (3.17.3)\n",
            "Requirement already satisfied: grpcio>=1.24.3 in /usr/local/lib/python3.7/dist-packages (from tensorboard>=2.2.0->pytorch_lightning) (1.44.0)\n",
            "Requirement already satisfied: setuptools>=41.0.0 in /usr/local/lib/python3.7/dist-packages (from tensorboard>=2.2.0->pytorch_lightning) (57.4.0)\n",
            "Requirement already satisfied: google-auth<3,>=1.6.3 in /usr/local/lib/python3.7/dist-packages (from tensorboard>=2.2.0->pytorch_lightning) (1.35.0)\n",
            "Requirement already satisfied: wheel>=0.26 in /usr/local/lib/python3.7/dist-packages (from tensorboard>=2.2.0->pytorch_lightning) (0.37.1)\n",
            "Requirement already satisfied: werkzeug>=0.11.15 in /usr/local/lib/python3.7/dist-packages (from tensorboard>=2.2.0->pytorch_lightning) (1.0.1)\n",
            "Requirement already satisfied: google-auth-oauthlib<0.5,>=0.4.1 in /usr/local/lib/python3.7/dist-packages (from tensorboard>=2.2.0->pytorch_lightning) (0.4.6)\n",
            "Requirement already satisfied: absl-py>=0.4 in /usr/local/lib/python3.7/dist-packages (from tensorboard>=2.2.0->pytorch_lightning) (1.0.0)\n",
            "Requirement already satisfied: six in /usr/local/lib/python3.7/dist-packages (from absl-py>=0.4->tensorboard>=2.2.0->pytorch_lightning) (1.15.0)\n",
            "Requirement already satisfied: cachetools<5.0,>=2.0.0 in /usr/local/lib/python3.7/dist-packages (from google-auth<3,>=1.6.3->tensorboard>=2.2.0->pytorch_lightning) (4.2.4)\n",
            "Requirement already satisfied: pyasn1-modules>=0.2.1 in /usr/local/lib/python3.7/dist-packages (from google-auth<3,>=1.6.3->tensorboard>=2.2.0->pytorch_lightning) (0.2.8)\n",
            "Requirement already satisfied: rsa<5,>=3.1.4 in /usr/local/lib/python3.7/dist-packages (from google-auth<3,>=1.6.3->tensorboard>=2.2.0->pytorch_lightning) (4.8)\n",
            "Requirement already satisfied: requests-oauthlib>=0.7.0 in /usr/local/lib/python3.7/dist-packages (from google-auth-oauthlib<0.5,>=0.4.1->tensorboard>=2.2.0->pytorch_lightning) (1.3.1)\n",
            "Requirement already satisfied: importlib-metadata>=4.4 in /usr/local/lib/python3.7/dist-packages (from markdown>=2.6.8->tensorboard>=2.2.0->pytorch_lightning) (4.11.3)\n",
            "Requirement already satisfied: zipp>=0.5 in /usr/local/lib/python3.7/dist-packages (from importlib-metadata>=4.4->markdown>=2.6.8->tensorboard>=2.2.0->pytorch_lightning) (3.8.0)\n",
            "Requirement already satisfied: pyasn1<0.5.0,>=0.4.6 in /usr/local/lib/python3.7/dist-packages (from pyasn1-modules>=0.2.1->google-auth<3,>=1.6.3->tensorboard>=2.2.0->pytorch_lightning) (0.4.8)\n",
            "Requirement already satisfied: certifi>=2017.4.17 in /usr/local/lib/python3.7/dist-packages (from requests->fsspec[http]!=2021.06.0,>=2021.05.0->pytorch_lightning) (2021.10.8)\n",
            "Requirement already satisfied: urllib3!=1.25.0,!=1.25.1,<1.26,>=1.21.1 in /usr/local/lib/python3.7/dist-packages (from requests->fsspec[http]!=2021.06.0,>=2021.05.0->pytorch_lightning) (1.24.3)\n",
            "Requirement already satisfied: chardet<4,>=3.0.2 in /usr/local/lib/python3.7/dist-packages (from requests->fsspec[http]!=2021.06.0,>=2021.05.0->pytorch_lightning) (3.0.4)\n",
            "Requirement already satisfied: idna<3,>=2.5 in /usr/local/lib/python3.7/dist-packages (from requests->fsspec[http]!=2021.06.0,>=2021.05.0->pytorch_lightning) (2.10)\n",
            "Requirement already satisfied: oauthlib>=3.0.0 in /usr/local/lib/python3.7/dist-packages (from requests-oauthlib>=0.7.0->google-auth-oauthlib<0.5,>=0.4.1->tensorboard>=2.2.0->pytorch_lightning) (3.2.0)\n",
            "Collecting frozenlist>=1.1.1\n",
            "  Downloading frozenlist-1.3.0-cp37-cp37m-manylinux_2_5_x86_64.manylinux1_x86_64.manylinux_2_17_x86_64.manylinux2014_x86_64.whl (144 kB)\n",
            "\u001b[K     |████████████████████████████████| 144 kB 7.4 MB/s \n",
            "\u001b[?25hCollecting async-timeout<5.0,>=4.0.0a3\n",
            "  Downloading async_timeout-4.0.2-py3-none-any.whl (5.8 kB)\n",
            "Collecting multidict<7.0,>=4.5\n",
            "  Downloading multidict-6.0.2-cp37-cp37m-manylinux_2_17_x86_64.manylinux2014_x86_64.whl (94 kB)\n",
            "\u001b[K     |████████████████████████████████| 94 kB 4.4 MB/s \n",
            "\u001b[?25hRequirement already satisfied: charset-normalizer<3.0,>=2.0 in /usr/local/lib/python3.7/dist-packages (from aiohttp->fsspec[http]!=2021.06.0,>=2021.05.0->pytorch_lightning) (2.0.12)\n",
            "Collecting yarl<2.0,>=1.0\n",
            "  Downloading yarl-1.7.2-cp37-cp37m-manylinux_2_5_x86_64.manylinux1_x86_64.manylinux_2_12_x86_64.manylinux2010_x86_64.whl (271 kB)\n",
            "\u001b[K     |████████████████████████████████| 271 kB 91.3 MB/s \n",
            "\u001b[?25hCollecting asynctest==0.13.0\n",
            "  Downloading asynctest-0.13.0-py3-none-any.whl (26 kB)\n",
            "Requirement already satisfied: attrs>=17.3.0 in /usr/local/lib/python3.7/dist-packages (from aiohttp->fsspec[http]!=2021.06.0,>=2021.05.0->pytorch_lightning) (21.4.0)\n",
            "Collecting aiosignal>=1.1.2\n",
            "  Downloading aiosignal-1.2.0-py3-none-any.whl (8.2 kB)\n",
            "Installing collected packages: multidict, frozenlist, yarl, asynctest, async-timeout, aiosignal, pyDeprecate, fsspec, aiohttp, torchmetrics, PyYAML, pytorch-lightning\n",
            "  Attempting uninstall: PyYAML\n",
            "    Found existing installation: PyYAML 3.13\n",
            "    Uninstalling PyYAML-3.13:\n",
            "      Successfully uninstalled PyYAML-3.13\n",
            "Successfully installed PyYAML-6.0 aiohttp-3.8.1 aiosignal-1.2.0 async-timeout-4.0.2 asynctest-0.13.0 frozenlist-1.3.0 fsspec-2022.3.0 multidict-6.0.2 pyDeprecate-0.3.2 pytorch-lightning-1.6.1 torchmetrics-0.8.0 yarl-1.7.2\n"
          ]
        }
      ],
      "source": [
        "!pip install pytorch_lightning"
      ]
    },
    {
      "cell_type": "code",
      "execution_count": null,
      "metadata": {
        "colab": {
          "base_uri": "https://localhost:8080/"
        },
        "id": "Ws9y5SKK151x",
        "outputId": "2c626d00-935d-4081-8665-09d0265c7753"
      },
      "outputs": [
        {
          "output_type": "stream",
          "name": "stdout",
          "text": [
            "Collecting transformers\n",
            "  Downloading transformers-4.18.0-py3-none-any.whl (4.0 MB)\n",
            "\u001b[K     |████████████████████████████████| 4.0 MB 37.0 MB/s \n",
            "\u001b[?25hRequirement already satisfied: packaging>=20.0 in /usr/local/lib/python3.7/dist-packages (from transformers) (21.3)\n",
            "Requirement already satisfied: filelock in /usr/local/lib/python3.7/dist-packages (from transformers) (3.6.0)\n",
            "Requirement already satisfied: importlib-metadata in /usr/local/lib/python3.7/dist-packages (from transformers) (4.11.3)\n",
            "Requirement already satisfied: pyyaml>=5.1 in /usr/local/lib/python3.7/dist-packages (from transformers) (6.0)\n",
            "Collecting huggingface-hub<1.0,>=0.1.0\n",
            "  Downloading huggingface_hub-0.5.1-py3-none-any.whl (77 kB)\n",
            "\u001b[K     |████████████████████████████████| 77 kB 9.0 MB/s \n",
            "\u001b[?25hRequirement already satisfied: tqdm>=4.27 in /usr/local/lib/python3.7/dist-packages (from transformers) (4.64.0)\n",
            "Requirement already satisfied: requests in /usr/local/lib/python3.7/dist-packages (from transformers) (2.23.0)\n",
            "Collecting tokenizers!=0.11.3,<0.13,>=0.11.1\n",
            "  Downloading tokenizers-0.12.1-cp37-cp37m-manylinux_2_12_x86_64.manylinux2010_x86_64.whl (6.6 MB)\n",
            "\u001b[K     |████████████████████████████████| 6.6 MB 83.9 MB/s \n",
            "\u001b[?25hCollecting sacremoses\n",
            "  Downloading sacremoses-0.0.49-py3-none-any.whl (895 kB)\n",
            "\u001b[K     |████████████████████████████████| 895 kB 90.3 MB/s \n",
            "\u001b[?25hRequirement already satisfied: numpy>=1.17 in /usr/local/lib/python3.7/dist-packages (from transformers) (1.21.5)\n",
            "Requirement already satisfied: regex!=2019.12.17 in /usr/local/lib/python3.7/dist-packages (from transformers) (2019.12.20)\n",
            "Requirement already satisfied: typing-extensions>=3.7.4.3 in /usr/local/lib/python3.7/dist-packages (from huggingface-hub<1.0,>=0.1.0->transformers) (4.1.1)\n",
            "Requirement already satisfied: pyparsing!=3.0.5,>=2.0.2 in /usr/local/lib/python3.7/dist-packages (from packaging>=20.0->transformers) (3.0.8)\n",
            "Requirement already satisfied: zipp>=0.5 in /usr/local/lib/python3.7/dist-packages (from importlib-metadata->transformers) (3.8.0)\n",
            "Requirement already satisfied: certifi>=2017.4.17 in /usr/local/lib/python3.7/dist-packages (from requests->transformers) (2021.10.8)\n",
            "Requirement already satisfied: chardet<4,>=3.0.2 in /usr/local/lib/python3.7/dist-packages (from requests->transformers) (3.0.4)\n",
            "Requirement already satisfied: urllib3!=1.25.0,!=1.25.1,<1.26,>=1.21.1 in /usr/local/lib/python3.7/dist-packages (from requests->transformers) (1.24.3)\n",
            "Requirement already satisfied: idna<3,>=2.5 in /usr/local/lib/python3.7/dist-packages (from requests->transformers) (2.10)\n",
            "Requirement already satisfied: six in /usr/local/lib/python3.7/dist-packages (from sacremoses->transformers) (1.15.0)\n",
            "Requirement already satisfied: click in /usr/local/lib/python3.7/dist-packages (from sacremoses->transformers) (7.1.2)\n",
            "Requirement already satisfied: joblib in /usr/local/lib/python3.7/dist-packages (from sacremoses->transformers) (1.1.0)\n",
            "Installing collected packages: tokenizers, sacremoses, huggingface-hub, transformers\n",
            "Successfully installed huggingface-hub-0.5.1 sacremoses-0.0.49 tokenizers-0.12.1 transformers-4.18.0\n",
            "Collecting dataset\n",
            "  Downloading dataset-1.5.2-py2.py3-none-any.whl (18 kB)\n",
            "Collecting banal>=1.0.1\n",
            "  Downloading banal-1.0.6-py2.py3-none-any.whl (6.1 kB)\n",
            "Collecting alembic>=0.6.2\n",
            "  Downloading alembic-1.7.7-py3-none-any.whl (210 kB)\n",
            "\u001b[K     |████████████████████████████████| 210 kB 46.5 MB/s \n",
            "\u001b[?25hRequirement already satisfied: sqlalchemy>=1.3.2 in /usr/local/lib/python3.7/dist-packages (from dataset) (1.4.35)\n",
            "Requirement already satisfied: importlib-metadata in /usr/local/lib/python3.7/dist-packages (from alembic>=0.6.2->dataset) (4.11.3)\n",
            "Requirement already satisfied: importlib-resources in /usr/local/lib/python3.7/dist-packages (from alembic>=0.6.2->dataset) (5.6.0)\n",
            "Collecting Mako\n",
            "  Downloading Mako-1.2.0-py3-none-any.whl (78 kB)\n",
            "\u001b[K     |████████████████████████████████| 78 kB 1.4 MB/s \n",
            "\u001b[?25hRequirement already satisfied: greenlet!=0.4.17 in /usr/local/lib/python3.7/dist-packages (from sqlalchemy>=1.3.2->dataset) (1.1.2)\n",
            "Requirement already satisfied: zipp>=0.5 in /usr/local/lib/python3.7/dist-packages (from importlib-metadata->alembic>=0.6.2->dataset) (3.8.0)\n",
            "Requirement already satisfied: typing-extensions>=3.6.4 in /usr/local/lib/python3.7/dist-packages (from importlib-metadata->alembic>=0.6.2->dataset) (4.1.1)\n",
            "Requirement already satisfied: MarkupSafe>=0.9.2 in /usr/local/lib/python3.7/dist-packages (from Mako->alembic>=0.6.2->dataset) (2.0.1)\n",
            "Installing collected packages: Mako, banal, alembic, dataset\n",
            "Successfully installed Mako-1.2.0 alembic-1.7.7 banal-1.0.6 dataset-1.5.2\n"
          ]
        }
      ],
      "source": [
        "!pip install transformers\n",
        "!pip install dataset"
      ]
    },
    {
      "cell_type": "code",
      "execution_count": null,
      "metadata": {
        "id": "y85soLyy1gaO"
      },
      "outputs": [],
      "source": [
        ""
      ]
    },
    {
      "cell_type": "code",
      "execution_count": null,
      "metadata": {
        "id": "hJoOCSPSDqC5"
      },
      "outputs": [],
      "source": [
        "import pickle\n",
        "with open('./drive/MyDrive/Data/English_TGD2_TGD_All_data.pkl','rb') as file:\n",
        "    TGD_All_data=pickle.load(file)\n"
      ]
    },
    {
      "cell_type": "markdown",
      "metadata": {
        "id": "2we-aun2G_MG"
      },
      "source": [
        "#Topic prediction model"
      ]
    },
    {
      "cell_type": "code",
      "execution_count": null,
      "metadata": {
        "id": "rQLj3h_y6uEq"
      },
      "outputs": [],
      "source": [
        "import os\n",
        "import math\n",
        "\n",
        "import torch\n",
        "from torch.nn import BCELoss,BCEWithLogitsLoss\n",
        "from torch.utils.data import TensorDataset, DataLoader, RandomSampler, SequentialSampler\n",
        "from transformers import AdamW, ElectraTokenizer, ElectraModel, ElectraConfig\n",
        "\n",
        "from keras.preprocessing.sequence import pad_sequences\n",
        "from sklearn.model_selection import train_test_split\n",
        "import numpy as np\n",
        "import pandas as pd\n",
        "from tqdm import tqdm, trange\n",
        "import matplotlib.pyplot as plt\n",
        "%matplotlib inline"
      ]
    },
    {
      "cell_type": "code",
      "execution_count": null,
      "metadata": {
        "id": "N16rMFEigwb-"
      },
      "outputs": [],
      "source": [
        "device =torch.device('cuda') if torch.cuda.is_available() else torch.device('cpu') \n"
      ]
    },
    {
      "cell_type": "code",
      "execution_count": null,
      "metadata": {
        "colab": {
          "base_uri": "https://localhost:8080/",
          "height": 181,
          "referenced_widgets": [
            "bff47d6049664231a8f6af0e363374c2",
            "1fd1824407e64b3eb884880e6657499e",
            "8ad78031ae294b3a9cad0f1106dc039a",
            "546b5c323a1f41eca1e0f62ae51e300c",
            "947a2a4d0f3041e0a5ece8a01c0787ca",
            "bf3f98486a3b431eac5d416e1bf4c6df",
            "d794c4e8f0c843dba3ab74707039ea49",
            "3ee284eb40ab44c69fd25d9206f65857",
            "0934f23cf4f446c58532c3e526189aa5",
            "bb9fc678f49649cdac0e66eae2a7740c",
            "0719adef3d9e44d78e356f6876464b28",
            "76c3f63d0c7a4e589b4b38a2e2047b36",
            "a6954639138347a6b625d3f69d79831c",
            "531bba3ce998410795a300a2b867b467",
            "45e6094198eb4a9683c2ef4fa60e9379",
            "6ec439122f8b4f2185cf40d695dfca6c",
            "d10b80fbcd92427eafebf5f6f14136ec",
            "90047a0f4a394699998a0168fbe4390b",
            "5170e484edaf464999874625caa8b30b",
            "d807acaab6904a88a6f1af1fd1285738",
            "d19c812bbcfc42c38be48bb31336e3c1",
            "dc8f5bea860c494eab7c883181a5d029"
          ]
        },
        "id": "YmCZ94t4XqM2",
        "outputId": "b5bc249f-0e3c-47f0-80ef-07a37ff490e3"
      },
      "outputs": [
        {
          "output_type": "display_data",
          "data": {
            "text/plain": [
              "Downloading:   0%|          | 0.00/665 [00:00<?, ?B/s]"
            ],
            "application/vnd.jupyter.widget-view+json": {
              "version_major": 2,
              "version_minor": 0,
              "model_id": "bff47d6049664231a8f6af0e363374c2"
            }
          },
          "metadata": {}
        },
        {
          "output_type": "display_data",
          "data": {
            "text/plain": [
              "Downloading:   0%|          | 0.00/51.7M [00:00<?, ?B/s]"
            ],
            "application/vnd.jupyter.widget-view+json": {
              "version_major": 2,
              "version_minor": 0,
              "model_id": "76c3f63d0c7a4e589b4b38a2e2047b36"
            }
          },
          "metadata": {}
        },
        {
          "output_type": "stream",
          "name": "stderr",
          "text": [
            "Some weights of the model checkpoint at google/electra-small-discriminator were not used when initializing ElectraModel: ['discriminator_predictions.dense.weight', 'discriminator_predictions.dense_prediction.weight', 'discriminator_predictions.dense_prediction.bias', 'discriminator_predictions.dense.bias']\n",
            "- This IS expected if you are initializing ElectraModel from the checkpoint of a model trained on another task or with another architecture (e.g. initializing a BertForSequenceClassification model from a BertForPreTraining model).\n",
            "- This IS NOT expected if you are initializing ElectraModel from the checkpoint of a model that you expect to be exactly identical (initializing a BertForSequenceClassification model from a BertForSequenceClassification model).\n"
          ]
        }
      ],
      "source": [
        "pre_tained_model=ElectraModel.from_pretrained('google/electra-small-discriminator')"
      ]
    },
    {
      "cell_type": "code",
      "execution_count": null,
      "metadata": {
        "id": "u48iKUJIBdj9"
      },
      "outputs": [],
      "source": [
        "#model_save_path_topic=\"drive/MyDrive/Models/TopicPrediction/TGD_Classification_Concatenate_Both_Topic_Entent_Sigmoid_Less_Data.bin\" # lat utterance\n",
        "model_save_path_topic=\"drive/MyDrive/Models/TopicPrediction/TGD_Classification_Concatenate_Both_Topic_Entent_Sigmoid.bin\" # lat utterance\n",
        "tokenizer_topic_path=\"drive/MyDrive/Models/TopicPrediction/Tokenizer/\" # lat utterance\n"
      ]
    },
    {
      "cell_type": "code",
      "execution_count": null,
      "metadata": {
        "id": "GumoKoCkyNJV"
      },
      "outputs": [],
      "source": [
        "tokenizer_topic=ElectraTokenizer.from_pretrained(tokenizer_topic_path)"
      ]
    },
    {
      "cell_type": "code",
      "execution_count": null,
      "metadata": {
        "colab": {
          "base_uri": "https://localhost:8080/"
        },
        "id": "1kvQP09Oz7Az",
        "outputId": "5d56a02e-a1a3-4c30-df98-f96c6074292d"
      },
      "outputs": [
        {
          "output_type": "execute_result",
          "data": {
            "text/plain": [
              "Embedding(31238, 128)"
            ]
          },
          "metadata": {},
          "execution_count": 11
        }
      ],
      "source": [
        "\n",
        "pre_tained_model.resize_token_embeddings(len(tokenizer_topic)) "
      ]
    },
    {
      "cell_type": "code",
      "execution_count": null,
      "metadata": {
        "id": "uGXnGiLWrPDi"
      },
      "outputs": [],
      "source": [
        "import pickle \n",
        "with open('drive/MyDrive/Models/TopicPrediction/topic_list.pkl','rb') as f :\n",
        "  topic_list=pickle.load(f)"
      ]
    },
    {
      "cell_type": "code",
      "execution_count": null,
      "metadata": {
        "id": "31RIu85cVNx3"
      },
      "outputs": [],
      "source": [
        "class ElectraForMultiLabelSequenceClassification(torch.nn.Module):\n",
        "  \n",
        "  def __init__(self, pre_trained_model,num_labels_topics=2,num_labels_entent=2):\n",
        "    super(ElectraForMultiLabelSequenceClassification, self).__init__()\n",
        "    self.num_labels_topics = num_labels_topics\n",
        "    self.electra = pre_trained_model#Use the pretrqined model\n",
        "    self.layer1 = torch.nn.Linear(256, 1000)# add a linear layer on top of the encoding  discriminator layers of Electra \n",
        "    self.layer2  = torch.nn.Linear(1000, 2000)# add a linear layer on top of the encoding  discriminator layers of Electra \n",
        "    self.layer3  = torch.nn.Linear(2000, 3000)#change it to 5000 # add a linear layer on top of the encoding  discriminator layers of Electra \n",
        "    self.classifier_topics = torch.nn.Linear(3000, self.num_labels_topics)# add a linear layer on top of the encoding  discriminator layers of Electra \n",
        "    self.drop=torch.nn.Dropout(p=0.4)\n",
        "    self.leaky=torch.nn.ReLU()\n",
        "\n",
        "    torch.nn.init.xavier_normal_(self.classifier_topics.weight) #initialise the weight of th linear layer\n",
        "    torch.nn.init.xavier_normal_(self.layer1.weight) #initialise the weight of th linear layer\n",
        "    torch.nn.init.xavier_normal_(self.layer2.weight) #initialise the weight of th linear layer\n",
        "    torch.nn.init.xavier_normal_(self.layer3.weight) #initialise the weight of th linear layer\n",
        "\n",
        "  def forward(self, input_ids, token_type_ids=None,\\\n",
        "              attention_mask=None, labels_topic=None,labels_entent=None):\n",
        "    # last hidden layer\n",
        "    last_hidden_state = self.electra(input_ids=input_ids,\\\n",
        "                                   attention_mask=attention_mask,\\\n",
        "                                   token_type_ids=token_type_ids)\n",
        "    # pool the outputs into a mean vector\n",
        "    mean_last_hidden_state = self.pool_hidden_state(last_hidden_state)\n",
        "    l1 = self.leaky(self.layer1(mean_last_hidden_state))\n",
        "    l1=self.drop(l1)\n",
        "    l2 = self.leaky(self.layer2(l1))\n",
        "    l3 = self.leaky(self.layer3(l2))\n",
        "    l3=self.drop(l3)\n",
        "    logits_topics = torch.sigmoid(self.classifier_topics(l3))\n",
        "        \n",
        "    if labels_topic is not None:\n",
        "      loss_fct_topic = BCELoss()\n",
        "      loss1 = loss_fct_topic(logits_topics.view(-1, self.num_labels_topics),\\\n",
        "                      labels_topic.view(-1, self.num_labels_topics))\n",
        "      \n",
        "      \n",
        "      return loss1\n",
        "    else:\n",
        "      return logits_topics\n",
        "\n",
        "\n",
        "  def pool_hidden_state(self, last_hidden_state):\n",
        "    \"\"\"\n",
        "    Pool the output vectors into a single mean vector \n",
        "    \"\"\"\n",
        "    last_hidden_state = last_hidden_state[0]\n",
        "    mean_last_hidden_state = torch.mean(last_hidden_state, 1)\n",
        "    return mean_last_hidden_state\n",
        "    \n",
        "  \n",
        "\n",
        "# len(Y_train[0]) = 6\n"
      ]
    },
    {
      "cell_type": "code",
      "execution_count": null,
      "metadata": {
        "colab": {
          "base_uri": "https://localhost:8080/"
        },
        "id": "khzjKA6Z-z6C",
        "outputId": "96f52f10-ce48-4309-8b58-a5616de70591"
      },
      "outputs": [
        {
          "output_type": "execute_result",
          "data": {
            "text/plain": [
              "<All keys matched successfully>"
            ]
          },
          "metadata": {},
          "execution_count": 14
        }
      ],
      "source": [
        "#This code is borrowed from this link : https://towardsdatascience.com/multi-label-text-classification-with-xlnet-b5f5755302df\n",
        "\n",
        "checkpoint = torch.load(model_save_path_topic)\n",
        "model_state_dict_topic = checkpoint['state_dict']\n",
        "model_topic = ElectraForMultiLabelSequenceClassification(pre_tained_model,num_labels_topics=model_state_dict_topic[\"classifier_topics.weight\"].size()[0])\n",
        "model_topic.load_state_dict(model_state_dict_topic)"
      ]
    },
    {
      "cell_type": "code",
      "execution_count": null,
      "metadata": {
        "id": "UrB3xNiqX8fJ"
      },
      "outputs": [],
      "source": [
        "#This code is borrowed from this link : https://towardsdatascience.com/multi-label-text-classification-with-xlnet-b5f5755302df\n",
        "\n",
        "def generate_predictions_topic(model, features,mask, num_labels, device=\"cpu\", batch_size=32):\n",
        "  num_iter = math.ceil(features.shape[0]/batch_size)\n",
        "  \n",
        "  pred_probs = np.array([]).reshape(0, num_labels)\n",
        "  \n",
        "  model.to(device)\n",
        "  model.eval()\n",
        "  \n",
        "  for i in range(num_iter):\n",
        "    X = features[i*batch_size:(i+1)*batch_size,:]\n",
        "    masks = mask[i*batch_size:(i+1)*batch_size,:]\n",
        "    X = X.to(device)\n",
        "    masks = masks.to(device)\n",
        "    with torch.no_grad():\n",
        "      logits = model(input_ids=X, attention_mask=masks)\n",
        "      #logits = logits.sigmoid().detach().cpu().numpy()\n",
        "      logits = logits.detach().cpu().numpy()\n",
        "      pred_probs = np.vstack([pred_probs, logits])\n",
        "  \n",
        "  return pred_probs\n",
        "  \n"
      ]
    },
    {
      "cell_type": "code",
      "execution_count": null,
      "metadata": {
        "id": "_qWF37be1JmT"
      },
      "outputs": [],
      "source": [
        "def tokenize_inputs_topic(liste, tokenizer, num_embeddings=512):\n",
        "    \n",
        "    outputs = tokenizer.batch_encode_plus(liste,truncation=True,return_tensors='pt',return_attention_mask=True,max_length=512, padding='max_length')\n",
        "    # convert tokenized text into numeric ids for the appropriate LM\n",
        "    input_ids =outputs.input_ids\n",
        "    \n",
        "\n",
        "    return (input_ids,outputs.attention_mask)"
      ]
    },
    {
      "cell_type": "code",
      "execution_count": null,
      "metadata": {
        "id": "wokzteQ194fZ"
      },
      "outputs": [],
      "source": [
        "def get_all_prediction(list_text,topic_list):\n",
        "  preds_vector=[]\n",
        "  preds_word=[]\n",
        "  for text in list_text:\n",
        "    test_input_ids,test_attention_masks=tokenize_inputs_topic([text], tokenizer_topic, num_embeddings=512)\n",
        "    pred_probs = generate_predictions_topic(model_topic, test_input_ids,test_attention_masks, 2464, device=device, batch_size=32)\n",
        "    prob=np.round(pred_probs)\n",
        "    prob=list(prob[0])\n",
        "    preds_vector.append(prob)\n",
        "\n",
        "    pred_probs=prob\n",
        "    indexes=[i for i, v in enumerate(prob) if v==1]\n",
        "    predicted_topics=\" \".join(topic_list[x] for x in indexes)\n",
        "    predicted_topics=\" <topic> \"+predicted_topics+\" </topic>\"\n",
        "    preds_word.append(predicted_topics)\n",
        "  \n",
        "  return preds_vector,predicted_topics\n",
        "  \n",
        "#preds,preds_word=get_all_prediction(test_data,topic_list)"
      ]
    },
    {
      "cell_type": "code",
      "execution_count": null,
      "metadata": {
        "id": "089ppqyQjWrG"
      },
      "outputs": [],
      "source": [
        ""
      ]
    },
    {
      "cell_type": "code",
      "execution_count": null,
      "metadata": {
        "colab": {
          "base_uri": "https://localhost:8080/",
          "height": 35
        },
        "id": "tGS7LHsWmm9E",
        "outputId": "028ded32-7b44-4af7-c6b8-0d2347c4ca5b"
      },
      "outputs": [
        {
          "output_type": "execute_result",
          "data": {
            "text/plain": [
              "' <topic> moving talk </topic>'"
            ],
            "application/vnd.google.colaboratory.intrinsic+json": {
              "type": "string"
            }
          },
          "metadata": {},
          "execution_count": 18
        }
      ],
      "source": [
        "t=\"<seeker> how about you recommend me a moving movie first ?\"\n",
        "preds,preds_word=get_all_prediction([t],topic_list)\n",
        "preds_word"
      ]
    },
    {
      "cell_type": "code",
      "execution_count": null,
      "metadata": {
        "id": "eM8erREElPRa"
      },
      "outputs": [],
      "source": [
        ""
      ]
    },
    {
      "cell_type": "markdown",
      "metadata": {
        "id": "dJYKONJ6Ig-2"
      },
      "source": [
        "#Profile generation model"
      ]
    },
    {
      "cell_type": "code",
      "execution_count": null,
      "metadata": {
        "id": "h86vCWe7Iitn"
      },
      "outputs": [],
      "source": [
        "from transformers import (\n",
        "    AdamW,\n",
        "    T5ForConditionalGeneration,\n",
        "    T5TokenizerFast as T5Tokenizer)"
      ]
    },
    {
      "cell_type": "code",
      "execution_count": null,
      "metadata": {
        "id": "23ciFrWQEYM0"
      },
      "outputs": [],
      "source": [
        "path_tokenizer=\"./drive/MyDrive/Summarization/PresonaChat-ProfileGeneration_whith_t5/tokenizer\"\n",
        "path_model=\"./drive/MyDrive/Summarization/PresonaChat-ProfileGeneration_whith_t5/model\""
      ]
    },
    {
      "cell_type": "code",
      "execution_count": null,
      "metadata": {
        "id": "GVaSPFwHEYM1"
      },
      "outputs": [],
      "source": [
        "tokenizer_t5=T5Tokenizer.from_pretrained(path_tokenizer)\n",
        "trained_model_t5=T5ForConditionalGeneration.from_pretrained(path_model)"
      ]
    },
    {
      "cell_type": "code",
      "execution_count": null,
      "metadata": {
        "id": "-6d_JJczJJYA"
      },
      "outputs": [],
      "source": [
        "text=\"hello what are you doing today ? i am good , i just got off work and tired , i have two jobs . i just got done watching a horror movie i rather read , i've read about 20 books this year . wow ! i do love a good horror movie . loving this cooler weather but a good movie is always good . yes ! my son is in junior high and i just started letting him watch them too i work in the movies as well . neat ! ! i used to work in the human services field yes it is neat , i stunt double , it is so much fun and hard work . yes i bet you can get hurt . my wife works and i stay at home nice , i only have one parent so now i help out my mom . i bet she appreciates that very much . she raised me right , i am just like her . my dad was always busy working at home depot\""
      ]
    },
    {
      "cell_type": "code",
      "execution_count": null,
      "metadata": {
        "id": "cSYP0R-QEYM1"
      },
      "outputs": [],
      "source": [
        "def summarize(text,trained_model,tokenizer_t5):\n",
        "  text_encoding=tokenizer_t5(text,padding=\"max_length\",max_length=512,truncation=True,return_attention_mask=True,return_tensors=\"pt\")\n",
        "  generated_ids=trained_model.generate(\n",
        "      input_ids=text_encoding[\"input_ids\"],\n",
        "      attention_mask=text_encoding[\"attention_mask\"],\n",
        "      max_length=150, \n",
        "      num_beams=15,\n",
        "      early_stopping=True,\n",
        "      repetition_penalty=2.5,\n",
        "      length_penalty=1.0,\n",
        "  )\n",
        "  preds=[tokenizer_t5.decode(gen_id,skip_special_tokens=True,clean_up_tokenization_space=True) for gen_id in generated_ids]\n",
        "  return \" \".join(preds)"
      ]
    },
    {
      "cell_type": "markdown",
      "metadata": {
        "id": "rDdAfGEAKtVB"
      },
      "source": [
        "# Personality prediction model"
      ]
    },
    {
      "cell_type": "code",
      "execution_count": null,
      "metadata": {
        "colab": {
          "base_uri": "https://localhost:8080/",
          "height": 81,
          "referenced_widgets": [
            "bab3721117d74de587e935df3e7b6ead",
            "ef5af548ae364ded88c147cfb9a23842",
            "263c7b11fc7345e2a8f446bd3f2c1b30",
            "0af8a338ab5242d4aa6934767b9a4e70",
            "71f1e64da1d64af897e011fa36a0e025",
            "efef0c4f19814e1388d27e4c8637cdcb",
            "0a358deaba4e415486af6b262d4bf390",
            "517712a3585c43dfa91e270b3eccb1bc",
            "0c384cfc64b94191b197ff3440659b38",
            "051be8c7ce1b47f6864371016cbf80bd",
            "c2f5bd5ef3984afebe12c75366ff6493",
            "78362fd309434a93b4a20d858d2b7410",
            "0e8070a9927640d881b720450edca6bc",
            "a59e9a47b05b4a29a46373adc6738d36",
            "df2417e06892493aa324c12039481fc6",
            "0918cb9cb2cb4c67b9706588007d49b1",
            "b5f5b6d2acd9479cbf549252bd40f945",
            "a040c2a5694641e596268630ca024de3",
            "9c10b7424ff74d60b5fdf13592e91e4d",
            "691d85f5ad65419ca76db0532e87d52a",
            "417a4aeccfc746b48bda9f5554cf80a7",
            "d554363235804bbf9c787d5671a22cb2"
          ]
        },
        "id": "SbFJsjo6KydH",
        "outputId": "b3fa66e7-16de-446d-cb22-0b2edd111b48"
      },
      "outputs": [
        {
          "output_type": "display_data",
          "data": {
            "text/plain": [
              "Downloading:   0%|          | 0.00/226k [00:00<?, ?B/s]"
            ],
            "application/vnd.jupyter.widget-view+json": {
              "version_major": 2,
              "version_minor": 0,
              "model_id": "bab3721117d74de587e935df3e7b6ead"
            }
          },
          "metadata": {}
        },
        {
          "output_type": "display_data",
          "data": {
            "text/plain": [
              "Downloading:   0%|          | 0.00/29.0 [00:00<?, ?B/s]"
            ],
            "application/vnd.jupyter.widget-view+json": {
              "version_major": 2,
              "version_minor": 0,
              "model_id": "78362fd309434a93b4a20d858d2b7410"
            }
          },
          "metadata": {}
        }
      ],
      "source": [
        "model_name='google/electra-small-discriminator'\n",
        "\n",
        "tokenizer_personality = ElectraTokenizer.from_pretrained(model_name, do_lower_case=True)"
      ]
    },
    {
      "cell_type": "code",
      "execution_count": null,
      "metadata": {
        "id": "FS-DUk1gOQ90"
      },
      "outputs": [],
      "source": [
        "from torch.nn import BCEWithLogitsLoss,MSELoss\n"
      ]
    },
    {
      "cell_type": "code",
      "execution_count": null,
      "metadata": {
        "id": "Qw4vZGVWMQr_"
      },
      "outputs": [],
      "source": [
        "class ElectraSharedWeights_Multi_Task(torch.nn.Module):\n",
        "  \n",
        "  def __init__(self, r_num_labels=2,c_num_labels=2):\n",
        "    super(ElectraSharedWeights_Multi_Task, self).__init__()\n",
        "    self.c_num_labels = c_num_labels#The number of the classification labels whiche are 4 labels to use them as the final size for  the final linear layer\n",
        "    self.r_num_labels = r_num_labels#The number of the regression labels whiche are 5 labelsto use them as the final size for  the final linear layer\n",
        "    self.electra = ElectraModel.from_pretrained(model_name)#Instanciate  the pretrained model\n",
        "    self.layer1 = torch.nn.Linear(256, 150)# add The first linear layer on top of the encoding  discriminator layers of Electra \n",
        "    self.layer2  = torch.nn.Linear(150, 100)# add the second linear layer on top of the first one\n",
        "    self.layer3  = torch.nn.Linear(100, 50)# add the third linear layer on top of the second one\n",
        "    #self.normilizer1  = torch.nn.BatchNorm1d(256)# add the normalizer to the electra values\n",
        "    #self.normilizer2  = torch.nn.BatchNorm1d(100)# add the  normilizer layer onto the second layer values\n",
        "    #All the previous layers will be shared by the last separate two layers (classifier layer and regressor layer)\n",
        "\n",
        "    self.classifier = torch.nn.Linear(50, c_num_labels)# add the final linear layer for classification on top of the third layer   \n",
        "    self.regressor = torch.nn.Linear(50, r_num_labels)# add the final linear layer for regression on top of the third layer \n",
        "    self.drop=torch.nn.Dropout(p=0.4)# Define a dropout layer to overpass the overfitting during the training phase\n",
        "    self.leaky=torch.nn.LeakyReLU()# Use the Leaky Relu activation function as the ;ain activation function for the shared layers\n",
        "\n",
        "\n",
        "\n",
        "    #In order to train our models the weights need to be initialized, because if they were at 0, then the model will not be optimized so we need to\n",
        "    # inilize them. The most popular way to inisialize the weights is to use the Xavier initializer\n",
        "    torch.nn.init.xavier_normal_(self.layer1.weight) #initialise the weight of the first linear layer\n",
        "    torch.nn.init.xavier_normal_(self.layer2.weight) #initialise the weight of the second linear layer\n",
        "    torch.nn.init.xavier_normal_(self.layer3.weight) #initialise the weight of the third linear layer\n",
        "    torch.nn.init.xavier_normal_(self.classifier.weight) #initialise the weight of the classification layer\n",
        "    torch.nn.init.xavier_normal_(self.regressor.weight) #initialise the weight of th regression layer\n",
        "\n",
        "  def forward(self, input_ids, token_type_ids=None,\\\n",
        "              attention_mask=None, labels_r=None,labels_c=None):\n",
        "    #Now that we defined the architecture and initialized the weights we need to define the forward function\n",
        "    #and how each defined variable will be used in the architecture\n",
        "\n",
        "    # last hidden layer\n",
        "    #for ech row we will use the ELECTRa model to create an embedding vector given the tokenized input\n",
        "    Electra_hidding_state = self.electra(input_ids=input_ids,\\\n",
        "                                   attention_mask=attention_mask,\\\n",
        "                                   token_type_ids=token_type_ids)\n",
        "    contextual_embedding = Electra_hidding_state[0]\n",
        "    contextual_embedding = torch.mean(contextual_embedding, 1)\n",
        "    #contextual_embedding=self.normilizer1(contextual_embedding)\n",
        "    # pool the outputs into a mean vector\n",
        "    cl1 = self.leaky(self.layer1(contextual_embedding))\n",
        "    cl1=self.drop(cl1)\n",
        "    cl2 = self.leaky(self.layer2(cl1))\n",
        "    #cl2 = self.normilizer2(cl2)\n",
        "    cl3 = self.leaky(self.layer3(cl2))\n",
        "    cl3=self.drop(cl3)\n",
        "\n",
        "    #All the previous weights will be shared by both last layers (classifier and regresor) \n",
        "    clogits = self.classifier(cl3)# The classification results(MBTI Labels) given the shared weights\n",
        "\n",
        "    rlogits = self.regressor(cl3)# The regression results(BIG5 labels) given the shared weights\n",
        "\n",
        "\n",
        "    # Due to the fact that we have a multi-task learning model then we will have two different losses\n",
        "    # one to compute the classification loss and the other is to compute the regression loss\n",
        "    # We will use the BCE version for the classification loss and the MSE for the regression loss\n",
        "        \n",
        "    closs_fct =BCEWithLogitsLoss()# Classification loss\n",
        "    rloss_fct = MSELoss()# Regression loss\n",
        "\n",
        "    if ((labels_r is not None) and (labels_c is not None)):\n",
        "\n",
        "  \n",
        "      closs = closs_fct(clogits.view(-1, self.c_num_labels),\\\n",
        "                        labels_c.view(-1, self.c_num_labels))\n",
        "      rloss=rloss_fct(rlogits.view(-1, self.r_num_labels),\\\n",
        "                        labels_r.view(-1, self.r_num_labels))\n",
        "      #Because a model need to have one loss function to be trained on and be cause we need to minimise both regression and classification loss\n",
        "      #we create a combination of the regression loss and the classification loss by summing them and deviding by 2\n",
        "      #By combining both losses  into a one loss we will force the model to minimize the combination loss wich will lead to the minimization of the \n",
        "      #regression and the classification loss (minimizing their sum will lead to minimizing their original values)\n",
        "      loss=(rloss+closs)/2\n",
        "      return loss\n",
        "    else:\n",
        "      return clogits,rlogits\n",
        "\n"
      ]
    },
    {
      "cell_type": "code",
      "execution_count": null,
      "metadata": {
        "id": "_glEZ1euMw-e"
      },
      "outputs": [],
      "source": [
        "model_save_path=\"./drive/MyDrive/Models/Pandora_Personality/SeedDoubleHead_SharedWeights_20epochs_Electra.bin\""
      ]
    },
    {
      "cell_type": "code",
      "execution_count": null,
      "metadata": {
        "colab": {
          "base_uri": "https://localhost:8080/"
        },
        "id": "SEkLbrn0wCmT",
        "outputId": "192bac5b-8370-4f16-ee83-922ffb7458f3"
      },
      "outputs": [
        {
          "output_type": "stream",
          "name": "stderr",
          "text": [
            "Some weights of the model checkpoint at google/electra-small-discriminator were not used when initializing ElectraModel: ['discriminator_predictions.dense.weight', 'discriminator_predictions.dense_prediction.weight', 'discriminator_predictions.dense_prediction.bias', 'discriminator_predictions.dense.bias']\n",
            "- This IS expected if you are initializing ElectraModel from the checkpoint of a model trained on another task or with another architecture (e.g. initializing a BertForSequenceClassification model from a BertForPreTraining model).\n",
            "- This IS NOT expected if you are initializing ElectraModel from the checkpoint of a model that you expect to be exactly identical (initializing a BertForSequenceClassification model from a BertForSequenceClassification model).\n"
          ]
        },
        {
          "output_type": "execute_result",
          "data": {
            "text/plain": [
              "<All keys matched successfully>"
            ]
          },
          "metadata": {},
          "execution_count": 28
        }
      ],
      "source": [
        "#This code is borrowed from this link : https://towardsdatascience.com/multi-label-text-classification-with-xlnet-b5f5755302df\n",
        "\n",
        "checkpoint = torch.load(model_save_path)\n",
        "model_state_dict = checkpoint['state_dict']\n",
        "model_personality = ElectraSharedWeights_Multi_Task(5,4)\n",
        "model_personality.load_state_dict(model_state_dict)"
      ]
    },
    {
      "cell_type": "code",
      "execution_count": null,
      "metadata": {
        "id": "snHLwolINIO6"
      },
      "outputs": [],
      "source": [
        "def Input_Tokenization_personality(liste, tokenizer):\n",
        "    \n",
        "    outputs = tokenizer.batch_encode_plus(liste,padding=True,truncation=True,return_tensors='pt',return_attention_mask=True)    \n",
        "\n",
        "    return (outputs.input_ids,outputs.attention_mask)"
      ]
    },
    {
      "cell_type": "code",
      "execution_count": null,
      "metadata": {
        "id": "4pXalaLbMuER"
      },
      "outputs": [],
      "source": [
        "#This code is borrowed from this link : https://towardsdatascience.com/multi-label-text-classification-with-xlnet-b5f5755302df\n",
        "\n",
        "def Predict(model,tokenizer, text, num_label_c,num_label_r, device=\"cpu\", batch_size=32):\n",
        "  features,mask=Input_Tokenization_personality([text], tokenizer)\n",
        "  num_iter = math.ceil(features.shape[0]/batch_size)# define the number of iteration in all the data by batches\n",
        "  features.to(device)\n",
        "  mask.to(device)\n",
        "  model.eval() #Indicate that we will use the model to evaluation purposes\n",
        "\n",
        "  c_pred_probs = np.array([]).reshape(0, num_label_c)# Create dummpy classification predictions 'all 0' vectors that we will modify\n",
        "  r_pred_probs = np.array([]).reshape(0, num_label_r)# Create dummpy regression predictions 'all 0' vectors that we will modify\n",
        "  model.to(device)\n",
        "  d={}\n",
        "  \n",
        "  for i in range(num_iter):# for each batch\n",
        "    X = features[i*batch_size:(i+1)*batch_size,:]#Get the features of the passed data\n",
        "    masks = mask[i*batch_size:(i+1)*batch_size,:]#Get the masks of the passed data\n",
        "    X = X.to(device)#transfer them to the device 'exmp cuda'\n",
        "    masks = masks.to(device)#transfer them to the device 'exmp cuda'\n",
        "    with torch.no_grad():\n",
        "      logits_c,logits_r = model(input_ids=X, attention_mask=masks) # predict the values of the passed batch of data\n",
        "      #logits = logits.sigmoid().detach().cpu().numpy()\n",
        "      logits_c = logits_c.sigmoid().detach().cpu().numpy()# for the classification head we will aplly a sigmoid function as like we said the classification labels are binary labels\n",
        "      c_pred_probs = np.vstack([c_pred_probs, logits_c])# stack them to the pr-defined dummy classification variable\n",
        "      logits_r = logits_r.detach().cpu().numpy()# For the regression values wi well use directly the linear layer output because the regression labels are real values\n",
        "      r_pred_probs = np.vstack([r_pred_probs, logits_r])# stack them to the pr-defined dummy regression variable\n",
        "  d['class_pred']=np.round(c_pred_probs) # to get binary values for the sigmoids probability values we will use the .round() function for the classification results\n",
        "  d['reg_pred']=r_pred_probs\n",
        "  \n",
        "  return d\n",
        "  \n"
      ]
    },
    {
      "cell_type": "markdown",
      "metadata": {
        "id": "uUz9MqvTlPgJ"
      },
      "source": [
        "#Next movie to watch"
      ]
    },
    {
      "cell_type": "code",
      "execution_count": null,
      "metadata": {
        "id": "fkoZb1qerU6L"
      },
      "outputs": [],
      "source": [
        "from transformers import ElectraTokenizerFast, ElectraForMaskedLM,ElectraConfig, ElectraTokenizer\n",
        "\n",
        "from transformers import DistilBertTokenizer, DistilBertForMaskedLM\n"
      ]
    },
    {
      "cell_type": "code",
      "execution_count": null,
      "metadata": {
        "id": "yzZEjrdRlR0n"
      },
      "outputs": [],
      "source": [
        "class Electra4RecWithTGD_OnlyNextItemToPredict(torch.nn.Module):\n",
        "  \n",
        "  def __init__(self):\n",
        "    super(Electra4RecWithTGD_OnlyNextItemToPredict, self).__init__()\n",
        "    \n",
        "    model=DistilBertForMaskedLM.from_pretrained('distilbert-base-uncased')\n",
        "    model.resize_token_embeddings(len(tokenizer_4rec))\n",
        "\n",
        "\n",
        "    model_mask_last=DistilBertForMaskedLM.from_pretrained('distilbert-base-uncased')\n",
        "    model_mask_last.resize_token_embeddings(len(tokenizer_4rec))\n",
        "\n",
        "\n",
        "    self.electra = model\n",
        "    self.electra_mask_last = model_mask_last\n",
        "\n",
        "\n",
        "\n",
        "   \n",
        "   \n",
        "  def forward(self, input_ids, token_type_ids=None,attention_mask=None, labels=None,input_ids_mask_last=None, token_type_ids_mask_last=None,attention_mask_mask_last=None, labels_mask_last=None):\n",
        "    #Now that we defined the architecture and initialized the weights we need to define the forward function\n",
        "    #and how each defined variable will be used in the architecture\n",
        "    \n",
        "    \n",
        "    \n",
        "    position_ids=torch.arange(start=0, end = input_ids.shape[1], step=1).expand_as(input_ids).to(device)\n",
        "    \n",
        "    \n",
        "    #position_sinusoidal_embeddings = np.array([[pos / np.power(10000, 2 * (j // 2) / input_ids.shape[1]) for j in range(input_ids.shape[1])] for pos in range(input_ids.shape[0])])\n",
        "    #position_ids=position_sinusoidal_embeddings\n",
        "   \n",
        "   \n",
        "    # last hidden layer\n",
        "    #for ech row we will use the ELECTRa model to create an embedding vector given the tokenized input\n",
        "\n",
        "\n",
        "    #Electra predfoned positions\n",
        "\n",
        "    MLM_outputs = self.electra(input_ids, attention_mask=attention_mask,labels=labels)\n",
        "    self.electra_mask_last.state_dict()['vocab_layer_norm.bias']=self.electra.state_dict()['vocab_layer_norm.bias']\n",
        "\n",
        "    MLM_outputs_mask_last= self.electra_mask_last(input_ids_mask_last, attention_mask=attention_mask_mask_last,labels=labels_mask_last)\n",
        "\n",
        "    \n",
        "    #withour position  embdedding\n",
        "    #MLM_outputs = self.electra(input_ids, attention_mask=attention_mask,labels=labels)\n",
        "\n",
        "    \n",
        "\n",
        "    if ((labels is not None) ):\n",
        "\n",
        "\n",
        "      loss=(MLM_outputs.loss + MLM_outputs_mask_last.loss)\n",
        "      return loss\n",
        "    else:\n",
        "      return MLM_outputs.logits,MLM_outputs_mask_last.logits\n",
        "\n"
      ]
    },
    {
      "cell_type": "code",
      "execution_count": null,
      "metadata": {
        "id": "Ffsz2bVJ7Spz"
      },
      "outputs": [],
      "source": [
        "path='drive/MyDrive/Models/NextMovie/DistilBert_TGD_Ensemble_no_BIG5_last_masked_and_NormalMask_OnlyNextItemToPredict.bin'\n",
        "path_tokenizer='drive/MyDrive/Models/NextMovie/Tokenizer/'\n"
      ]
    },
    {
      "cell_type": "code",
      "execution_count": null,
      "metadata": {
        "id": "17Epl3K29DOx"
      },
      "outputs": [],
      "source": [
        "tokenizer_4rec = DistilBertTokenizer.from_pretrained(path_tokenizer)"
      ]
    },
    {
      "cell_type": "code",
      "execution_count": null,
      "metadata": {
        "colab": {
          "base_uri": "https://localhost:8080/",
          "height": 126,
          "referenced_widgets": [
            "3c0b49f61ca34554a2919e35e569f28b",
            "6d63324beace40a89dd8e4d6976f3570",
            "4ec2993ffed44961b67381964b6578b7",
            "54c36e940f544b84b3921056d710efd2",
            "6339fa68d6c848879f45426e895c1a0e",
            "57e747fbd5a64dcca364ec55a54e5e24",
            "014d2bbf3d2f4e40b9d339e5b67498dd",
            "ab0ea930cfa84f3fa6e21fc550bb06f8",
            "89077cc88a62437b897c19fac0c1c195",
            "eef75c0aab114b3c92eb16b8160e4008",
            "6a3e2f73ec7144bab2ffb51e06a0f5ef",
            "d4b8bae4953d43b295e377f23951e568",
            "3795130dab8a49469e121a9f4ebdce32",
            "00768c2c4f834c20b488cbcac9398147",
            "b3055d721cdc4130868ffd106a5962e9",
            "170854be73a64490945843940713ed3c",
            "ff8626b25e50426c9a9e7c578a736720",
            "e51dbe2c134f46a9b676860dd44166b3",
            "39a8a060ea5e47aea3a2051c9c1ef052",
            "2b58646aaa244055a0bf8803c92947af",
            "040c7a50ce6747289db5eed3d926e2cc",
            "243cdbfe78284b14bcfcef405d4c6e45"
          ]
        },
        "id": "SSwTHkdEiauX",
        "outputId": "fd89dbd6-503d-45a0-8c8b-bacb1a6536fd"
      },
      "outputs": [
        {
          "output_type": "display_data",
          "data": {
            "text/plain": [
              "Downloading:   0%|          | 0.00/483 [00:00<?, ?B/s]"
            ],
            "application/vnd.jupyter.widget-view+json": {
              "version_major": 2,
              "version_minor": 0,
              "model_id": "3c0b49f61ca34554a2919e35e569f28b"
            }
          },
          "metadata": {}
        },
        {
          "output_type": "display_data",
          "data": {
            "text/plain": [
              "Downloading:   0%|          | 0.00/256M [00:00<?, ?B/s]"
            ],
            "application/vnd.jupyter.widget-view+json": {
              "version_major": 2,
              "version_minor": 0,
              "model_id": "d4b8bae4953d43b295e377f23951e568"
            }
          },
          "metadata": {}
        },
        {
          "output_type": "execute_result",
          "data": {
            "text/plain": [
              "<All keys matched successfully>"
            ]
          },
          "metadata": {},
          "execution_count": 35
        }
      ],
      "source": [
        "#This code is borrowed from this link : https://towardsdatascience.com/multi-label-text-classification-with-xlnet-b5f5755302df\n",
        "\n",
        "checkpoint = torch.load(path)\n",
        "model_state_dict = checkpoint['state_dict']\n",
        "model_movie = Electra4RecWithTGD_OnlyNextItemToPredict()\n",
        "model_movie.load_state_dict(model_state_dict)"
      ]
    },
    {
      "cell_type": "code",
      "execution_count": null,
      "metadata": {
        "id": "AIF0rY-SMW0a"
      },
      "outputs": [],
      "source": [
        "def sequence_Input_Tokenization_movie_prediction(liste, tokenizer):\n",
        "    \n",
        "    outputs = tokenizer(liste,truncation=True,return_tensors='pt',return_attention_mask=True,max_length=512, padding='max_length')    \n",
        "    outputs['labels']=outputs.input_ids.detach().clone()\n",
        "    return outputs"
      ]
    },
    {
      "cell_type": "code",
      "execution_count": null,
      "metadata": {
        "id": "Uqi2I5BfMdYw"
      },
      "outputs": [],
      "source": [
        "#This code is borrowed from this link : https://towardsdatascience.com/multi-label-text-classification-with-xlnet-b5f5755302df\n",
        "\n",
        "def Predict_Movie(sequences,model, tokenizer_m, device=\"cpu\", batch_size=32):\n",
        "  num_iter = math.ceil(np.array(sequences).shape[0]/batch_size)# define the number of iteration in all the data by batches\n",
        "  model.eval() #Indicate that we will use the model to evaluation purposes\n",
        "  model.to(device)\n",
        "  d={}\n",
        "  \n",
        "  IndexToKey={ value:key for key,value in tokenizer_m.get_vocab().items() }\n",
        "  for i in range(num_iter):\n",
        "    inputs_i=tokenizer_m(sequences[i],return_tensors='pt')\n",
        "    inputs_ids=inputs_i.input_ids.to(device)\n",
        "    inputs_mask=inputs_i.attention_mask.to(device)\n",
        "\n",
        "    with torch.no_grad():\n",
        "        \n",
        "        #output= model(inputs_ids,inputs_mask,input_ids_mask_last=inputs_ids,attention_mask_mask_last=inputs_mask)# predict the values of the passed batch of data\n",
        "        output= model(input_ids=inputs_ids,attention_mask=inputs_mask,input_ids_mask_last=inputs_ids,attention_mask_mask_last=inputs_mask)# predict the values of the passed batch of data\n",
        "        #logits = logits.sigmoid().detach().cpu().numpy()\n",
        "        out=torch.argmax(output[0],dim=-1).to(device)\n",
        "        \n",
        "        ch=''\n",
        "        \n",
        "        for ind in list(out.detach().tolist()[0]):\n",
        "          ch=ch+IndexToKey[ind]+' '\n",
        "  d['MLM_movie_prediction']=ch.split()\n",
        "  \n",
        "  return d['MLM_movie_prediction'][-2]\n",
        "  \n"
      ]
    },
    {
      "cell_type": "markdown",
      "metadata": {
        "id": "nNzwPD3z_zoj"
      },
      "source": [
        "# Dialog Generation model"
      ]
    },
    {
      "cell_type": "code",
      "execution_count": null,
      "metadata": {
        "id": "OMkhQo-hBa0J"
      },
      "outputs": [],
      "source": [
        "from transformers import (\n",
        "    MODEL_WITH_LM_HEAD_MAPPING,\n",
        "    WEIGHTS_NAME,\n",
        "    AdamW,\n",
        "    AutoConfig,\n",
        "    AutoModelForCausalLM,\n",
        "    AutoTokenizer,\n",
        "    PreTrainedModel,\n",
        "    PreTrainedTokenizer,\n",
        "    get_linear_schedule_with_warmup,\n",
        ")\n"
      ]
    },
    {
      "cell_type": "code",
      "execution_count": null,
      "metadata": {
        "id": "i4CqdM7d-u-t"
      },
      "outputs": [],
      "source": [
        ""
      ]
    },
    {
      "cell_type": "code",
      "execution_count": null,
      "metadata": {
        "id": "2bym3_tybI3M"
      },
      "outputs": [],
      "source": [
        "def remove_movie_from_path_goal(TGD_All_data,typee='train'):\n",
        "  for i, dial in enumerate(TGD_All_data[typee]):\n",
        "    goal_path=dial['goal_path']\n",
        "    for k, v in goal_path.items():\n",
        "      v=[x for x in v if x[0]!='@']\n",
        "      goal_path[k]=v\n",
        "    \n",
        "    TGD_All_data[typee][i]['goal_path']=goal_path\n",
        "  return TGD_All_data[typee]\n",
        "\n",
        "TGD_All_data['train']=remove_movie_from_path_goal(TGD_All_data,typee='train')\n",
        "TGD_All_data['test']=remove_movie_from_path_goal(TGD_All_data,typee='test')\n",
        "TGD_All_data['valid']=remove_movie_from_path_goal(TGD_All_data,typee='valid')"
      ]
    },
    {
      "cell_type": "code",
      "execution_count": null,
      "metadata": {
        "id": "vzQYBqycsSMv"
      },
      "outputs": [],
      "source": [
        "def create_entent_topic(TGD_All_data=TGD_All_data,typee=\"train\"):\n",
        "\n",
        "  topic_list=TGD_All_data[\"real_topics\"].values()\n",
        "  for i,dial in enumerate(TGD_All_data[typee]):\n",
        "    goal_path=dial[\"goal_path\"]\n",
        "    new_goal_path={}\n",
        "    \n",
        "    for k,v in goal_path.items():\n",
        "      topics=[x for x in v if x in topic_list]\n",
        "      intents=[x for x in v if x not in topic_list]\n",
        "      if(len(topics)==0):\n",
        "        topics=[\"no-topic\"]\n",
        "      new_goal_path[k]={\"intents\":intents,\"topics\":intents+topics}\n",
        "    TGD_All_data[typee][i][\"goal_path\"]=new_goal_path\n",
        "\n",
        "  return TGD_All_data\n",
        "TGD_All_data=create_entent_topic(TGD_All_data=TGD_All_data,typee=\"train\")\n",
        "TGD_All_data=create_entent_topic(TGD_All_data=TGD_All_data,typee=\"test\")\n",
        "TGD_All_data=create_entent_topic(TGD_All_data=TGD_All_data,typee=\"valid\")\n",
        "\n",
        "\n",
        "\n"
      ]
    },
    {
      "cell_type": "code",
      "execution_count": null,
      "metadata": {
        "id": "0xCQWHwMMT5s"
      },
      "outputs": [],
      "source": [
        "import re\n",
        "import random\n",
        "def create_path_included_data(data,typee='valid'):\n",
        "  data_dialogue_rows=[]\n",
        "  mentioned_movies=[]\n",
        "  movie_history_watching=[]\n",
        "  for i,dial in enumerate(data[typee]):\n",
        "    goal_path=dial['goal_path']\n",
        "    messages=dial['messages']\n",
        "    mentionMovies=dial[\"mentionMovies\"]\n",
        "    movies_interaction=dial[\"user_history_movies_interaction_ids\"]\n",
        "    movie_history_watching.append(movies_interaction)\n",
        "\n",
        "\n",
        "    visited_profiles=[]\n",
        "    for j in range(1):\n",
        "      profile_list=dial[\"user_profile\"]\n",
        "      personality_list=dial[\"BIG5\"]\n",
        "      shuffled_profile=random.sample(profile_list,len(profile_list))\n",
        "      while shuffled_profile in visited_profiles:\n",
        "        shuffled_profile=random.sample(profile_list,len(profile_list))\n",
        "      personality= \" \".join(str(int(p)) for p in personality_list )\n",
        "      \n",
        "      profile=\" .\".join(p for p in shuffled_profile )\n",
        "      lines=[]\n",
        "      lines.append('<big5> '+personality+\" </big5>\")\n",
        "\n",
        "      \n",
        "      lines.append('<profile> '+profile+\" </profile>\")\n",
        "      movies_to_add=[]\n",
        "      '''if len(movies_interaction)==0:\n",
        "        movies_to_add=[\" \"]*3\n",
        "\n",
        "      if len(movies_interaction)==1:\n",
        "        movies_to_add=[movies_interaction[-1]]*3\n",
        "\n",
        "      if len(movies_interaction)==2:\n",
        "        movies_to_add=list(movies_interaction)+[movies_interaction[-1]]\n",
        "\n",
        "      if len(movies_interaction)>2:\n",
        "        movies_to_add=list(movies_interaction[-3:])'''\n",
        "\n",
        "      for i,v in enumerate(messages):\n",
        "        index=i+1\n",
        "        if index in mentionMovies:\n",
        "          curenntmovi=mentionMovies[index][\"id\"]\n",
        "          #print(curenntmovi)\n",
        "          movies_to_add.append(curenntmovi)\n",
        "          #print(movies_to_add)\n",
        "          last_three=movies_to_add[-3:]\n",
        "          random.shuffle(last_three)\n",
        "          concatenated_movies= \" \".join(x for x in last_three)\n",
        "          #lines[-1]=lines[-1]+\" <movies> \"+curenntmovi+\" </movies>\"\n",
        "          m='<'+v['role'].lower()+'>'+' '+v['content']\n",
        "\n",
        "\n",
        "        else:\n",
        "          m='<'+v['role'].lower()+'>'+' '+v['content']\n",
        "        m=m+' <topic> '+' '.join(x for x in goal_path[v['local_id']][\"topics\"] )+\" </topic> \"\n",
        "        m=re.sub(' +', ' ', m).strip()\n",
        "        if(\"@\" in m ):\n",
        "          lin= np.array([word for word in m.split(\" \") ])\n",
        "          indexes=[i for i,v in enumerate(lin) if v[0]==\"@\"]\n",
        "          elements=[x for x in list(lin[indexes]) if x is not None]\n",
        "          mentioned_movies=mentioned_movies+elements\n",
        "\n",
        "        lines.append(m)\n",
        "    \n",
        "    \n",
        "    \n",
        "    \n",
        "\n",
        "    \n",
        "      data_dialogue_rows.append(lines)\n",
        "    \n",
        "  return data_dialogue_rows,mentioned_movies,movie_history_watching\n",
        "    \n",
        "\n",
        "train_rows,train_mentioned_movies,train_movie_history_watching=create_path_included_data(TGD_All_data,typee='train')   \n",
        "test_rows,test_mentioned_movies,test_movie_history_watching=create_path_included_data(TGD_All_data,typee='test')   \n",
        "valid_rows,valid_mentioned_movies,valid_movie_history_watching=create_path_included_data(TGD_All_data,typee='valid')"
      ]
    },
    {
      "cell_type": "code",
      "execution_count": null,
      "metadata": {
        "id": "qi-P6epMCCgJ"
      },
      "outputs": [],
      "source": [
        "path_model='drive/MyDrive/Models/DialogGeneration/Prompt_based_TGD_small_keep_all_data2.bin'\n",
        "path_tokenizer='drive/MyDrive/Models/DialogGeneration/Tokenizer/'\n"
      ]
    },
    {
      "cell_type": "code",
      "execution_count": null,
      "metadata": {
        "id": "4TxMdedpFF7m"
      },
      "outputs": [],
      "source": [
        "tokenizer_gpt = AutoTokenizer.from_pretrained(path_tokenizer)\n"
      ]
    },
    {
      "cell_type": "code",
      "execution_count": null,
      "metadata": {
        "id": "8l2SDqiU2hIR"
      },
      "outputs": [],
      "source": [
        "class DialogGPT(torch.nn.Module):\n",
        "  \n",
        "  def __init__(self,tokenizer):\n",
        "    super(DialogGPT, self).__init__()\n",
        "    \n",
        "    self.dialogGPT = AutoModelForCausalLM.from_pretrained('microsoft/DialoGPT-small')\n",
        "    self.dialogGPT.resize_token_embeddings(len(tokenizer))\n",
        "\n",
        "   \n",
        "\n",
        "   \n",
        "  def forward(self, input_ids, token_type_ids=None,\\\n",
        "              attention_mask=None, labels=None): \n",
        "   \n",
        "        \n",
        "    outputs = self.dialogGPT(input_ids,attention_mask=attention_mask, labels=labels)\n",
        "    loss = outputs[0]\n",
        "      \n",
        "      \n",
        "    return loss\n",
        "\n",
        "\n",
        "  def pool_hidden_state(self, last_hidden_state):\n",
        "    \"\"\"\n",
        "    Pool the output vectors into a single mean vector \n",
        "    \"\"\"\n",
        "    last_hidden_state = last_hidden_state[0]\n",
        "    mean_last_hidden_state = torch.mean(last_hidden_state, 1)\n",
        "    return mean_last_hidden_state\n",
        "    \n",
        "  \n",
        "\n",
        "# len(Y_train[0]) = 6"
      ]
    },
    {
      "cell_type": "code",
      "execution_count": null,
      "metadata": {
        "id": "pQjxkp9_giYS"
      },
      "outputs": [],
      "source": [
        "#model_save_path_gpt=\"drive/MyDrive/Models/DialogGeneration/Prompt_based_TGD_small_keep_all_data.bin\"\n"
      ]
    },
    {
      "cell_type": "code",
      "execution_count": null,
      "metadata": {
        "colab": {
          "base_uri": "https://localhost:8080/",
          "height": 1000,
          "referenced_widgets": [
            "a9f7e9b226274beaa73396ce81998a8c",
            "3b93b39349a947a6b25fe347f22df990",
            "13e68cd35815423c83bd166ed3691e01",
            "d7c2c9a4b58b444bb1471834b986e3d4",
            "04a9e5f3adbd41198f17ad1b9608dfa1",
            "9fef2af8916548839b7b4abb4a2f568e",
            "286a61123d144c2e9ffd13f64c2b3e34",
            "a27da01ddd1b4fbf8848d6061e8a07ee",
            "1ca22edaec7b4557a333b876a6d0ce3c",
            "157fe98b5a3d420c877e533473d9bdcb",
            "916ac9b46ec843379ee60817e6cdbf0a",
            "ac9b877a7b7c46fb976a4f9822817c71",
            "6ca2cf62e70e4cb8964ba91271840a95",
            "ed00dfff1589454ea653d6fdd07fb106",
            "b7fb4ea9422448239430259dad3455e1",
            "631a6346ad724f7b9c620a85de8fa8b6",
            "5d69f2a0bb2c43d887a8bf26124507fd",
            "db0f8716e6934a1e9123c1bae8b84aff",
            "fa32568e4a154c6098fcc22f30b2b3e4",
            "2d777ba168ee425e9f2ba5c72313aefa",
            "dd0451410c2b4e2c8ba1fa96e7af3a2c",
            "9022d825b3c24568bb7d5f6e9b21424d"
          ]
        },
        "id": "KcHenJRMEnwj",
        "outputId": "4ad680b3-7162-4ce5-80d7-5c606496b602"
      },
      "outputs": [
        {
          "output_type": "display_data",
          "data": {
            "text/plain": [
              "Downloading:   0%|          | 0.00/641 [00:00<?, ?B/s]"
            ],
            "application/vnd.jupyter.widget-view+json": {
              "version_major": 2,
              "version_minor": 0,
              "model_id": "a9f7e9b226274beaa73396ce81998a8c"
            }
          },
          "metadata": {}
        },
        {
          "output_type": "display_data",
          "data": {
            "text/plain": [
              "Downloading:   0%|          | 0.00/335M [00:00<?, ?B/s]"
            ],
            "application/vnd.jupyter.widget-view+json": {
              "version_major": 2,
              "version_minor": 0,
              "model_id": "ac9b877a7b7c46fb976a4f9822817c71"
            }
          },
          "metadata": {}
        },
        {
          "output_type": "execute_result",
          "data": {
            "text/plain": [
              "DialogGPT(\n",
              "  (dialogGPT): GPT2LMHeadModel(\n",
              "    (transformer): GPT2Model(\n",
              "      (wte): Embedding(86054, 768)\n",
              "      (wpe): Embedding(1024, 768)\n",
              "      (drop): Dropout(p=0.1, inplace=False)\n",
              "      (h): ModuleList(\n",
              "        (0): GPT2Block(\n",
              "          (ln_1): LayerNorm((768,), eps=1e-05, elementwise_affine=True)\n",
              "          (attn): GPT2Attention(\n",
              "            (c_attn): Conv1D()\n",
              "            (c_proj): Conv1D()\n",
              "            (attn_dropout): Dropout(p=0.1, inplace=False)\n",
              "            (resid_dropout): Dropout(p=0.1, inplace=False)\n",
              "          )\n",
              "          (ln_2): LayerNorm((768,), eps=1e-05, elementwise_affine=True)\n",
              "          (mlp): GPT2MLP(\n",
              "            (c_fc): Conv1D()\n",
              "            (c_proj): Conv1D()\n",
              "            (act): NewGELUActivation()\n",
              "            (dropout): Dropout(p=0.1, inplace=False)\n",
              "          )\n",
              "        )\n",
              "        (1): GPT2Block(\n",
              "          (ln_1): LayerNorm((768,), eps=1e-05, elementwise_affine=True)\n",
              "          (attn): GPT2Attention(\n",
              "            (c_attn): Conv1D()\n",
              "            (c_proj): Conv1D()\n",
              "            (attn_dropout): Dropout(p=0.1, inplace=False)\n",
              "            (resid_dropout): Dropout(p=0.1, inplace=False)\n",
              "          )\n",
              "          (ln_2): LayerNorm((768,), eps=1e-05, elementwise_affine=True)\n",
              "          (mlp): GPT2MLP(\n",
              "            (c_fc): Conv1D()\n",
              "            (c_proj): Conv1D()\n",
              "            (act): NewGELUActivation()\n",
              "            (dropout): Dropout(p=0.1, inplace=False)\n",
              "          )\n",
              "        )\n",
              "        (2): GPT2Block(\n",
              "          (ln_1): LayerNorm((768,), eps=1e-05, elementwise_affine=True)\n",
              "          (attn): GPT2Attention(\n",
              "            (c_attn): Conv1D()\n",
              "            (c_proj): Conv1D()\n",
              "            (attn_dropout): Dropout(p=0.1, inplace=False)\n",
              "            (resid_dropout): Dropout(p=0.1, inplace=False)\n",
              "          )\n",
              "          (ln_2): LayerNorm((768,), eps=1e-05, elementwise_affine=True)\n",
              "          (mlp): GPT2MLP(\n",
              "            (c_fc): Conv1D()\n",
              "            (c_proj): Conv1D()\n",
              "            (act): NewGELUActivation()\n",
              "            (dropout): Dropout(p=0.1, inplace=False)\n",
              "          )\n",
              "        )\n",
              "        (3): GPT2Block(\n",
              "          (ln_1): LayerNorm((768,), eps=1e-05, elementwise_affine=True)\n",
              "          (attn): GPT2Attention(\n",
              "            (c_attn): Conv1D()\n",
              "            (c_proj): Conv1D()\n",
              "            (attn_dropout): Dropout(p=0.1, inplace=False)\n",
              "            (resid_dropout): Dropout(p=0.1, inplace=False)\n",
              "          )\n",
              "          (ln_2): LayerNorm((768,), eps=1e-05, elementwise_affine=True)\n",
              "          (mlp): GPT2MLP(\n",
              "            (c_fc): Conv1D()\n",
              "            (c_proj): Conv1D()\n",
              "            (act): NewGELUActivation()\n",
              "            (dropout): Dropout(p=0.1, inplace=False)\n",
              "          )\n",
              "        )\n",
              "        (4): GPT2Block(\n",
              "          (ln_1): LayerNorm((768,), eps=1e-05, elementwise_affine=True)\n",
              "          (attn): GPT2Attention(\n",
              "            (c_attn): Conv1D()\n",
              "            (c_proj): Conv1D()\n",
              "            (attn_dropout): Dropout(p=0.1, inplace=False)\n",
              "            (resid_dropout): Dropout(p=0.1, inplace=False)\n",
              "          )\n",
              "          (ln_2): LayerNorm((768,), eps=1e-05, elementwise_affine=True)\n",
              "          (mlp): GPT2MLP(\n",
              "            (c_fc): Conv1D()\n",
              "            (c_proj): Conv1D()\n",
              "            (act): NewGELUActivation()\n",
              "            (dropout): Dropout(p=0.1, inplace=False)\n",
              "          )\n",
              "        )\n",
              "        (5): GPT2Block(\n",
              "          (ln_1): LayerNorm((768,), eps=1e-05, elementwise_affine=True)\n",
              "          (attn): GPT2Attention(\n",
              "            (c_attn): Conv1D()\n",
              "            (c_proj): Conv1D()\n",
              "            (attn_dropout): Dropout(p=0.1, inplace=False)\n",
              "            (resid_dropout): Dropout(p=0.1, inplace=False)\n",
              "          )\n",
              "          (ln_2): LayerNorm((768,), eps=1e-05, elementwise_affine=True)\n",
              "          (mlp): GPT2MLP(\n",
              "            (c_fc): Conv1D()\n",
              "            (c_proj): Conv1D()\n",
              "            (act): NewGELUActivation()\n",
              "            (dropout): Dropout(p=0.1, inplace=False)\n",
              "          )\n",
              "        )\n",
              "        (6): GPT2Block(\n",
              "          (ln_1): LayerNorm((768,), eps=1e-05, elementwise_affine=True)\n",
              "          (attn): GPT2Attention(\n",
              "            (c_attn): Conv1D()\n",
              "            (c_proj): Conv1D()\n",
              "            (attn_dropout): Dropout(p=0.1, inplace=False)\n",
              "            (resid_dropout): Dropout(p=0.1, inplace=False)\n",
              "          )\n",
              "          (ln_2): LayerNorm((768,), eps=1e-05, elementwise_affine=True)\n",
              "          (mlp): GPT2MLP(\n",
              "            (c_fc): Conv1D()\n",
              "            (c_proj): Conv1D()\n",
              "            (act): NewGELUActivation()\n",
              "            (dropout): Dropout(p=0.1, inplace=False)\n",
              "          )\n",
              "        )\n",
              "        (7): GPT2Block(\n",
              "          (ln_1): LayerNorm((768,), eps=1e-05, elementwise_affine=True)\n",
              "          (attn): GPT2Attention(\n",
              "            (c_attn): Conv1D()\n",
              "            (c_proj): Conv1D()\n",
              "            (attn_dropout): Dropout(p=0.1, inplace=False)\n",
              "            (resid_dropout): Dropout(p=0.1, inplace=False)\n",
              "          )\n",
              "          (ln_2): LayerNorm((768,), eps=1e-05, elementwise_affine=True)\n",
              "          (mlp): GPT2MLP(\n",
              "            (c_fc): Conv1D()\n",
              "            (c_proj): Conv1D()\n",
              "            (act): NewGELUActivation()\n",
              "            (dropout): Dropout(p=0.1, inplace=False)\n",
              "          )\n",
              "        )\n",
              "        (8): GPT2Block(\n",
              "          (ln_1): LayerNorm((768,), eps=1e-05, elementwise_affine=True)\n",
              "          (attn): GPT2Attention(\n",
              "            (c_attn): Conv1D()\n",
              "            (c_proj): Conv1D()\n",
              "            (attn_dropout): Dropout(p=0.1, inplace=False)\n",
              "            (resid_dropout): Dropout(p=0.1, inplace=False)\n",
              "          )\n",
              "          (ln_2): LayerNorm((768,), eps=1e-05, elementwise_affine=True)\n",
              "          (mlp): GPT2MLP(\n",
              "            (c_fc): Conv1D()\n",
              "            (c_proj): Conv1D()\n",
              "            (act): NewGELUActivation()\n",
              "            (dropout): Dropout(p=0.1, inplace=False)\n",
              "          )\n",
              "        )\n",
              "        (9): GPT2Block(\n",
              "          (ln_1): LayerNorm((768,), eps=1e-05, elementwise_affine=True)\n",
              "          (attn): GPT2Attention(\n",
              "            (c_attn): Conv1D()\n",
              "            (c_proj): Conv1D()\n",
              "            (attn_dropout): Dropout(p=0.1, inplace=False)\n",
              "            (resid_dropout): Dropout(p=0.1, inplace=False)\n",
              "          )\n",
              "          (ln_2): LayerNorm((768,), eps=1e-05, elementwise_affine=True)\n",
              "          (mlp): GPT2MLP(\n",
              "            (c_fc): Conv1D()\n",
              "            (c_proj): Conv1D()\n",
              "            (act): NewGELUActivation()\n",
              "            (dropout): Dropout(p=0.1, inplace=False)\n",
              "          )\n",
              "        )\n",
              "        (10): GPT2Block(\n",
              "          (ln_1): LayerNorm((768,), eps=1e-05, elementwise_affine=True)\n",
              "          (attn): GPT2Attention(\n",
              "            (c_attn): Conv1D()\n",
              "            (c_proj): Conv1D()\n",
              "            (attn_dropout): Dropout(p=0.1, inplace=False)\n",
              "            (resid_dropout): Dropout(p=0.1, inplace=False)\n",
              "          )\n",
              "          (ln_2): LayerNorm((768,), eps=1e-05, elementwise_affine=True)\n",
              "          (mlp): GPT2MLP(\n",
              "            (c_fc): Conv1D()\n",
              "            (c_proj): Conv1D()\n",
              "            (act): NewGELUActivation()\n",
              "            (dropout): Dropout(p=0.1, inplace=False)\n",
              "          )\n",
              "        )\n",
              "        (11): GPT2Block(\n",
              "          (ln_1): LayerNorm((768,), eps=1e-05, elementwise_affine=True)\n",
              "          (attn): GPT2Attention(\n",
              "            (c_attn): Conv1D()\n",
              "            (c_proj): Conv1D()\n",
              "            (attn_dropout): Dropout(p=0.1, inplace=False)\n",
              "            (resid_dropout): Dropout(p=0.1, inplace=False)\n",
              "          )\n",
              "          (ln_2): LayerNorm((768,), eps=1e-05, elementwise_affine=True)\n",
              "          (mlp): GPT2MLP(\n",
              "            (c_fc): Conv1D()\n",
              "            (c_proj): Conv1D()\n",
              "            (act): NewGELUActivation()\n",
              "            (dropout): Dropout(p=0.1, inplace=False)\n",
              "          )\n",
              "        )\n",
              "      )\n",
              "      (ln_f): LayerNorm((768,), eps=1e-05, elementwise_affine=True)\n",
              "    )\n",
              "    (lm_head): Linear(in_features=768, out_features=86054, bias=False)\n",
              "  )\n",
              ")"
            ]
          },
          "metadata": {},
          "execution_count": 46
        }
      ],
      "source": [
        "#This code is borrowed from this link : https://towardsdatascience.com/multi-label-text-classification-with-xlnet-b5f5755302df\n",
        "\n",
        "checkpoint_gpt = torch.load(path_model)\n",
        "model_state_dict_gpt = checkpoint_gpt['state_dict']\n",
        "model_gpt = DialogGPT(tokenizer=tokenizer_gpt)\n",
        "model_gpt.load_state_dict(model_state_dict_gpt)\n",
        "model_gpt.to(device)"
      ]
    },
    {
      "cell_type": "markdown",
      "metadata": {
        "id": "nhUWEeP2VXtO"
      },
      "source": [
        "# last utterance topic prediction"
      ]
    },
    {
      "cell_type": "code",
      "execution_count": null,
      "metadata": {
        "id": "p4V0OVo6OiMG"
      },
      "outputs": [],
      "source": [
        "movies_dict= TGD_All_data['all_movies']\n"
      ]
    },
    {
      "cell_type": "code",
      "execution_count": null,
      "metadata": {
        "id": "HDqd7s9SDZIS"
      },
      "outputs": [],
      "source": [
        "def tokenize_inputs(liste, tokenizer, num_embeddings=1024):\n",
        "    \n",
        "    outputs = tokenizer.batch_encode_plus(liste,truncation=True,return_tensors='pt',return_attention_mask=True,max_length=num_embeddings, padding='max_length')\n",
        "    # convert tokenized text into numeric ids for the appropriate LM\n",
        "    input_ids =outputs.input_ids\n",
        "    outputs[\"labels\"]=input_ids\n",
        "    \n",
        "\n",
        "    return input_ids,outputs.attention_mask\n",
        "    "
      ]
    },
    {
      "cell_type": "code",
      "execution_count": null,
      "metadata": {
        "colab": {
          "base_uri": "https://localhost:8080/",
          "height": 105
        },
        "id": "i4M3G_AcBcQb",
        "outputId": "a3477bbd-fcbb-4d59-a9d2-dd317edb5dfc"
      },
      "outputs": [
        {
          "output_type": "execute_result",
          "data": {
            "text/plain": [
              "'<big5> 28 79 21 50 60 </big5><|endoftext|><profile> i like to live on the ground .i like sports .i really want to have sincere feelings .i like writing love letters very much .i like animation .the place i want to travel most is india .i like love very much .i like music very much .i think i am a loud voice .i like kids </profile>'"
            ],
            "application/vnd.google.colaboratory.intrinsic+json": {
              "type": "string"
            }
          },
          "metadata": {},
          "execution_count": 51
        }
      ],
      "source": [
        "persona_0"
      ]
    },
    {
      "cell_type": "code",
      "execution_count": null,
      "metadata": {
        "colab": {
          "base_uri": "https://localhost:8080/"
        },
        "id": "qzc3JrXKVB8X",
        "outputId": "1f49140b-dd16-4eab-eeca-4c354d64028a"
      },
      "outputs": [
        {
          "output_type": "execute_result",
          "data": {
            "text/plain": [
              "['song of sunshine',\n",
              " 'air evacuation',\n",
              " 'the teacher and the stray cat',\n",
              " 'legend no. 17',\n",
              " 'spiritual grace',\n",
              " 'the mind of the han and han princess',\n",
              " 'lemon mouth',\n",
              " 'undead debt collector',\n",
              " 'live with integrity',\n",
              " 'dumb boy']"
            ]
          },
          "metadata": {},
          "execution_count": 52
        }
      ],
      "source": [
        "[movies_dict[x]['name']for x in movie_history_watching[-10:]]\n",
        "#lemon mouth : children movie \n",
        "#the teacher and the stray cat : comedy family\n",
        "#dumb boy: family movie"
      ]
    },
    {
      "cell_type": "markdown",
      "metadata": {
        "id": "z08kN848fG-P"
      },
      "source": [
        "# with another personality\n"
      ]
    },
    {
      "cell_type": "code",
      "execution_count": null,
      "metadata": {
        "colab": {
          "base_uri": "https://localhost:8080/",
          "height": 53
        },
        "id": "EM5hBwZufpKL",
        "outputId": "3c648b09-8cd0-47ea-cb04-6a5879f2c3b2"
      },
      "outputs": [
        {
          "data": {
            "application/vnd.google.colaboratory.intrinsic+json": {
              "type": "string"
            },
            "text/plain": [
              "'<big5> 28 79 21 50 60 </big5><|endoftext|><profile> i like to live on the ground .the place i want to travel most is india .i like kids .i like writing love letters very much .i like animation .i like sports .i like music very much .i really want to have sincere feelings .i think i am a loud voice .i like love very much </profile>'"
            ]
          },
          "execution_count": 115,
          "metadata": {},
          "output_type": "execute_result"
        }
      ],
      "source": [
        "i=5\n",
        "persona_0=test_rows[i][0]+tokenizer_gpt.eos_token+test_rows[i][1]\n",
        "conv_0=test_rows[i][2:]\n",
        "movie_history_watching=test_movie_history_watching[i]\n",
        "persona_0"
      ]
    },
    {
      "cell_type": "code",
      "execution_count": null,
      "metadata": {
        "colab": {
          "base_uri": "https://localhost:8080/",
          "height": 53
        },
        "id": "l5HwryZ9fQB6",
        "outputId": "3b1e9bd0-d38c-4e60-d319-b5bd8b440f62"
      },
      "outputs": [
        {
          "data": {
            "application/vnd.google.colaboratory.intrinsic+json": {
              "type": "string"
            },
            "text/plain": [
              "'<big5> 53 95 48 61 52 </big5><|endoftext|><profile> i like to live on the ground .the place i want to travel most is india .i like kids .i like writing love letters very much .i like animation .i like sports .i like music very much .i really want to have sincere feelings .i think i am a loud voice .i like love very much </profile>'"
            ]
          },
          "execution_count": 117,
          "metadata": {},
          "output_type": "execute_result"
        }
      ],
      "source": [
        "i=45\n",
        "persona_0=test_rows[45][0]+tokenizer_gpt.eos_token+test_rows[i][1]\n",
        "conv_0=test_rows[i][2:]\n",
        "movie_history_watching=test_movie_history_watching[i]\n",
        "persona_0"
      ]
    },
    {
      "cell_type": "code",
      "execution_count": null,
      "metadata": {
        "id": "nZG-oa6ofehn"
      },
      "outputs": [],
      "source": [
        ""
      ]
    },
    {
      "cell_type": "code",
      "execution_count": null,
      "metadata": {
        "colab": {
          "base_uri": "https://localhost:8080/",
          "height": 334
        },
        "id": "IKoOd-dZfLm_",
        "outputId": "4e965bf5-e6c5-4f87-8e8b-e39655a0a427"
      },
      "outputs": [
        {
          "name": "stdout",
          "output_type": "stream",
          "text": [
            ">>DialoGPT:      what are you doing?\n",
            ">> User:         i'm looking for a thriller movie, can you recommend me one, please\n",
            ">>DialoGPT:      then i highly recommend you to watch \u001b[6;30;42mcold blood\u001b[0m horror, which is a good movie, but i don't like it.\n",
            ">> User:         you know what i think i want to watch a comedy movie to laugh a little bit. do you have any recommendations\n",
            ">>DialoGPT:      then i recommend you to watch the \u001b[6;30;42mmummy\u001b[0m. this is a horror movie, but it is not a horror movie. it is a funny and funny movie. it is worth watching.\n",
            ">> User:         i love this movie, its a comedy and an adventure movie type, my best I will check it later . however, i would like to watch an inspirational movie for now\n",
            ">>DialoGPT:      then i recommend a thrilling and funny movie to you. have you ever watched \u001b[6;30;42mpeachy furious car\u001b[0m? this is a suspenseful and suspenseful comedy with a good plot and a good rhythm.\n",
            ">> User:         i think i changed my mind, is there any movie about suspense!\n",
            ">>DialoGPT:      then i highly recommend the \u001b[6;30;42mhorror\u001b[0m, a suspenseful thriller with a good rhythm and a good suspense film. conscience recommends you to watch it. suspense and horror are very important to the film. suspense is the source of horror movies in my heart, and it is also a very good suspense film, i recommend it to you!\n",
            ">> User:         thank you very much for your recommendation. i need to go now goodbye !\n",
            "DialoGPT: you may also like second mom based on your previous watching history. Have a good one, be safe, bye.\n"
          ]
        },
        {
          "data": {
            "application/vnd.google.colaboratory.intrinsic+json": {
              "type": "string"
            },
            "text/plain": [
              "\"\\n>>DialoGPT:      what are you doing?\\n>> User:         i'm looking for a thriller movie, can you recommend me one, please.\\n>>DialoGPT:      i highly recommend the movie cold blood horror, which is a bit like a horror movie.\\n>> User:         you know what i think i want to watch a comedy movie to laugh a little bit. do you have any recommendations.\\n>>DialoGPT:      i recommend you to watch the mummy. this is a horror movie, but it is not a comedy. it is a good movie. it is worth watching.\\n>> User:          i love this movie, its a comedy and an adventure movie type, my best I will check it later . however, i would like to watch an inspirational movie for now\\n>>DialoGPT:      you can watch morning anchor, a relaxed and inspirational film, which is very suitable for you. it is a relaxing and inspirational film.\\n>> User:          i think i changed my mind, is there any movie about suspense!\\n>>DialoGPT:      i highly recommend picnic on the cliff, a suspenseful and suspenseful suspense film, which is very good. i watched it many times when i was a kid, and i still have a deep impression now. it's worth watching again. i recommend a suspenseful movie to you. you can watch it when you have time. you will definitely be satisfied.\\n>> User:         thank you very much for your recommendation. i need to go now goodbye !\\n\""
            ]
          },
          "execution_count": 120,
          "metadata": {},
          "output_type": "execute_result"
        }
      ],
      "source": [
        "\n",
        "#Beam search Decoding\n",
        "next_movie_to_watch=\"\"\n",
        "previous_string=persona_0+tokenizer_gpt.eos_token +'<recommender>'\n",
        "persona_ids=tokenizer_gpt.encode(previous_string , return_tensors='pt').to(device)\n",
        "new_user_input_ids=persona_ids\n",
        "previous_interactions=\"\"\n",
        "#print(f'previous string: {previous_string}')\n",
        "# Let's chat for 5 lines\n",
        "for step in range(100):\n",
        "    # encode the new user input, add the eos_token and return a tensor in Pytorch\n",
        "    # print(new_user_input_ids)\n",
        "    #chat_history_ids= tokenizer.encode(persona)\n",
        "    # append the new user input tokens to the chat history\n",
        "    bot_input_ids = new_user_input_ids\n",
        "\n",
        "    #print(f\"bot_input_ids : {tokenizer_gpt.decode(bot_input_ids[0])}\")\n",
        "\n",
        "    # generated a response while limiting the total chat history to 1000 tokens, \n",
        "    chat_history_ids = model_gpt.dialogGPT.generate(\n",
        "        bot_input_ids, max_length=1000,\n",
        "        pad_token_id=tokenizer_gpt.eos_token_id,\n",
        "        no_repeat_ngram_size=5,\n",
        "        num_beams=5,\n",
        "        early_stop=True\n",
        "\n",
        "        \n",
        "    )\n",
        "    #print(f'chat history id : {tokenizer.decode(chat_history_ids[:, bot_input_ids.shape[-1]:][0])}')\n",
        "\n",
        "#        do_sample=True,\n",
        "\n",
        "#num_return_sequences=3\n",
        "    \n",
        "    # pretty print last ouput tokens from bot\n",
        "    response=tokenizer_gpt.decode(chat_history_ids[:, bot_input_ids.shape[-1]:][0], skip_special_tokens=True)\n",
        "    #print(f'response oroginale ; {response}')\n",
        "\n",
        "\n",
        "    if \"<topic>\" in response:\n",
        "        in_response=response\n",
        "        response=response.split()\n",
        "        response=response[:response.index(\"<topic>\")]\n",
        "        response=\" \".join(x for x in response)\n",
        "    \n",
        "\n",
        "      \n",
        "    if '@' in response:\n",
        "      movie_pred=re.findall(r\"@[0-9]+\",response)[0]\n",
        "      previous_interactions=previous_interactions+' '+movie_pred\n",
        "\n",
        "\n",
        "    #print(f\"see all the dialogue {all_dialogue_text}\")\n",
        "    #print(f\"Fed input to the topic prediction {response}\")\n",
        "    _,topics=get_all_prediction([response],topic_list)\n",
        "    #_,topics=get_all_prediction_only_topic([topic_text_without_big5_personality],topic_list,intent_tokens)\n",
        "    #print(f\" predict the topic {topics}\")\n",
        "    \n",
        "    if '@' in response:\n",
        "      movie_pred=re.findall(r\"@[0-9]+\",response)[0]\n",
        "      #response=response+f\" you may also like {movies_dict[next_movie_to_watch]['name']} based on your previous history of watching.\"\n",
        "      print(\">>DialoGPT:      {}\".format(re.sub(movie_pred, \"\\x1b[6;30;42m\"+movies_dict[movie_pred]['name']+\"\\x1b[0m\", response)))\n",
        "    else:\n",
        "      print(\">>DialoGPT:      {}\".format(response))\n",
        "\n",
        "    \n",
        "    \n",
        "\n",
        "    \n",
        "    user_utterance='<seeker> '+input(\">> User:         \")\n",
        "    _,topics_user_utterance=get_all_prediction([user_utterance],topic_list)\n",
        "    #print(f\"\\n User topic {topics_user_utterance}\\n\")\n",
        "    user_utterance=user_utterance\n",
        "\n",
        "    \"\"\"if (\"request\" in topics) and (\"recommendation \" in topics):\n",
        "      previous_interactions=interactions\n",
        "      next_movie_to_watch=Predict_Movie([previous_interactions+' [MASK]'],big5=[Big5_personality],model=model_movie,tokenizer_m=tokenizer_4rec,device=device, batch_size=32)\n",
        "      print(next_movie_to_watch)\n",
        "      previous_interactions=previous_interactions+' '+next_movie_to_watch\"\"\"\n",
        "    previous_string=previous_string+' '+in_response+tokenizer_gpt.eos_token+ user_utterance + topics_user_utterance+tokenizer_gpt.eos_token+ '<recommender>'\n",
        "    new_user_input_ids = tokenizer_gpt.encode(previous_string ,return_tensors='pt').to(device)\n",
        "    \n",
        "    \n",
        "    \n",
        "    \n",
        "    if (('end' in topics_user_utterance) and (\"feedback\" in topics_user_utterance) and (\"no-topic\" in topics_user_utterance)):\n",
        "      break\n",
        "\n",
        "\n",
        "\n",
        "interac=\" \".join(x for x in movie_history_watching)+previous_interactions+\"[MASK]\"\n",
        "per=[int(x) for x in users_personalities[2].split()]\n",
        "final_shot=Predict_Movie([interac],model=model_movie,tokenizer_m=tokenizer_4rec,device=device, batch_size=32)\n",
        "print(f\"DialoGPT: you may also like {movies_dict[final_shot]['name']} based on your previous watching history. Have a good one, be safe, bye.\")\n",
        "\n",
        "\n",
        "#this user has a litle bit lower neurosisme factor EST, which makes him more relaxed person"
      ]
    }
  ],
  "metadata": {
    "accelerator": "GPU",
    "colab": {
      "collapsed_sections": [],
      "machine_shape": "hm",
      "name": "Final CRS_CombineAll_Trained_Models.ipynb",
      "provenance": []
    },
    "kernelspec": {
      "display_name": "Python 3",
      "name": "python3"
    },
    "language_info": {
      "name": "python"
    },
    "widgets": {
      "application/vnd.jupyter.widget-state+json": {
        "bff47d6049664231a8f6af0e363374c2": {
          "model_module": "@jupyter-widgets/controls",
          "model_name": "HBoxModel",
          "model_module_version": "1.5.0",
          "state": {
            "_dom_classes": [],
            "_model_module": "@jupyter-widgets/controls",
            "_model_module_version": "1.5.0",
            "_model_name": "HBoxModel",
            "_view_count": null,
            "_view_module": "@jupyter-widgets/controls",
            "_view_module_version": "1.5.0",
            "_view_name": "HBoxView",
            "box_style": "",
            "children": [
              "IPY_MODEL_1fd1824407e64b3eb884880e6657499e",
              "IPY_MODEL_8ad78031ae294b3a9cad0f1106dc039a",
              "IPY_MODEL_546b5c323a1f41eca1e0f62ae51e300c"
            ],
            "layout": "IPY_MODEL_947a2a4d0f3041e0a5ece8a01c0787ca"
          }
        },
        "1fd1824407e64b3eb884880e6657499e": {
          "model_module": "@jupyter-widgets/controls",
          "model_name": "HTMLModel",
          "model_module_version": "1.5.0",
          "state": {
            "_dom_classes": [],
            "_model_module": "@jupyter-widgets/controls",
            "_model_module_version": "1.5.0",
            "_model_name": "HTMLModel",
            "_view_count": null,
            "_view_module": "@jupyter-widgets/controls",
            "_view_module_version": "1.5.0",
            "_view_name": "HTMLView",
            "description": "",
            "description_tooltip": null,
            "layout": "IPY_MODEL_bf3f98486a3b431eac5d416e1bf4c6df",
            "placeholder": "​",
            "style": "IPY_MODEL_d794c4e8f0c843dba3ab74707039ea49",
            "value": "Downloading: 100%"
          }
        },
        "8ad78031ae294b3a9cad0f1106dc039a": {
          "model_module": "@jupyter-widgets/controls",
          "model_name": "FloatProgressModel",
          "model_module_version": "1.5.0",
          "state": {
            "_dom_classes": [],
            "_model_module": "@jupyter-widgets/controls",
            "_model_module_version": "1.5.0",
            "_model_name": "FloatProgressModel",
            "_view_count": null,
            "_view_module": "@jupyter-widgets/controls",
            "_view_module_version": "1.5.0",
            "_view_name": "ProgressView",
            "bar_style": "success",
            "description": "",
            "description_tooltip": null,
            "layout": "IPY_MODEL_3ee284eb40ab44c69fd25d9206f65857",
            "max": 665,
            "min": 0,
            "orientation": "horizontal",
            "style": "IPY_MODEL_0934f23cf4f446c58532c3e526189aa5",
            "value": 665
          }
        },
        "546b5c323a1f41eca1e0f62ae51e300c": {
          "model_module": "@jupyter-widgets/controls",
          "model_name": "HTMLModel",
          "model_module_version": "1.5.0",
          "state": {
            "_dom_classes": [],
            "_model_module": "@jupyter-widgets/controls",
            "_model_module_version": "1.5.0",
            "_model_name": "HTMLModel",
            "_view_count": null,
            "_view_module": "@jupyter-widgets/controls",
            "_view_module_version": "1.5.0",
            "_view_name": "HTMLView",
            "description": "",
            "description_tooltip": null,
            "layout": "IPY_MODEL_bb9fc678f49649cdac0e66eae2a7740c",
            "placeholder": "​",
            "style": "IPY_MODEL_0719adef3d9e44d78e356f6876464b28",
            "value": " 665/665 [00:00&lt;00:00, 21.6kB/s]"
          }
        },
        "947a2a4d0f3041e0a5ece8a01c0787ca": {
          "model_module": "@jupyter-widgets/base",
          "model_name": "LayoutModel",
          "model_module_version": "1.2.0",
          "state": {
            "_model_module": "@jupyter-widgets/base",
            "_model_module_version": "1.2.0",
            "_model_name": "LayoutModel",
            "_view_count": null,
            "_view_module": "@jupyter-widgets/base",
            "_view_module_version": "1.2.0",
            "_view_name": "LayoutView",
            "align_content": null,
            "align_items": null,
            "align_self": null,
            "border": null,
            "bottom": null,
            "display": null,
            "flex": null,
            "flex_flow": null,
            "grid_area": null,
            "grid_auto_columns": null,
            "grid_auto_flow": null,
            "grid_auto_rows": null,
            "grid_column": null,
            "grid_gap": null,
            "grid_row": null,
            "grid_template_areas": null,
            "grid_template_columns": null,
            "grid_template_rows": null,
            "height": null,
            "justify_content": null,
            "justify_items": null,
            "left": null,
            "margin": null,
            "max_height": null,
            "max_width": null,
            "min_height": null,
            "min_width": null,
            "object_fit": null,
            "object_position": null,
            "order": null,
            "overflow": null,
            "overflow_x": null,
            "overflow_y": null,
            "padding": null,
            "right": null,
            "top": null,
            "visibility": null,
            "width": null
          }
        },
        "bf3f98486a3b431eac5d416e1bf4c6df": {
          "model_module": "@jupyter-widgets/base",
          "model_name": "LayoutModel",
          "model_module_version": "1.2.0",
          "state": {
            "_model_module": "@jupyter-widgets/base",
            "_model_module_version": "1.2.0",
            "_model_name": "LayoutModel",
            "_view_count": null,
            "_view_module": "@jupyter-widgets/base",
            "_view_module_version": "1.2.0",
            "_view_name": "LayoutView",
            "align_content": null,
            "align_items": null,
            "align_self": null,
            "border": null,
            "bottom": null,
            "display": null,
            "flex": null,
            "flex_flow": null,
            "grid_area": null,
            "grid_auto_columns": null,
            "grid_auto_flow": null,
            "grid_auto_rows": null,
            "grid_column": null,
            "grid_gap": null,
            "grid_row": null,
            "grid_template_areas": null,
            "grid_template_columns": null,
            "grid_template_rows": null,
            "height": null,
            "justify_content": null,
            "justify_items": null,
            "left": null,
            "margin": null,
            "max_height": null,
            "max_width": null,
            "min_height": null,
            "min_width": null,
            "object_fit": null,
            "object_position": null,
            "order": null,
            "overflow": null,
            "overflow_x": null,
            "overflow_y": null,
            "padding": null,
            "right": null,
            "top": null,
            "visibility": null,
            "width": null
          }
        },
        "d794c4e8f0c843dba3ab74707039ea49": {
          "model_module": "@jupyter-widgets/controls",
          "model_name": "DescriptionStyleModel",
          "model_module_version": "1.5.0",
          "state": {
            "_model_module": "@jupyter-widgets/controls",
            "_model_module_version": "1.5.0",
            "_model_name": "DescriptionStyleModel",
            "_view_count": null,
            "_view_module": "@jupyter-widgets/base",
            "_view_module_version": "1.2.0",
            "_view_name": "StyleView",
            "description_width": ""
          }
        },
        "3ee284eb40ab44c69fd25d9206f65857": {
          "model_module": "@jupyter-widgets/base",
          "model_name": "LayoutModel",
          "model_module_version": "1.2.0",
          "state": {
            "_model_module": "@jupyter-widgets/base",
            "_model_module_version": "1.2.0",
            "_model_name": "LayoutModel",
            "_view_count": null,
            "_view_module": "@jupyter-widgets/base",
            "_view_module_version": "1.2.0",
            "_view_name": "LayoutView",
            "align_content": null,
            "align_items": null,
            "align_self": null,
            "border": null,
            "bottom": null,
            "display": null,
            "flex": null,
            "flex_flow": null,
            "grid_area": null,
            "grid_auto_columns": null,
            "grid_auto_flow": null,
            "grid_auto_rows": null,
            "grid_column": null,
            "grid_gap": null,
            "grid_row": null,
            "grid_template_areas": null,
            "grid_template_columns": null,
            "grid_template_rows": null,
            "height": null,
            "justify_content": null,
            "justify_items": null,
            "left": null,
            "margin": null,
            "max_height": null,
            "max_width": null,
            "min_height": null,
            "min_width": null,
            "object_fit": null,
            "object_position": null,
            "order": null,
            "overflow": null,
            "overflow_x": null,
            "overflow_y": null,
            "padding": null,
            "right": null,
            "top": null,
            "visibility": null,
            "width": null
          }
        },
        "0934f23cf4f446c58532c3e526189aa5": {
          "model_module": "@jupyter-widgets/controls",
          "model_name": "ProgressStyleModel",
          "model_module_version": "1.5.0",
          "state": {
            "_model_module": "@jupyter-widgets/controls",
            "_model_module_version": "1.5.0",
            "_model_name": "ProgressStyleModel",
            "_view_count": null,
            "_view_module": "@jupyter-widgets/base",
            "_view_module_version": "1.2.0",
            "_view_name": "StyleView",
            "bar_color": null,
            "description_width": ""
          }
        },
        "bb9fc678f49649cdac0e66eae2a7740c": {
          "model_module": "@jupyter-widgets/base",
          "model_name": "LayoutModel",
          "model_module_version": "1.2.0",
          "state": {
            "_model_module": "@jupyter-widgets/base",
            "_model_module_version": "1.2.0",
            "_model_name": "LayoutModel",
            "_view_count": null,
            "_view_module": "@jupyter-widgets/base",
            "_view_module_version": "1.2.0",
            "_view_name": "LayoutView",
            "align_content": null,
            "align_items": null,
            "align_self": null,
            "border": null,
            "bottom": null,
            "display": null,
            "flex": null,
            "flex_flow": null,
            "grid_area": null,
            "grid_auto_columns": null,
            "grid_auto_flow": null,
            "grid_auto_rows": null,
            "grid_column": null,
            "grid_gap": null,
            "grid_row": null,
            "grid_template_areas": null,
            "grid_template_columns": null,
            "grid_template_rows": null,
            "height": null,
            "justify_content": null,
            "justify_items": null,
            "left": null,
            "margin": null,
            "max_height": null,
            "max_width": null,
            "min_height": null,
            "min_width": null,
            "object_fit": null,
            "object_position": null,
            "order": null,
            "overflow": null,
            "overflow_x": null,
            "overflow_y": null,
            "padding": null,
            "right": null,
            "top": null,
            "visibility": null,
            "width": null
          }
        },
        "0719adef3d9e44d78e356f6876464b28": {
          "model_module": "@jupyter-widgets/controls",
          "model_name": "DescriptionStyleModel",
          "model_module_version": "1.5.0",
          "state": {
            "_model_module": "@jupyter-widgets/controls",
            "_model_module_version": "1.5.0",
            "_model_name": "DescriptionStyleModel",
            "_view_count": null,
            "_view_module": "@jupyter-widgets/base",
            "_view_module_version": "1.2.0",
            "_view_name": "StyleView",
            "description_width": ""
          }
        },
        "76c3f63d0c7a4e589b4b38a2e2047b36": {
          "model_module": "@jupyter-widgets/controls",
          "model_name": "HBoxModel",
          "model_module_version": "1.5.0",
          "state": {
            "_dom_classes": [],
            "_model_module": "@jupyter-widgets/controls",
            "_model_module_version": "1.5.0",
            "_model_name": "HBoxModel",
            "_view_count": null,
            "_view_module": "@jupyter-widgets/controls",
            "_view_module_version": "1.5.0",
            "_view_name": "HBoxView",
            "box_style": "",
            "children": [
              "IPY_MODEL_a6954639138347a6b625d3f69d79831c",
              "IPY_MODEL_531bba3ce998410795a300a2b867b467",
              "IPY_MODEL_45e6094198eb4a9683c2ef4fa60e9379"
            ],
            "layout": "IPY_MODEL_6ec439122f8b4f2185cf40d695dfca6c"
          }
        },
        "a6954639138347a6b625d3f69d79831c": {
          "model_module": "@jupyter-widgets/controls",
          "model_name": "HTMLModel",
          "model_module_version": "1.5.0",
          "state": {
            "_dom_classes": [],
            "_model_module": "@jupyter-widgets/controls",
            "_model_module_version": "1.5.0",
            "_model_name": "HTMLModel",
            "_view_count": null,
            "_view_module": "@jupyter-widgets/controls",
            "_view_module_version": "1.5.0",
            "_view_name": "HTMLView",
            "description": "",
            "description_tooltip": null,
            "layout": "IPY_MODEL_d10b80fbcd92427eafebf5f6f14136ec",
            "placeholder": "​",
            "style": "IPY_MODEL_90047a0f4a394699998a0168fbe4390b",
            "value": "Downloading: 100%"
          }
        },
        "531bba3ce998410795a300a2b867b467": {
          "model_module": "@jupyter-widgets/controls",
          "model_name": "FloatProgressModel",
          "model_module_version": "1.5.0",
          "state": {
            "_dom_classes": [],
            "_model_module": "@jupyter-widgets/controls",
            "_model_module_version": "1.5.0",
            "_model_name": "FloatProgressModel",
            "_view_count": null,
            "_view_module": "@jupyter-widgets/controls",
            "_view_module_version": "1.5.0",
            "_view_name": "ProgressView",
            "bar_style": "success",
            "description": "",
            "description_tooltip": null,
            "layout": "IPY_MODEL_5170e484edaf464999874625caa8b30b",
            "max": 54245363,
            "min": 0,
            "orientation": "horizontal",
            "style": "IPY_MODEL_d807acaab6904a88a6f1af1fd1285738",
            "value": 54245363
          }
        },
        "45e6094198eb4a9683c2ef4fa60e9379": {
          "model_module": "@jupyter-widgets/controls",
          "model_name": "HTMLModel",
          "model_module_version": "1.5.0",
          "state": {
            "_dom_classes": [],
            "_model_module": "@jupyter-widgets/controls",
            "_model_module_version": "1.5.0",
            "_model_name": "HTMLModel",
            "_view_count": null,
            "_view_module": "@jupyter-widgets/controls",
            "_view_module_version": "1.5.0",
            "_view_name": "HTMLView",
            "description": "",
            "description_tooltip": null,
            "layout": "IPY_MODEL_d19c812bbcfc42c38be48bb31336e3c1",
            "placeholder": "​",
            "style": "IPY_MODEL_dc8f5bea860c494eab7c883181a5d029",
            "value": " 51.7M/51.7M [00:00&lt;00:00, 60.1MB/s]"
          }
        },
        "6ec439122f8b4f2185cf40d695dfca6c": {
          "model_module": "@jupyter-widgets/base",
          "model_name": "LayoutModel",
          "model_module_version": "1.2.0",
          "state": {
            "_model_module": "@jupyter-widgets/base",
            "_model_module_version": "1.2.0",
            "_model_name": "LayoutModel",
            "_view_count": null,
            "_view_module": "@jupyter-widgets/base",
            "_view_module_version": "1.2.0",
            "_view_name": "LayoutView",
            "align_content": null,
            "align_items": null,
            "align_self": null,
            "border": null,
            "bottom": null,
            "display": null,
            "flex": null,
            "flex_flow": null,
            "grid_area": null,
            "grid_auto_columns": null,
            "grid_auto_flow": null,
            "grid_auto_rows": null,
            "grid_column": null,
            "grid_gap": null,
            "grid_row": null,
            "grid_template_areas": null,
            "grid_template_columns": null,
            "grid_template_rows": null,
            "height": null,
            "justify_content": null,
            "justify_items": null,
            "left": null,
            "margin": null,
            "max_height": null,
            "max_width": null,
            "min_height": null,
            "min_width": null,
            "object_fit": null,
            "object_position": null,
            "order": null,
            "overflow": null,
            "overflow_x": null,
            "overflow_y": null,
            "padding": null,
            "right": null,
            "top": null,
            "visibility": null,
            "width": null
          }
        },
        "d10b80fbcd92427eafebf5f6f14136ec": {
          "model_module": "@jupyter-widgets/base",
          "model_name": "LayoutModel",
          "model_module_version": "1.2.0",
          "state": {
            "_model_module": "@jupyter-widgets/base",
            "_model_module_version": "1.2.0",
            "_model_name": "LayoutModel",
            "_view_count": null,
            "_view_module": "@jupyter-widgets/base",
            "_view_module_version": "1.2.0",
            "_view_name": "LayoutView",
            "align_content": null,
            "align_items": null,
            "align_self": null,
            "border": null,
            "bottom": null,
            "display": null,
            "flex": null,
            "flex_flow": null,
            "grid_area": null,
            "grid_auto_columns": null,
            "grid_auto_flow": null,
            "grid_auto_rows": null,
            "grid_column": null,
            "grid_gap": null,
            "grid_row": null,
            "grid_template_areas": null,
            "grid_template_columns": null,
            "grid_template_rows": null,
            "height": null,
            "justify_content": null,
            "justify_items": null,
            "left": null,
            "margin": null,
            "max_height": null,
            "max_width": null,
            "min_height": null,
            "min_width": null,
            "object_fit": null,
            "object_position": null,
            "order": null,
            "overflow": null,
            "overflow_x": null,
            "overflow_y": null,
            "padding": null,
            "right": null,
            "top": null,
            "visibility": null,
            "width": null
          }
        },
        "90047a0f4a394699998a0168fbe4390b": {
          "model_module": "@jupyter-widgets/controls",
          "model_name": "DescriptionStyleModel",
          "model_module_version": "1.5.0",
          "state": {
            "_model_module": "@jupyter-widgets/controls",
            "_model_module_version": "1.5.0",
            "_model_name": "DescriptionStyleModel",
            "_view_count": null,
            "_view_module": "@jupyter-widgets/base",
            "_view_module_version": "1.2.0",
            "_view_name": "StyleView",
            "description_width": ""
          }
        },
        "5170e484edaf464999874625caa8b30b": {
          "model_module": "@jupyter-widgets/base",
          "model_name": "LayoutModel",
          "model_module_version": "1.2.0",
          "state": {
            "_model_module": "@jupyter-widgets/base",
            "_model_module_version": "1.2.0",
            "_model_name": "LayoutModel",
            "_view_count": null,
            "_view_module": "@jupyter-widgets/base",
            "_view_module_version": "1.2.0",
            "_view_name": "LayoutView",
            "align_content": null,
            "align_items": null,
            "align_self": null,
            "border": null,
            "bottom": null,
            "display": null,
            "flex": null,
            "flex_flow": null,
            "grid_area": null,
            "grid_auto_columns": null,
            "grid_auto_flow": null,
            "grid_auto_rows": null,
            "grid_column": null,
            "grid_gap": null,
            "grid_row": null,
            "grid_template_areas": null,
            "grid_template_columns": null,
            "grid_template_rows": null,
            "height": null,
            "justify_content": null,
            "justify_items": null,
            "left": null,
            "margin": null,
            "max_height": null,
            "max_width": null,
            "min_height": null,
            "min_width": null,
            "object_fit": null,
            "object_position": null,
            "order": null,
            "overflow": null,
            "overflow_x": null,
            "overflow_y": null,
            "padding": null,
            "right": null,
            "top": null,
            "visibility": null,
            "width": null
          }
        },
        "d807acaab6904a88a6f1af1fd1285738": {
          "model_module": "@jupyter-widgets/controls",
          "model_name": "ProgressStyleModel",
          "model_module_version": "1.5.0",
          "state": {
            "_model_module": "@jupyter-widgets/controls",
            "_model_module_version": "1.5.0",
            "_model_name": "ProgressStyleModel",
            "_view_count": null,
            "_view_module": "@jupyter-widgets/base",
            "_view_module_version": "1.2.0",
            "_view_name": "StyleView",
            "bar_color": null,
            "description_width": ""
          }
        },
        "d19c812bbcfc42c38be48bb31336e3c1": {
          "model_module": "@jupyter-widgets/base",
          "model_name": "LayoutModel",
          "model_module_version": "1.2.0",
          "state": {
            "_model_module": "@jupyter-widgets/base",
            "_model_module_version": "1.2.0",
            "_model_name": "LayoutModel",
            "_view_count": null,
            "_view_module": "@jupyter-widgets/base",
            "_view_module_version": "1.2.0",
            "_view_name": "LayoutView",
            "align_content": null,
            "align_items": null,
            "align_self": null,
            "border": null,
            "bottom": null,
            "display": null,
            "flex": null,
            "flex_flow": null,
            "grid_area": null,
            "grid_auto_columns": null,
            "grid_auto_flow": null,
            "grid_auto_rows": null,
            "grid_column": null,
            "grid_gap": null,
            "grid_row": null,
            "grid_template_areas": null,
            "grid_template_columns": null,
            "grid_template_rows": null,
            "height": null,
            "justify_content": null,
            "justify_items": null,
            "left": null,
            "margin": null,
            "max_height": null,
            "max_width": null,
            "min_height": null,
            "min_width": null,
            "object_fit": null,
            "object_position": null,
            "order": null,
            "overflow": null,
            "overflow_x": null,
            "overflow_y": null,
            "padding": null,
            "right": null,
            "top": null,
            "visibility": null,
            "width": null
          }
        },
        "dc8f5bea860c494eab7c883181a5d029": {
          "model_module": "@jupyter-widgets/controls",
          "model_name": "DescriptionStyleModel",
          "model_module_version": "1.5.0",
          "state": {
            "_model_module": "@jupyter-widgets/controls",
            "_model_module_version": "1.5.0",
            "_model_name": "DescriptionStyleModel",
            "_view_count": null,
            "_view_module": "@jupyter-widgets/base",
            "_view_module_version": "1.2.0",
            "_view_name": "StyleView",
            "description_width": ""
          }
        },
        "bab3721117d74de587e935df3e7b6ead": {
          "model_module": "@jupyter-widgets/controls",
          "model_name": "HBoxModel",
          "model_module_version": "1.5.0",
          "state": {
            "_dom_classes": [],
            "_model_module": "@jupyter-widgets/controls",
            "_model_module_version": "1.5.0",
            "_model_name": "HBoxModel",
            "_view_count": null,
            "_view_module": "@jupyter-widgets/controls",
            "_view_module_version": "1.5.0",
            "_view_name": "HBoxView",
            "box_style": "",
            "children": [
              "IPY_MODEL_ef5af548ae364ded88c147cfb9a23842",
              "IPY_MODEL_263c7b11fc7345e2a8f446bd3f2c1b30",
              "IPY_MODEL_0af8a338ab5242d4aa6934767b9a4e70"
            ],
            "layout": "IPY_MODEL_71f1e64da1d64af897e011fa36a0e025"
          }
        },
        "ef5af548ae364ded88c147cfb9a23842": {
          "model_module": "@jupyter-widgets/controls",
          "model_name": "HTMLModel",
          "model_module_version": "1.5.0",
          "state": {
            "_dom_classes": [],
            "_model_module": "@jupyter-widgets/controls",
            "_model_module_version": "1.5.0",
            "_model_name": "HTMLModel",
            "_view_count": null,
            "_view_module": "@jupyter-widgets/controls",
            "_view_module_version": "1.5.0",
            "_view_name": "HTMLView",
            "description": "",
            "description_tooltip": null,
            "layout": "IPY_MODEL_efef0c4f19814e1388d27e4c8637cdcb",
            "placeholder": "​",
            "style": "IPY_MODEL_0a358deaba4e415486af6b262d4bf390",
            "value": "Downloading: 100%"
          }
        },
        "263c7b11fc7345e2a8f446bd3f2c1b30": {
          "model_module": "@jupyter-widgets/controls",
          "model_name": "FloatProgressModel",
          "model_module_version": "1.5.0",
          "state": {
            "_dom_classes": [],
            "_model_module": "@jupyter-widgets/controls",
            "_model_module_version": "1.5.0",
            "_model_name": "FloatProgressModel",
            "_view_count": null,
            "_view_module": "@jupyter-widgets/controls",
            "_view_module_version": "1.5.0",
            "_view_name": "ProgressView",
            "bar_style": "success",
            "description": "",
            "description_tooltip": null,
            "layout": "IPY_MODEL_517712a3585c43dfa91e270b3eccb1bc",
            "max": 231508,
            "min": 0,
            "orientation": "horizontal",
            "style": "IPY_MODEL_0c384cfc64b94191b197ff3440659b38",
            "value": 231508
          }
        },
        "0af8a338ab5242d4aa6934767b9a4e70": {
          "model_module": "@jupyter-widgets/controls",
          "model_name": "HTMLModel",
          "model_module_version": "1.5.0",
          "state": {
            "_dom_classes": [],
            "_model_module": "@jupyter-widgets/controls",
            "_model_module_version": "1.5.0",
            "_model_name": "HTMLModel",
            "_view_count": null,
            "_view_module": "@jupyter-widgets/controls",
            "_view_module_version": "1.5.0",
            "_view_name": "HTMLView",
            "description": "",
            "description_tooltip": null,
            "layout": "IPY_MODEL_051be8c7ce1b47f6864371016cbf80bd",
            "placeholder": "​",
            "style": "IPY_MODEL_c2f5bd5ef3984afebe12c75366ff6493",
            "value": " 226k/226k [00:00&lt;00:00, 307kB/s]"
          }
        },
        "71f1e64da1d64af897e011fa36a0e025": {
          "model_module": "@jupyter-widgets/base",
          "model_name": "LayoutModel",
          "model_module_version": "1.2.0",
          "state": {
            "_model_module": "@jupyter-widgets/base",
            "_model_module_version": "1.2.0",
            "_model_name": "LayoutModel",
            "_view_count": null,
            "_view_module": "@jupyter-widgets/base",
            "_view_module_version": "1.2.0",
            "_view_name": "LayoutView",
            "align_content": null,
            "align_items": null,
            "align_self": null,
            "border": null,
            "bottom": null,
            "display": null,
            "flex": null,
            "flex_flow": null,
            "grid_area": null,
            "grid_auto_columns": null,
            "grid_auto_flow": null,
            "grid_auto_rows": null,
            "grid_column": null,
            "grid_gap": null,
            "grid_row": null,
            "grid_template_areas": null,
            "grid_template_columns": null,
            "grid_template_rows": null,
            "height": null,
            "justify_content": null,
            "justify_items": null,
            "left": null,
            "margin": null,
            "max_height": null,
            "max_width": null,
            "min_height": null,
            "min_width": null,
            "object_fit": null,
            "object_position": null,
            "order": null,
            "overflow": null,
            "overflow_x": null,
            "overflow_y": null,
            "padding": null,
            "right": null,
            "top": null,
            "visibility": null,
            "width": null
          }
        },
        "efef0c4f19814e1388d27e4c8637cdcb": {
          "model_module": "@jupyter-widgets/base",
          "model_name": "LayoutModel",
          "model_module_version": "1.2.0",
          "state": {
            "_model_module": "@jupyter-widgets/base",
            "_model_module_version": "1.2.0",
            "_model_name": "LayoutModel",
            "_view_count": null,
            "_view_module": "@jupyter-widgets/base",
            "_view_module_version": "1.2.0",
            "_view_name": "LayoutView",
            "align_content": null,
            "align_items": null,
            "align_self": null,
            "border": null,
            "bottom": null,
            "display": null,
            "flex": null,
            "flex_flow": null,
            "grid_area": null,
            "grid_auto_columns": null,
            "grid_auto_flow": null,
            "grid_auto_rows": null,
            "grid_column": null,
            "grid_gap": null,
            "grid_row": null,
            "grid_template_areas": null,
            "grid_template_columns": null,
            "grid_template_rows": null,
            "height": null,
            "justify_content": null,
            "justify_items": null,
            "left": null,
            "margin": null,
            "max_height": null,
            "max_width": null,
            "min_height": null,
            "min_width": null,
            "object_fit": null,
            "object_position": null,
            "order": null,
            "overflow": null,
            "overflow_x": null,
            "overflow_y": null,
            "padding": null,
            "right": null,
            "top": null,
            "visibility": null,
            "width": null
          }
        },
        "0a358deaba4e415486af6b262d4bf390": {
          "model_module": "@jupyter-widgets/controls",
          "model_name": "DescriptionStyleModel",
          "model_module_version": "1.5.0",
          "state": {
            "_model_module": "@jupyter-widgets/controls",
            "_model_module_version": "1.5.0",
            "_model_name": "DescriptionStyleModel",
            "_view_count": null,
            "_view_module": "@jupyter-widgets/base",
            "_view_module_version": "1.2.0",
            "_view_name": "StyleView",
            "description_width": ""
          }
        },
        "517712a3585c43dfa91e270b3eccb1bc": {
          "model_module": "@jupyter-widgets/base",
          "model_name": "LayoutModel",
          "model_module_version": "1.2.0",
          "state": {
            "_model_module": "@jupyter-widgets/base",
            "_model_module_version": "1.2.0",
            "_model_name": "LayoutModel",
            "_view_count": null,
            "_view_module": "@jupyter-widgets/base",
            "_view_module_version": "1.2.0",
            "_view_name": "LayoutView",
            "align_content": null,
            "align_items": null,
            "align_self": null,
            "border": null,
            "bottom": null,
            "display": null,
            "flex": null,
            "flex_flow": null,
            "grid_area": null,
            "grid_auto_columns": null,
            "grid_auto_flow": null,
            "grid_auto_rows": null,
            "grid_column": null,
            "grid_gap": null,
            "grid_row": null,
            "grid_template_areas": null,
            "grid_template_columns": null,
            "grid_template_rows": null,
            "height": null,
            "justify_content": null,
            "justify_items": null,
            "left": null,
            "margin": null,
            "max_height": null,
            "max_width": null,
            "min_height": null,
            "min_width": null,
            "object_fit": null,
            "object_position": null,
            "order": null,
            "overflow": null,
            "overflow_x": null,
            "overflow_y": null,
            "padding": null,
            "right": null,
            "top": null,
            "visibility": null,
            "width": null
          }
        },
        "0c384cfc64b94191b197ff3440659b38": {
          "model_module": "@jupyter-widgets/controls",
          "model_name": "ProgressStyleModel",
          "model_module_version": "1.5.0",
          "state": {
            "_model_module": "@jupyter-widgets/controls",
            "_model_module_version": "1.5.0",
            "_model_name": "ProgressStyleModel",
            "_view_count": null,
            "_view_module": "@jupyter-widgets/base",
            "_view_module_version": "1.2.0",
            "_view_name": "StyleView",
            "bar_color": null,
            "description_width": ""
          }
        },
        "051be8c7ce1b47f6864371016cbf80bd": {
          "model_module": "@jupyter-widgets/base",
          "model_name": "LayoutModel",
          "model_module_version": "1.2.0",
          "state": {
            "_model_module": "@jupyter-widgets/base",
            "_model_module_version": "1.2.0",
            "_model_name": "LayoutModel",
            "_view_count": null,
            "_view_module": "@jupyter-widgets/base",
            "_view_module_version": "1.2.0",
            "_view_name": "LayoutView",
            "align_content": null,
            "align_items": null,
            "align_self": null,
            "border": null,
            "bottom": null,
            "display": null,
            "flex": null,
            "flex_flow": null,
            "grid_area": null,
            "grid_auto_columns": null,
            "grid_auto_flow": null,
            "grid_auto_rows": null,
            "grid_column": null,
            "grid_gap": null,
            "grid_row": null,
            "grid_template_areas": null,
            "grid_template_columns": null,
            "grid_template_rows": null,
            "height": null,
            "justify_content": null,
            "justify_items": null,
            "left": null,
            "margin": null,
            "max_height": null,
            "max_width": null,
            "min_height": null,
            "min_width": null,
            "object_fit": null,
            "object_position": null,
            "order": null,
            "overflow": null,
            "overflow_x": null,
            "overflow_y": null,
            "padding": null,
            "right": null,
            "top": null,
            "visibility": null,
            "width": null
          }
        },
        "c2f5bd5ef3984afebe12c75366ff6493": {
          "model_module": "@jupyter-widgets/controls",
          "model_name": "DescriptionStyleModel",
          "model_module_version": "1.5.0",
          "state": {
            "_model_module": "@jupyter-widgets/controls",
            "_model_module_version": "1.5.0",
            "_model_name": "DescriptionStyleModel",
            "_view_count": null,
            "_view_module": "@jupyter-widgets/base",
            "_view_module_version": "1.2.0",
            "_view_name": "StyleView",
            "description_width": ""
          }
        },
        "78362fd309434a93b4a20d858d2b7410": {
          "model_module": "@jupyter-widgets/controls",
          "model_name": "HBoxModel",
          "model_module_version": "1.5.0",
          "state": {
            "_dom_classes": [],
            "_model_module": "@jupyter-widgets/controls",
            "_model_module_version": "1.5.0",
            "_model_name": "HBoxModel",
            "_view_count": null,
            "_view_module": "@jupyter-widgets/controls",
            "_view_module_version": "1.5.0",
            "_view_name": "HBoxView",
            "box_style": "",
            "children": [
              "IPY_MODEL_0e8070a9927640d881b720450edca6bc",
              "IPY_MODEL_a59e9a47b05b4a29a46373adc6738d36",
              "IPY_MODEL_df2417e06892493aa324c12039481fc6"
            ],
            "layout": "IPY_MODEL_0918cb9cb2cb4c67b9706588007d49b1"
          }
        },
        "0e8070a9927640d881b720450edca6bc": {
          "model_module": "@jupyter-widgets/controls",
          "model_name": "HTMLModel",
          "model_module_version": "1.5.0",
          "state": {
            "_dom_classes": [],
            "_model_module": "@jupyter-widgets/controls",
            "_model_module_version": "1.5.0",
            "_model_name": "HTMLModel",
            "_view_count": null,
            "_view_module": "@jupyter-widgets/controls",
            "_view_module_version": "1.5.0",
            "_view_name": "HTMLView",
            "description": "",
            "description_tooltip": null,
            "layout": "IPY_MODEL_b5f5b6d2acd9479cbf549252bd40f945",
            "placeholder": "​",
            "style": "IPY_MODEL_a040c2a5694641e596268630ca024de3",
            "value": "Downloading: 100%"
          }
        },
        "a59e9a47b05b4a29a46373adc6738d36": {
          "model_module": "@jupyter-widgets/controls",
          "model_name": "FloatProgressModel",
          "model_module_version": "1.5.0",
          "state": {
            "_dom_classes": [],
            "_model_module": "@jupyter-widgets/controls",
            "_model_module_version": "1.5.0",
            "_model_name": "FloatProgressModel",
            "_view_count": null,
            "_view_module": "@jupyter-widgets/controls",
            "_view_module_version": "1.5.0",
            "_view_name": "ProgressView",
            "bar_style": "success",
            "description": "",
            "description_tooltip": null,
            "layout": "IPY_MODEL_9c10b7424ff74d60b5fdf13592e91e4d",
            "max": 29,
            "min": 0,
            "orientation": "horizontal",
            "style": "IPY_MODEL_691d85f5ad65419ca76db0532e87d52a",
            "value": 29
          }
        },
        "df2417e06892493aa324c12039481fc6": {
          "model_module": "@jupyter-widgets/controls",
          "model_name": "HTMLModel",
          "model_module_version": "1.5.0",
          "state": {
            "_dom_classes": [],
            "_model_module": "@jupyter-widgets/controls",
            "_model_module_version": "1.5.0",
            "_model_name": "HTMLModel",
            "_view_count": null,
            "_view_module": "@jupyter-widgets/controls",
            "_view_module_version": "1.5.0",
            "_view_name": "HTMLView",
            "description": "",
            "description_tooltip": null,
            "layout": "IPY_MODEL_417a4aeccfc746b48bda9f5554cf80a7",
            "placeholder": "​",
            "style": "IPY_MODEL_d554363235804bbf9c787d5671a22cb2",
            "value": " 29.0/29.0 [00:00&lt;00:00, 1.16kB/s]"
          }
        },
        "0918cb9cb2cb4c67b9706588007d49b1": {
          "model_module": "@jupyter-widgets/base",
          "model_name": "LayoutModel",
          "model_module_version": "1.2.0",
          "state": {
            "_model_module": "@jupyter-widgets/base",
            "_model_module_version": "1.2.0",
            "_model_name": "LayoutModel",
            "_view_count": null,
            "_view_module": "@jupyter-widgets/base",
            "_view_module_version": "1.2.0",
            "_view_name": "LayoutView",
            "align_content": null,
            "align_items": null,
            "align_self": null,
            "border": null,
            "bottom": null,
            "display": null,
            "flex": null,
            "flex_flow": null,
            "grid_area": null,
            "grid_auto_columns": null,
            "grid_auto_flow": null,
            "grid_auto_rows": null,
            "grid_column": null,
            "grid_gap": null,
            "grid_row": null,
            "grid_template_areas": null,
            "grid_template_columns": null,
            "grid_template_rows": null,
            "height": null,
            "justify_content": null,
            "justify_items": null,
            "left": null,
            "margin": null,
            "max_height": null,
            "max_width": null,
            "min_height": null,
            "min_width": null,
            "object_fit": null,
            "object_position": null,
            "order": null,
            "overflow": null,
            "overflow_x": null,
            "overflow_y": null,
            "padding": null,
            "right": null,
            "top": null,
            "visibility": null,
            "width": null
          }
        },
        "b5f5b6d2acd9479cbf549252bd40f945": {
          "model_module": "@jupyter-widgets/base",
          "model_name": "LayoutModel",
          "model_module_version": "1.2.0",
          "state": {
            "_model_module": "@jupyter-widgets/base",
            "_model_module_version": "1.2.0",
            "_model_name": "LayoutModel",
            "_view_count": null,
            "_view_module": "@jupyter-widgets/base",
            "_view_module_version": "1.2.0",
            "_view_name": "LayoutView",
            "align_content": null,
            "align_items": null,
            "align_self": null,
            "border": null,
            "bottom": null,
            "display": null,
            "flex": null,
            "flex_flow": null,
            "grid_area": null,
            "grid_auto_columns": null,
            "grid_auto_flow": null,
            "grid_auto_rows": null,
            "grid_column": null,
            "grid_gap": null,
            "grid_row": null,
            "grid_template_areas": null,
            "grid_template_columns": null,
            "grid_template_rows": null,
            "height": null,
            "justify_content": null,
            "justify_items": null,
            "left": null,
            "margin": null,
            "max_height": null,
            "max_width": null,
            "min_height": null,
            "min_width": null,
            "object_fit": null,
            "object_position": null,
            "order": null,
            "overflow": null,
            "overflow_x": null,
            "overflow_y": null,
            "padding": null,
            "right": null,
            "top": null,
            "visibility": null,
            "width": null
          }
        },
        "a040c2a5694641e596268630ca024de3": {
          "model_module": "@jupyter-widgets/controls",
          "model_name": "DescriptionStyleModel",
          "model_module_version": "1.5.0",
          "state": {
            "_model_module": "@jupyter-widgets/controls",
            "_model_module_version": "1.5.0",
            "_model_name": "DescriptionStyleModel",
            "_view_count": null,
            "_view_module": "@jupyter-widgets/base",
            "_view_module_version": "1.2.0",
            "_view_name": "StyleView",
            "description_width": ""
          }
        },
        "9c10b7424ff74d60b5fdf13592e91e4d": {
          "model_module": "@jupyter-widgets/base",
          "model_name": "LayoutModel",
          "model_module_version": "1.2.0",
          "state": {
            "_model_module": "@jupyter-widgets/base",
            "_model_module_version": "1.2.0",
            "_model_name": "LayoutModel",
            "_view_count": null,
            "_view_module": "@jupyter-widgets/base",
            "_view_module_version": "1.2.0",
            "_view_name": "LayoutView",
            "align_content": null,
            "align_items": null,
            "align_self": null,
            "border": null,
            "bottom": null,
            "display": null,
            "flex": null,
            "flex_flow": null,
            "grid_area": null,
            "grid_auto_columns": null,
            "grid_auto_flow": null,
            "grid_auto_rows": null,
            "grid_column": null,
            "grid_gap": null,
            "grid_row": null,
            "grid_template_areas": null,
            "grid_template_columns": null,
            "grid_template_rows": null,
            "height": null,
            "justify_content": null,
            "justify_items": null,
            "left": null,
            "margin": null,
            "max_height": null,
            "max_width": null,
            "min_height": null,
            "min_width": null,
            "object_fit": null,
            "object_position": null,
            "order": null,
            "overflow": null,
            "overflow_x": null,
            "overflow_y": null,
            "padding": null,
            "right": null,
            "top": null,
            "visibility": null,
            "width": null
          }
        },
        "691d85f5ad65419ca76db0532e87d52a": {
          "model_module": "@jupyter-widgets/controls",
          "model_name": "ProgressStyleModel",
          "model_module_version": "1.5.0",
          "state": {
            "_model_module": "@jupyter-widgets/controls",
            "_model_module_version": "1.5.0",
            "_model_name": "ProgressStyleModel",
            "_view_count": null,
            "_view_module": "@jupyter-widgets/base",
            "_view_module_version": "1.2.0",
            "_view_name": "StyleView",
            "bar_color": null,
            "description_width": ""
          }
        },
        "417a4aeccfc746b48bda9f5554cf80a7": {
          "model_module": "@jupyter-widgets/base",
          "model_name": "LayoutModel",
          "model_module_version": "1.2.0",
          "state": {
            "_model_module": "@jupyter-widgets/base",
            "_model_module_version": "1.2.0",
            "_model_name": "LayoutModel",
            "_view_count": null,
            "_view_module": "@jupyter-widgets/base",
            "_view_module_version": "1.2.0",
            "_view_name": "LayoutView",
            "align_content": null,
            "align_items": null,
            "align_self": null,
            "border": null,
            "bottom": null,
            "display": null,
            "flex": null,
            "flex_flow": null,
            "grid_area": null,
            "grid_auto_columns": null,
            "grid_auto_flow": null,
            "grid_auto_rows": null,
            "grid_column": null,
            "grid_gap": null,
            "grid_row": null,
            "grid_template_areas": null,
            "grid_template_columns": null,
            "grid_template_rows": null,
            "height": null,
            "justify_content": null,
            "justify_items": null,
            "left": null,
            "margin": null,
            "max_height": null,
            "max_width": null,
            "min_height": null,
            "min_width": null,
            "object_fit": null,
            "object_position": null,
            "order": null,
            "overflow": null,
            "overflow_x": null,
            "overflow_y": null,
            "padding": null,
            "right": null,
            "top": null,
            "visibility": null,
            "width": null
          }
        },
        "d554363235804bbf9c787d5671a22cb2": {
          "model_module": "@jupyter-widgets/controls",
          "model_name": "DescriptionStyleModel",
          "model_module_version": "1.5.0",
          "state": {
            "_model_module": "@jupyter-widgets/controls",
            "_model_module_version": "1.5.0",
            "_model_name": "DescriptionStyleModel",
            "_view_count": null,
            "_view_module": "@jupyter-widgets/base",
            "_view_module_version": "1.2.0",
            "_view_name": "StyleView",
            "description_width": ""
          }
        },
        "3c0b49f61ca34554a2919e35e569f28b": {
          "model_module": "@jupyter-widgets/controls",
          "model_name": "HBoxModel",
          "model_module_version": "1.5.0",
          "state": {
            "_dom_classes": [],
            "_model_module": "@jupyter-widgets/controls",
            "_model_module_version": "1.5.0",
            "_model_name": "HBoxModel",
            "_view_count": null,
            "_view_module": "@jupyter-widgets/controls",
            "_view_module_version": "1.5.0",
            "_view_name": "HBoxView",
            "box_style": "",
            "children": [
              "IPY_MODEL_6d63324beace40a89dd8e4d6976f3570",
              "IPY_MODEL_4ec2993ffed44961b67381964b6578b7",
              "IPY_MODEL_54c36e940f544b84b3921056d710efd2"
            ],
            "layout": "IPY_MODEL_6339fa68d6c848879f45426e895c1a0e"
          }
        },
        "6d63324beace40a89dd8e4d6976f3570": {
          "model_module": "@jupyter-widgets/controls",
          "model_name": "HTMLModel",
          "model_module_version": "1.5.0",
          "state": {
            "_dom_classes": [],
            "_model_module": "@jupyter-widgets/controls",
            "_model_module_version": "1.5.0",
            "_model_name": "HTMLModel",
            "_view_count": null,
            "_view_module": "@jupyter-widgets/controls",
            "_view_module_version": "1.5.0",
            "_view_name": "HTMLView",
            "description": "",
            "description_tooltip": null,
            "layout": "IPY_MODEL_57e747fbd5a64dcca364ec55a54e5e24",
            "placeholder": "​",
            "style": "IPY_MODEL_014d2bbf3d2f4e40b9d339e5b67498dd",
            "value": "Downloading: 100%"
          }
        },
        "4ec2993ffed44961b67381964b6578b7": {
          "model_module": "@jupyter-widgets/controls",
          "model_name": "FloatProgressModel",
          "model_module_version": "1.5.0",
          "state": {
            "_dom_classes": [],
            "_model_module": "@jupyter-widgets/controls",
            "_model_module_version": "1.5.0",
            "_model_name": "FloatProgressModel",
            "_view_count": null,
            "_view_module": "@jupyter-widgets/controls",
            "_view_module_version": "1.5.0",
            "_view_name": "ProgressView",
            "bar_style": "success",
            "description": "",
            "description_tooltip": null,
            "layout": "IPY_MODEL_ab0ea930cfa84f3fa6e21fc550bb06f8",
            "max": 483,
            "min": 0,
            "orientation": "horizontal",
            "style": "IPY_MODEL_89077cc88a62437b897c19fac0c1c195",
            "value": 483
          }
        },
        "54c36e940f544b84b3921056d710efd2": {
          "model_module": "@jupyter-widgets/controls",
          "model_name": "HTMLModel",
          "model_module_version": "1.5.0",
          "state": {
            "_dom_classes": [],
            "_model_module": "@jupyter-widgets/controls",
            "_model_module_version": "1.5.0",
            "_model_name": "HTMLModel",
            "_view_count": null,
            "_view_module": "@jupyter-widgets/controls",
            "_view_module_version": "1.5.0",
            "_view_name": "HTMLView",
            "description": "",
            "description_tooltip": null,
            "layout": "IPY_MODEL_eef75c0aab114b3c92eb16b8160e4008",
            "placeholder": "​",
            "style": "IPY_MODEL_6a3e2f73ec7144bab2ffb51e06a0f5ef",
            "value": " 483/483 [00:00&lt;00:00, 18.9kB/s]"
          }
        },
        "6339fa68d6c848879f45426e895c1a0e": {
          "model_module": "@jupyter-widgets/base",
          "model_name": "LayoutModel",
          "model_module_version": "1.2.0",
          "state": {
            "_model_module": "@jupyter-widgets/base",
            "_model_module_version": "1.2.0",
            "_model_name": "LayoutModel",
            "_view_count": null,
            "_view_module": "@jupyter-widgets/base",
            "_view_module_version": "1.2.0",
            "_view_name": "LayoutView",
            "align_content": null,
            "align_items": null,
            "align_self": null,
            "border": null,
            "bottom": null,
            "display": null,
            "flex": null,
            "flex_flow": null,
            "grid_area": null,
            "grid_auto_columns": null,
            "grid_auto_flow": null,
            "grid_auto_rows": null,
            "grid_column": null,
            "grid_gap": null,
            "grid_row": null,
            "grid_template_areas": null,
            "grid_template_columns": null,
            "grid_template_rows": null,
            "height": null,
            "justify_content": null,
            "justify_items": null,
            "left": null,
            "margin": null,
            "max_height": null,
            "max_width": null,
            "min_height": null,
            "min_width": null,
            "object_fit": null,
            "object_position": null,
            "order": null,
            "overflow": null,
            "overflow_x": null,
            "overflow_y": null,
            "padding": null,
            "right": null,
            "top": null,
            "visibility": null,
            "width": null
          }
        },
        "57e747fbd5a64dcca364ec55a54e5e24": {
          "model_module": "@jupyter-widgets/base",
          "model_name": "LayoutModel",
          "model_module_version": "1.2.0",
          "state": {
            "_model_module": "@jupyter-widgets/base",
            "_model_module_version": "1.2.0",
            "_model_name": "LayoutModel",
            "_view_count": null,
            "_view_module": "@jupyter-widgets/base",
            "_view_module_version": "1.2.0",
            "_view_name": "LayoutView",
            "align_content": null,
            "align_items": null,
            "align_self": null,
            "border": null,
            "bottom": null,
            "display": null,
            "flex": null,
            "flex_flow": null,
            "grid_area": null,
            "grid_auto_columns": null,
            "grid_auto_flow": null,
            "grid_auto_rows": null,
            "grid_column": null,
            "grid_gap": null,
            "grid_row": null,
            "grid_template_areas": null,
            "grid_template_columns": null,
            "grid_template_rows": null,
            "height": null,
            "justify_content": null,
            "justify_items": null,
            "left": null,
            "margin": null,
            "max_height": null,
            "max_width": null,
            "min_height": null,
            "min_width": null,
            "object_fit": null,
            "object_position": null,
            "order": null,
            "overflow": null,
            "overflow_x": null,
            "overflow_y": null,
            "padding": null,
            "right": null,
            "top": null,
            "visibility": null,
            "width": null
          }
        },
        "014d2bbf3d2f4e40b9d339e5b67498dd": {
          "model_module": "@jupyter-widgets/controls",
          "model_name": "DescriptionStyleModel",
          "model_module_version": "1.5.0",
          "state": {
            "_model_module": "@jupyter-widgets/controls",
            "_model_module_version": "1.5.0",
            "_model_name": "DescriptionStyleModel",
            "_view_count": null,
            "_view_module": "@jupyter-widgets/base",
            "_view_module_version": "1.2.0",
            "_view_name": "StyleView",
            "description_width": ""
          }
        },
        "ab0ea930cfa84f3fa6e21fc550bb06f8": {
          "model_module": "@jupyter-widgets/base",
          "model_name": "LayoutModel",
          "model_module_version": "1.2.0",
          "state": {
            "_model_module": "@jupyter-widgets/base",
            "_model_module_version": "1.2.0",
            "_model_name": "LayoutModel",
            "_view_count": null,
            "_view_module": "@jupyter-widgets/base",
            "_view_module_version": "1.2.0",
            "_view_name": "LayoutView",
            "align_content": null,
            "align_items": null,
            "align_self": null,
            "border": null,
            "bottom": null,
            "display": null,
            "flex": null,
            "flex_flow": null,
            "grid_area": null,
            "grid_auto_columns": null,
            "grid_auto_flow": null,
            "grid_auto_rows": null,
            "grid_column": null,
            "grid_gap": null,
            "grid_row": null,
            "grid_template_areas": null,
            "grid_template_columns": null,
            "grid_template_rows": null,
            "height": null,
            "justify_content": null,
            "justify_items": null,
            "left": null,
            "margin": null,
            "max_height": null,
            "max_width": null,
            "min_height": null,
            "min_width": null,
            "object_fit": null,
            "object_position": null,
            "order": null,
            "overflow": null,
            "overflow_x": null,
            "overflow_y": null,
            "padding": null,
            "right": null,
            "top": null,
            "visibility": null,
            "width": null
          }
        },
        "89077cc88a62437b897c19fac0c1c195": {
          "model_module": "@jupyter-widgets/controls",
          "model_name": "ProgressStyleModel",
          "model_module_version": "1.5.0",
          "state": {
            "_model_module": "@jupyter-widgets/controls",
            "_model_module_version": "1.5.0",
            "_model_name": "ProgressStyleModel",
            "_view_count": null,
            "_view_module": "@jupyter-widgets/base",
            "_view_module_version": "1.2.0",
            "_view_name": "StyleView",
            "bar_color": null,
            "description_width": ""
          }
        },
        "eef75c0aab114b3c92eb16b8160e4008": {
          "model_module": "@jupyter-widgets/base",
          "model_name": "LayoutModel",
          "model_module_version": "1.2.0",
          "state": {
            "_model_module": "@jupyter-widgets/base",
            "_model_module_version": "1.2.0",
            "_model_name": "LayoutModel",
            "_view_count": null,
            "_view_module": "@jupyter-widgets/base",
            "_view_module_version": "1.2.0",
            "_view_name": "LayoutView",
            "align_content": null,
            "align_items": null,
            "align_self": null,
            "border": null,
            "bottom": null,
            "display": null,
            "flex": null,
            "flex_flow": null,
            "grid_area": null,
            "grid_auto_columns": null,
            "grid_auto_flow": null,
            "grid_auto_rows": null,
            "grid_column": null,
            "grid_gap": null,
            "grid_row": null,
            "grid_template_areas": null,
            "grid_template_columns": null,
            "grid_template_rows": null,
            "height": null,
            "justify_content": null,
            "justify_items": null,
            "left": null,
            "margin": null,
            "max_height": null,
            "max_width": null,
            "min_height": null,
            "min_width": null,
            "object_fit": null,
            "object_position": null,
            "order": null,
            "overflow": null,
            "overflow_x": null,
            "overflow_y": null,
            "padding": null,
            "right": null,
            "top": null,
            "visibility": null,
            "width": null
          }
        },
        "6a3e2f73ec7144bab2ffb51e06a0f5ef": {
          "model_module": "@jupyter-widgets/controls",
          "model_name": "DescriptionStyleModel",
          "model_module_version": "1.5.0",
          "state": {
            "_model_module": "@jupyter-widgets/controls",
            "_model_module_version": "1.5.0",
            "_model_name": "DescriptionStyleModel",
            "_view_count": null,
            "_view_module": "@jupyter-widgets/base",
            "_view_module_version": "1.2.0",
            "_view_name": "StyleView",
            "description_width": ""
          }
        },
        "d4b8bae4953d43b295e377f23951e568": {
          "model_module": "@jupyter-widgets/controls",
          "model_name": "HBoxModel",
          "model_module_version": "1.5.0",
          "state": {
            "_dom_classes": [],
            "_model_module": "@jupyter-widgets/controls",
            "_model_module_version": "1.5.0",
            "_model_name": "HBoxModel",
            "_view_count": null,
            "_view_module": "@jupyter-widgets/controls",
            "_view_module_version": "1.5.0",
            "_view_name": "HBoxView",
            "box_style": "",
            "children": [
              "IPY_MODEL_3795130dab8a49469e121a9f4ebdce32",
              "IPY_MODEL_00768c2c4f834c20b488cbcac9398147",
              "IPY_MODEL_b3055d721cdc4130868ffd106a5962e9"
            ],
            "layout": "IPY_MODEL_170854be73a64490945843940713ed3c"
          }
        },
        "3795130dab8a49469e121a9f4ebdce32": {
          "model_module": "@jupyter-widgets/controls",
          "model_name": "HTMLModel",
          "model_module_version": "1.5.0",
          "state": {
            "_dom_classes": [],
            "_model_module": "@jupyter-widgets/controls",
            "_model_module_version": "1.5.0",
            "_model_name": "HTMLModel",
            "_view_count": null,
            "_view_module": "@jupyter-widgets/controls",
            "_view_module_version": "1.5.0",
            "_view_name": "HTMLView",
            "description": "",
            "description_tooltip": null,
            "layout": "IPY_MODEL_ff8626b25e50426c9a9e7c578a736720",
            "placeholder": "​",
            "style": "IPY_MODEL_e51dbe2c134f46a9b676860dd44166b3",
            "value": "Downloading: 100%"
          }
        },
        "00768c2c4f834c20b488cbcac9398147": {
          "model_module": "@jupyter-widgets/controls",
          "model_name": "FloatProgressModel",
          "model_module_version": "1.5.0",
          "state": {
            "_dom_classes": [],
            "_model_module": "@jupyter-widgets/controls",
            "_model_module_version": "1.5.0",
            "_model_name": "FloatProgressModel",
            "_view_count": null,
            "_view_module": "@jupyter-widgets/controls",
            "_view_module_version": "1.5.0",
            "_view_name": "ProgressView",
            "bar_style": "success",
            "description": "",
            "description_tooltip": null,
            "layout": "IPY_MODEL_39a8a060ea5e47aea3a2051c9c1ef052",
            "max": 267967963,
            "min": 0,
            "orientation": "horizontal",
            "style": "IPY_MODEL_2b58646aaa244055a0bf8803c92947af",
            "value": 267967963
          }
        },
        "b3055d721cdc4130868ffd106a5962e9": {
          "model_module": "@jupyter-widgets/controls",
          "model_name": "HTMLModel",
          "model_module_version": "1.5.0",
          "state": {
            "_dom_classes": [],
            "_model_module": "@jupyter-widgets/controls",
            "_model_module_version": "1.5.0",
            "_model_name": "HTMLModel",
            "_view_count": null,
            "_view_module": "@jupyter-widgets/controls",
            "_view_module_version": "1.5.0",
            "_view_name": "HTMLView",
            "description": "",
            "description_tooltip": null,
            "layout": "IPY_MODEL_040c7a50ce6747289db5eed3d926e2cc",
            "placeholder": "​",
            "style": "IPY_MODEL_243cdbfe78284b14bcfcef405d4c6e45",
            "value": " 256M/256M [00:04&lt;00:00, 62.5MB/s]"
          }
        },
        "170854be73a64490945843940713ed3c": {
          "model_module": "@jupyter-widgets/base",
          "model_name": "LayoutModel",
          "model_module_version": "1.2.0",
          "state": {
            "_model_module": "@jupyter-widgets/base",
            "_model_module_version": "1.2.0",
            "_model_name": "LayoutModel",
            "_view_count": null,
            "_view_module": "@jupyter-widgets/base",
            "_view_module_version": "1.2.0",
            "_view_name": "LayoutView",
            "align_content": null,
            "align_items": null,
            "align_self": null,
            "border": null,
            "bottom": null,
            "display": null,
            "flex": null,
            "flex_flow": null,
            "grid_area": null,
            "grid_auto_columns": null,
            "grid_auto_flow": null,
            "grid_auto_rows": null,
            "grid_column": null,
            "grid_gap": null,
            "grid_row": null,
            "grid_template_areas": null,
            "grid_template_columns": null,
            "grid_template_rows": null,
            "height": null,
            "justify_content": null,
            "justify_items": null,
            "left": null,
            "margin": null,
            "max_height": null,
            "max_width": null,
            "min_height": null,
            "min_width": null,
            "object_fit": null,
            "object_position": null,
            "order": null,
            "overflow": null,
            "overflow_x": null,
            "overflow_y": null,
            "padding": null,
            "right": null,
            "top": null,
            "visibility": null,
            "width": null
          }
        },
        "ff8626b25e50426c9a9e7c578a736720": {
          "model_module": "@jupyter-widgets/base",
          "model_name": "LayoutModel",
          "model_module_version": "1.2.0",
          "state": {
            "_model_module": "@jupyter-widgets/base",
            "_model_module_version": "1.2.0",
            "_model_name": "LayoutModel",
            "_view_count": null,
            "_view_module": "@jupyter-widgets/base",
            "_view_module_version": "1.2.0",
            "_view_name": "LayoutView",
            "align_content": null,
            "align_items": null,
            "align_self": null,
            "border": null,
            "bottom": null,
            "display": null,
            "flex": null,
            "flex_flow": null,
            "grid_area": null,
            "grid_auto_columns": null,
            "grid_auto_flow": null,
            "grid_auto_rows": null,
            "grid_column": null,
            "grid_gap": null,
            "grid_row": null,
            "grid_template_areas": null,
            "grid_template_columns": null,
            "grid_template_rows": null,
            "height": null,
            "justify_content": null,
            "justify_items": null,
            "left": null,
            "margin": null,
            "max_height": null,
            "max_width": null,
            "min_height": null,
            "min_width": null,
            "object_fit": null,
            "object_position": null,
            "order": null,
            "overflow": null,
            "overflow_x": null,
            "overflow_y": null,
            "padding": null,
            "right": null,
            "top": null,
            "visibility": null,
            "width": null
          }
        },
        "e51dbe2c134f46a9b676860dd44166b3": {
          "model_module": "@jupyter-widgets/controls",
          "model_name": "DescriptionStyleModel",
          "model_module_version": "1.5.0",
          "state": {
            "_model_module": "@jupyter-widgets/controls",
            "_model_module_version": "1.5.0",
            "_model_name": "DescriptionStyleModel",
            "_view_count": null,
            "_view_module": "@jupyter-widgets/base",
            "_view_module_version": "1.2.0",
            "_view_name": "StyleView",
            "description_width": ""
          }
        },
        "39a8a060ea5e47aea3a2051c9c1ef052": {
          "model_module": "@jupyter-widgets/base",
          "model_name": "LayoutModel",
          "model_module_version": "1.2.0",
          "state": {
            "_model_module": "@jupyter-widgets/base",
            "_model_module_version": "1.2.0",
            "_model_name": "LayoutModel",
            "_view_count": null,
            "_view_module": "@jupyter-widgets/base",
            "_view_module_version": "1.2.0",
            "_view_name": "LayoutView",
            "align_content": null,
            "align_items": null,
            "align_self": null,
            "border": null,
            "bottom": null,
            "display": null,
            "flex": null,
            "flex_flow": null,
            "grid_area": null,
            "grid_auto_columns": null,
            "grid_auto_flow": null,
            "grid_auto_rows": null,
            "grid_column": null,
            "grid_gap": null,
            "grid_row": null,
            "grid_template_areas": null,
            "grid_template_columns": null,
            "grid_template_rows": null,
            "height": null,
            "justify_content": null,
            "justify_items": null,
            "left": null,
            "margin": null,
            "max_height": null,
            "max_width": null,
            "min_height": null,
            "min_width": null,
            "object_fit": null,
            "object_position": null,
            "order": null,
            "overflow": null,
            "overflow_x": null,
            "overflow_y": null,
            "padding": null,
            "right": null,
            "top": null,
            "visibility": null,
            "width": null
          }
        },
        "2b58646aaa244055a0bf8803c92947af": {
          "model_module": "@jupyter-widgets/controls",
          "model_name": "ProgressStyleModel",
          "model_module_version": "1.5.0",
          "state": {
            "_model_module": "@jupyter-widgets/controls",
            "_model_module_version": "1.5.0",
            "_model_name": "ProgressStyleModel",
            "_view_count": null,
            "_view_module": "@jupyter-widgets/base",
            "_view_module_version": "1.2.0",
            "_view_name": "StyleView",
            "bar_color": null,
            "description_width": ""
          }
        },
        "040c7a50ce6747289db5eed3d926e2cc": {
          "model_module": "@jupyter-widgets/base",
          "model_name": "LayoutModel",
          "model_module_version": "1.2.0",
          "state": {
            "_model_module": "@jupyter-widgets/base",
            "_model_module_version": "1.2.0",
            "_model_name": "LayoutModel",
            "_view_count": null,
            "_view_module": "@jupyter-widgets/base",
            "_view_module_version": "1.2.0",
            "_view_name": "LayoutView",
            "align_content": null,
            "align_items": null,
            "align_self": null,
            "border": null,
            "bottom": null,
            "display": null,
            "flex": null,
            "flex_flow": null,
            "grid_area": null,
            "grid_auto_columns": null,
            "grid_auto_flow": null,
            "grid_auto_rows": null,
            "grid_column": null,
            "grid_gap": null,
            "grid_row": null,
            "grid_template_areas": null,
            "grid_template_columns": null,
            "grid_template_rows": null,
            "height": null,
            "justify_content": null,
            "justify_items": null,
            "left": null,
            "margin": null,
            "max_height": null,
            "max_width": null,
            "min_height": null,
            "min_width": null,
            "object_fit": null,
            "object_position": null,
            "order": null,
            "overflow": null,
            "overflow_x": null,
            "overflow_y": null,
            "padding": null,
            "right": null,
            "top": null,
            "visibility": null,
            "width": null
          }
        },
        "243cdbfe78284b14bcfcef405d4c6e45": {
          "model_module": "@jupyter-widgets/controls",
          "model_name": "DescriptionStyleModel",
          "model_module_version": "1.5.0",
          "state": {
            "_model_module": "@jupyter-widgets/controls",
            "_model_module_version": "1.5.0",
            "_model_name": "DescriptionStyleModel",
            "_view_count": null,
            "_view_module": "@jupyter-widgets/base",
            "_view_module_version": "1.2.0",
            "_view_name": "StyleView",
            "description_width": ""
          }
        },
        "a9f7e9b226274beaa73396ce81998a8c": {
          "model_module": "@jupyter-widgets/controls",
          "model_name": "HBoxModel",
          "model_module_version": "1.5.0",
          "state": {
            "_dom_classes": [],
            "_model_module": "@jupyter-widgets/controls",
            "_model_module_version": "1.5.0",
            "_model_name": "HBoxModel",
            "_view_count": null,
            "_view_module": "@jupyter-widgets/controls",
            "_view_module_version": "1.5.0",
            "_view_name": "HBoxView",
            "box_style": "",
            "children": [
              "IPY_MODEL_3b93b39349a947a6b25fe347f22df990",
              "IPY_MODEL_13e68cd35815423c83bd166ed3691e01",
              "IPY_MODEL_d7c2c9a4b58b444bb1471834b986e3d4"
            ],
            "layout": "IPY_MODEL_04a9e5f3adbd41198f17ad1b9608dfa1"
          }
        },
        "3b93b39349a947a6b25fe347f22df990": {
          "model_module": "@jupyter-widgets/controls",
          "model_name": "HTMLModel",
          "model_module_version": "1.5.0",
          "state": {
            "_dom_classes": [],
            "_model_module": "@jupyter-widgets/controls",
            "_model_module_version": "1.5.0",
            "_model_name": "HTMLModel",
            "_view_count": null,
            "_view_module": "@jupyter-widgets/controls",
            "_view_module_version": "1.5.0",
            "_view_name": "HTMLView",
            "description": "",
            "description_tooltip": null,
            "layout": "IPY_MODEL_9fef2af8916548839b7b4abb4a2f568e",
            "placeholder": "​",
            "style": "IPY_MODEL_286a61123d144c2e9ffd13f64c2b3e34",
            "value": "Downloading: 100%"
          }
        },
        "13e68cd35815423c83bd166ed3691e01": {
          "model_module": "@jupyter-widgets/controls",
          "model_name": "FloatProgressModel",
          "model_module_version": "1.5.0",
          "state": {
            "_dom_classes": [],
            "_model_module": "@jupyter-widgets/controls",
            "_model_module_version": "1.5.0",
            "_model_name": "FloatProgressModel",
            "_view_count": null,
            "_view_module": "@jupyter-widgets/controls",
            "_view_module_version": "1.5.0",
            "_view_name": "ProgressView",
            "bar_style": "success",
            "description": "",
            "description_tooltip": null,
            "layout": "IPY_MODEL_a27da01ddd1b4fbf8848d6061e8a07ee",
            "max": 641,
            "min": 0,
            "orientation": "horizontal",
            "style": "IPY_MODEL_1ca22edaec7b4557a333b876a6d0ce3c",
            "value": 641
          }
        },
        "d7c2c9a4b58b444bb1471834b986e3d4": {
          "model_module": "@jupyter-widgets/controls",
          "model_name": "HTMLModel",
          "model_module_version": "1.5.0",
          "state": {
            "_dom_classes": [],
            "_model_module": "@jupyter-widgets/controls",
            "_model_module_version": "1.5.0",
            "_model_name": "HTMLModel",
            "_view_count": null,
            "_view_module": "@jupyter-widgets/controls",
            "_view_module_version": "1.5.0",
            "_view_name": "HTMLView",
            "description": "",
            "description_tooltip": null,
            "layout": "IPY_MODEL_157fe98b5a3d420c877e533473d9bdcb",
            "placeholder": "​",
            "style": "IPY_MODEL_916ac9b46ec843379ee60817e6cdbf0a",
            "value": " 641/641 [00:00&lt;00:00, 25.9kB/s]"
          }
        },
        "04a9e5f3adbd41198f17ad1b9608dfa1": {
          "model_module": "@jupyter-widgets/base",
          "model_name": "LayoutModel",
          "model_module_version": "1.2.0",
          "state": {
            "_model_module": "@jupyter-widgets/base",
            "_model_module_version": "1.2.0",
            "_model_name": "LayoutModel",
            "_view_count": null,
            "_view_module": "@jupyter-widgets/base",
            "_view_module_version": "1.2.0",
            "_view_name": "LayoutView",
            "align_content": null,
            "align_items": null,
            "align_self": null,
            "border": null,
            "bottom": null,
            "display": null,
            "flex": null,
            "flex_flow": null,
            "grid_area": null,
            "grid_auto_columns": null,
            "grid_auto_flow": null,
            "grid_auto_rows": null,
            "grid_column": null,
            "grid_gap": null,
            "grid_row": null,
            "grid_template_areas": null,
            "grid_template_columns": null,
            "grid_template_rows": null,
            "height": null,
            "justify_content": null,
            "justify_items": null,
            "left": null,
            "margin": null,
            "max_height": null,
            "max_width": null,
            "min_height": null,
            "min_width": null,
            "object_fit": null,
            "object_position": null,
            "order": null,
            "overflow": null,
            "overflow_x": null,
            "overflow_y": null,
            "padding": null,
            "right": null,
            "top": null,
            "visibility": null,
            "width": null
          }
        },
        "9fef2af8916548839b7b4abb4a2f568e": {
          "model_module": "@jupyter-widgets/base",
          "model_name": "LayoutModel",
          "model_module_version": "1.2.0",
          "state": {
            "_model_module": "@jupyter-widgets/base",
            "_model_module_version": "1.2.0",
            "_model_name": "LayoutModel",
            "_view_count": null,
            "_view_module": "@jupyter-widgets/base",
            "_view_module_version": "1.2.0",
            "_view_name": "LayoutView",
            "align_content": null,
            "align_items": null,
            "align_self": null,
            "border": null,
            "bottom": null,
            "display": null,
            "flex": null,
            "flex_flow": null,
            "grid_area": null,
            "grid_auto_columns": null,
            "grid_auto_flow": null,
            "grid_auto_rows": null,
            "grid_column": null,
            "grid_gap": null,
            "grid_row": null,
            "grid_template_areas": null,
            "grid_template_columns": null,
            "grid_template_rows": null,
            "height": null,
            "justify_content": null,
            "justify_items": null,
            "left": null,
            "margin": null,
            "max_height": null,
            "max_width": null,
            "min_height": null,
            "min_width": null,
            "object_fit": null,
            "object_position": null,
            "order": null,
            "overflow": null,
            "overflow_x": null,
            "overflow_y": null,
            "padding": null,
            "right": null,
            "top": null,
            "visibility": null,
            "width": null
          }
        },
        "286a61123d144c2e9ffd13f64c2b3e34": {
          "model_module": "@jupyter-widgets/controls",
          "model_name": "DescriptionStyleModel",
          "model_module_version": "1.5.0",
          "state": {
            "_model_module": "@jupyter-widgets/controls",
            "_model_module_version": "1.5.0",
            "_model_name": "DescriptionStyleModel",
            "_view_count": null,
            "_view_module": "@jupyter-widgets/base",
            "_view_module_version": "1.2.0",
            "_view_name": "StyleView",
            "description_width": ""
          }
        },
        "a27da01ddd1b4fbf8848d6061e8a07ee": {
          "model_module": "@jupyter-widgets/base",
          "model_name": "LayoutModel",
          "model_module_version": "1.2.0",
          "state": {
            "_model_module": "@jupyter-widgets/base",
            "_model_module_version": "1.2.0",
            "_model_name": "LayoutModel",
            "_view_count": null,
            "_view_module": "@jupyter-widgets/base",
            "_view_module_version": "1.2.0",
            "_view_name": "LayoutView",
            "align_content": null,
            "align_items": null,
            "align_self": null,
            "border": null,
            "bottom": null,
            "display": null,
            "flex": null,
            "flex_flow": null,
            "grid_area": null,
            "grid_auto_columns": null,
            "grid_auto_flow": null,
            "grid_auto_rows": null,
            "grid_column": null,
            "grid_gap": null,
            "grid_row": null,
            "grid_template_areas": null,
            "grid_template_columns": null,
            "grid_template_rows": null,
            "height": null,
            "justify_content": null,
            "justify_items": null,
            "left": null,
            "margin": null,
            "max_height": null,
            "max_width": null,
            "min_height": null,
            "min_width": null,
            "object_fit": null,
            "object_position": null,
            "order": null,
            "overflow": null,
            "overflow_x": null,
            "overflow_y": null,
            "padding": null,
            "right": null,
            "top": null,
            "visibility": null,
            "width": null
          }
        },
        "1ca22edaec7b4557a333b876a6d0ce3c": {
          "model_module": "@jupyter-widgets/controls",
          "model_name": "ProgressStyleModel",
          "model_module_version": "1.5.0",
          "state": {
            "_model_module": "@jupyter-widgets/controls",
            "_model_module_version": "1.5.0",
            "_model_name": "ProgressStyleModel",
            "_view_count": null,
            "_view_module": "@jupyter-widgets/base",
            "_view_module_version": "1.2.0",
            "_view_name": "StyleView",
            "bar_color": null,
            "description_width": ""
          }
        },
        "157fe98b5a3d420c877e533473d9bdcb": {
          "model_module": "@jupyter-widgets/base",
          "model_name": "LayoutModel",
          "model_module_version": "1.2.0",
          "state": {
            "_model_module": "@jupyter-widgets/base",
            "_model_module_version": "1.2.0",
            "_model_name": "LayoutModel",
            "_view_count": null,
            "_view_module": "@jupyter-widgets/base",
            "_view_module_version": "1.2.0",
            "_view_name": "LayoutView",
            "align_content": null,
            "align_items": null,
            "align_self": null,
            "border": null,
            "bottom": null,
            "display": null,
            "flex": null,
            "flex_flow": null,
            "grid_area": null,
            "grid_auto_columns": null,
            "grid_auto_flow": null,
            "grid_auto_rows": null,
            "grid_column": null,
            "grid_gap": null,
            "grid_row": null,
            "grid_template_areas": null,
            "grid_template_columns": null,
            "grid_template_rows": null,
            "height": null,
            "justify_content": null,
            "justify_items": null,
            "left": null,
            "margin": null,
            "max_height": null,
            "max_width": null,
            "min_height": null,
            "min_width": null,
            "object_fit": null,
            "object_position": null,
            "order": null,
            "overflow": null,
            "overflow_x": null,
            "overflow_y": null,
            "padding": null,
            "right": null,
            "top": null,
            "visibility": null,
            "width": null
          }
        },
        "916ac9b46ec843379ee60817e6cdbf0a": {
          "model_module": "@jupyter-widgets/controls",
          "model_name": "DescriptionStyleModel",
          "model_module_version": "1.5.0",
          "state": {
            "_model_module": "@jupyter-widgets/controls",
            "_model_module_version": "1.5.0",
            "_model_name": "DescriptionStyleModel",
            "_view_count": null,
            "_view_module": "@jupyter-widgets/base",
            "_view_module_version": "1.2.0",
            "_view_name": "StyleView",
            "description_width": ""
          }
        },
        "ac9b877a7b7c46fb976a4f9822817c71": {
          "model_module": "@jupyter-widgets/controls",
          "model_name": "HBoxModel",
          "model_module_version": "1.5.0",
          "state": {
            "_dom_classes": [],
            "_model_module": "@jupyter-widgets/controls",
            "_model_module_version": "1.5.0",
            "_model_name": "HBoxModel",
            "_view_count": null,
            "_view_module": "@jupyter-widgets/controls",
            "_view_module_version": "1.5.0",
            "_view_name": "HBoxView",
            "box_style": "",
            "children": [
              "IPY_MODEL_6ca2cf62e70e4cb8964ba91271840a95",
              "IPY_MODEL_ed00dfff1589454ea653d6fdd07fb106",
              "IPY_MODEL_b7fb4ea9422448239430259dad3455e1"
            ],
            "layout": "IPY_MODEL_631a6346ad724f7b9c620a85de8fa8b6"
          }
        },
        "6ca2cf62e70e4cb8964ba91271840a95": {
          "model_module": "@jupyter-widgets/controls",
          "model_name": "HTMLModel",
          "model_module_version": "1.5.0",
          "state": {
            "_dom_classes": [],
            "_model_module": "@jupyter-widgets/controls",
            "_model_module_version": "1.5.0",
            "_model_name": "HTMLModel",
            "_view_count": null,
            "_view_module": "@jupyter-widgets/controls",
            "_view_module_version": "1.5.0",
            "_view_name": "HTMLView",
            "description": "",
            "description_tooltip": null,
            "layout": "IPY_MODEL_5d69f2a0bb2c43d887a8bf26124507fd",
            "placeholder": "​",
            "style": "IPY_MODEL_db0f8716e6934a1e9123c1bae8b84aff",
            "value": "Downloading: 100%"
          }
        },
        "ed00dfff1589454ea653d6fdd07fb106": {
          "model_module": "@jupyter-widgets/controls",
          "model_name": "FloatProgressModel",
          "model_module_version": "1.5.0",
          "state": {
            "_dom_classes": [],
            "_model_module": "@jupyter-widgets/controls",
            "_model_module_version": "1.5.0",
            "_model_name": "FloatProgressModel",
            "_view_count": null,
            "_view_module": "@jupyter-widgets/controls",
            "_view_module_version": "1.5.0",
            "_view_name": "ProgressView",
            "bar_style": "success",
            "description": "",
            "description_tooltip": null,
            "layout": "IPY_MODEL_fa32568e4a154c6098fcc22f30b2b3e4",
            "max": 351265583,
            "min": 0,
            "orientation": "horizontal",
            "style": "IPY_MODEL_2d777ba168ee425e9f2ba5c72313aefa",
            "value": 351265583
          }
        },
        "b7fb4ea9422448239430259dad3455e1": {
          "model_module": "@jupyter-widgets/controls",
          "model_name": "HTMLModel",
          "model_module_version": "1.5.0",
          "state": {
            "_dom_classes": [],
            "_model_module": "@jupyter-widgets/controls",
            "_model_module_version": "1.5.0",
            "_model_name": "HTMLModel",
            "_view_count": null,
            "_view_module": "@jupyter-widgets/controls",
            "_view_module_version": "1.5.0",
            "_view_name": "HTMLView",
            "description": "",
            "description_tooltip": null,
            "layout": "IPY_MODEL_dd0451410c2b4e2c8ba1fa96e7af3a2c",
            "placeholder": "​",
            "style": "IPY_MODEL_9022d825b3c24568bb7d5f6e9b21424d",
            "value": " 335M/335M [00:05&lt;00:00, 62.7MB/s]"
          }
        },
        "631a6346ad724f7b9c620a85de8fa8b6": {
          "model_module": "@jupyter-widgets/base",
          "model_name": "LayoutModel",
          "model_module_version": "1.2.0",
          "state": {
            "_model_module": "@jupyter-widgets/base",
            "_model_module_version": "1.2.0",
            "_model_name": "LayoutModel",
            "_view_count": null,
            "_view_module": "@jupyter-widgets/base",
            "_view_module_version": "1.2.0",
            "_view_name": "LayoutView",
            "align_content": null,
            "align_items": null,
            "align_self": null,
            "border": null,
            "bottom": null,
            "display": null,
            "flex": null,
            "flex_flow": null,
            "grid_area": null,
            "grid_auto_columns": null,
            "grid_auto_flow": null,
            "grid_auto_rows": null,
            "grid_column": null,
            "grid_gap": null,
            "grid_row": null,
            "grid_template_areas": null,
            "grid_template_columns": null,
            "grid_template_rows": null,
            "height": null,
            "justify_content": null,
            "justify_items": null,
            "left": null,
            "margin": null,
            "max_height": null,
            "max_width": null,
            "min_height": null,
            "min_width": null,
            "object_fit": null,
            "object_position": null,
            "order": null,
            "overflow": null,
            "overflow_x": null,
            "overflow_y": null,
            "padding": null,
            "right": null,
            "top": null,
            "visibility": null,
            "width": null
          }
        },
        "5d69f2a0bb2c43d887a8bf26124507fd": {
          "model_module": "@jupyter-widgets/base",
          "model_name": "LayoutModel",
          "model_module_version": "1.2.0",
          "state": {
            "_model_module": "@jupyter-widgets/base",
            "_model_module_version": "1.2.0",
            "_model_name": "LayoutModel",
            "_view_count": null,
            "_view_module": "@jupyter-widgets/base",
            "_view_module_version": "1.2.0",
            "_view_name": "LayoutView",
            "align_content": null,
            "align_items": null,
            "align_self": null,
            "border": null,
            "bottom": null,
            "display": null,
            "flex": null,
            "flex_flow": null,
            "grid_area": null,
            "grid_auto_columns": null,
            "grid_auto_flow": null,
            "grid_auto_rows": null,
            "grid_column": null,
            "grid_gap": null,
            "grid_row": null,
            "grid_template_areas": null,
            "grid_template_columns": null,
            "grid_template_rows": null,
            "height": null,
            "justify_content": null,
            "justify_items": null,
            "left": null,
            "margin": null,
            "max_height": null,
            "max_width": null,
            "min_height": null,
            "min_width": null,
            "object_fit": null,
            "object_position": null,
            "order": null,
            "overflow": null,
            "overflow_x": null,
            "overflow_y": null,
            "padding": null,
            "right": null,
            "top": null,
            "visibility": null,
            "width": null
          }
        },
        "db0f8716e6934a1e9123c1bae8b84aff": {
          "model_module": "@jupyter-widgets/controls",
          "model_name": "DescriptionStyleModel",
          "model_module_version": "1.5.0",
          "state": {
            "_model_module": "@jupyter-widgets/controls",
            "_model_module_version": "1.5.0",
            "_model_name": "DescriptionStyleModel",
            "_view_count": null,
            "_view_module": "@jupyter-widgets/base",
            "_view_module_version": "1.2.0",
            "_view_name": "StyleView",
            "description_width": ""
          }
        },
        "fa32568e4a154c6098fcc22f30b2b3e4": {
          "model_module": "@jupyter-widgets/base",
          "model_name": "LayoutModel",
          "model_module_version": "1.2.0",
          "state": {
            "_model_module": "@jupyter-widgets/base",
            "_model_module_version": "1.2.0",
            "_model_name": "LayoutModel",
            "_view_count": null,
            "_view_module": "@jupyter-widgets/base",
            "_view_module_version": "1.2.0",
            "_view_name": "LayoutView",
            "align_content": null,
            "align_items": null,
            "align_self": null,
            "border": null,
            "bottom": null,
            "display": null,
            "flex": null,
            "flex_flow": null,
            "grid_area": null,
            "grid_auto_columns": null,
            "grid_auto_flow": null,
            "grid_auto_rows": null,
            "grid_column": null,
            "grid_gap": null,
            "grid_row": null,
            "grid_template_areas": null,
            "grid_template_columns": null,
            "grid_template_rows": null,
            "height": null,
            "justify_content": null,
            "justify_items": null,
            "left": null,
            "margin": null,
            "max_height": null,
            "max_width": null,
            "min_height": null,
            "min_width": null,
            "object_fit": null,
            "object_position": null,
            "order": null,
            "overflow": null,
            "overflow_x": null,
            "overflow_y": null,
            "padding": null,
            "right": null,
            "top": null,
            "visibility": null,
            "width": null
          }
        },
        "2d777ba168ee425e9f2ba5c72313aefa": {
          "model_module": "@jupyter-widgets/controls",
          "model_name": "ProgressStyleModel",
          "model_module_version": "1.5.0",
          "state": {
            "_model_module": "@jupyter-widgets/controls",
            "_model_module_version": "1.5.0",
            "_model_name": "ProgressStyleModel",
            "_view_count": null,
            "_view_module": "@jupyter-widgets/base",
            "_view_module_version": "1.2.0",
            "_view_name": "StyleView",
            "bar_color": null,
            "description_width": ""
          }
        },
        "dd0451410c2b4e2c8ba1fa96e7af3a2c": {
          "model_module": "@jupyter-widgets/base",
          "model_name": "LayoutModel",
          "model_module_version": "1.2.0",
          "state": {
            "_model_module": "@jupyter-widgets/base",
            "_model_module_version": "1.2.0",
            "_model_name": "LayoutModel",
            "_view_count": null,
            "_view_module": "@jupyter-widgets/base",
            "_view_module_version": "1.2.0",
            "_view_name": "LayoutView",
            "align_content": null,
            "align_items": null,
            "align_self": null,
            "border": null,
            "bottom": null,
            "display": null,
            "flex": null,
            "flex_flow": null,
            "grid_area": null,
            "grid_auto_columns": null,
            "grid_auto_flow": null,
            "grid_auto_rows": null,
            "grid_column": null,
            "grid_gap": null,
            "grid_row": null,
            "grid_template_areas": null,
            "grid_template_columns": null,
            "grid_template_rows": null,
            "height": null,
            "justify_content": null,
            "justify_items": null,
            "left": null,
            "margin": null,
            "max_height": null,
            "max_width": null,
            "min_height": null,
            "min_width": null,
            "object_fit": null,
            "object_position": null,
            "order": null,
            "overflow": null,
            "overflow_x": null,
            "overflow_y": null,
            "padding": null,
            "right": null,
            "top": null,
            "visibility": null,
            "width": null
          }
        },
        "9022d825b3c24568bb7d5f6e9b21424d": {
          "model_module": "@jupyter-widgets/controls",
          "model_name": "DescriptionStyleModel",
          "model_module_version": "1.5.0",
          "state": {
            "_model_module": "@jupyter-widgets/controls",
            "_model_module_version": "1.5.0",
            "_model_name": "DescriptionStyleModel",
            "_view_count": null,
            "_view_module": "@jupyter-widgets/base",
            "_view_module_version": "1.2.0",
            "_view_name": "StyleView",
            "description_width": ""
          }
        }
      }
    }
  },
  "nbformat": 4,
  "nbformat_minor": 0
}