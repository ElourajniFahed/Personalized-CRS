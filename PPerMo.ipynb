{
  "cells": [
    {
      "cell_type": "code",
      "execution_count": null,
      "metadata": {
        "id": "bvVpAIyazezW"
      },
      "outputs": [],
      "source": [
        ""
      ]
    },
    {
      "cell_type": "code",
      "execution_count": null,
      "metadata": {
        "id": "45idwjP9sLn5"
      },
      "outputs": [],
      "source": [
        ""
      ]
    },
    {
      "cell_type": "code",
      "execution_count": null,
      "metadata": {
        "colab": {
          "base_uri": "https://localhost:8080/"
        },
        "id": "VSDezoagD0rG",
        "outputId": "8015646b-70ef-40e6-8184-e89bbad5373f"
      },
      "outputs": [
        {
          "output_type": "stream",
          "name": "stdout",
          "text": [
            "Mounted at /content/drive\n"
          ]
        }
      ],
      "source": [
        "from google.colab import drive\n",
        "\n",
        "drive.mount('/content/drive')"
      ]
    },
    {
      "cell_type": "code",
      "execution_count": null,
      "metadata": {
        "id": "2eFdyiFugaOP"
      },
      "outputs": [],
      "source": [
        "import pandas as pd \n",
        "import numpy as np"
      ]
    },
    {
      "cell_type": "code",
      "execution_count": null,
      "metadata": {
        "colab": {
          "base_uri": "https://localhost:8080/"
        },
        "id": "ahzlzPkbaKql",
        "outputId": "7fa6d60d-5ab7-4037-8380-cfd3b36f1360"
      },
      "outputs": [
        {
          "output_type": "stream",
          "name": "stdout",
          "text": [
            "Collecting pytorch_lightning\n",
            "  Downloading pytorch_lightning-1.6.1-py3-none-any.whl (582 kB)\n",
            "\u001b[?25l\r\u001b[K     |▋                               | 10 kB 36.3 MB/s eta 0:00:01\r\u001b[K     |█▏                              | 20 kB 23.7 MB/s eta 0:00:01\r\u001b[K     |█▊                              | 30 kB 17.7 MB/s eta 0:00:01\r\u001b[K     |██▎                             | 40 kB 15.6 MB/s eta 0:00:01\r\u001b[K     |██▉                             | 51 kB 7.4 MB/s eta 0:00:01\r\u001b[K     |███▍                            | 61 kB 8.8 MB/s eta 0:00:01\r\u001b[K     |████                            | 71 kB 9.7 MB/s eta 0:00:01\r\u001b[K     |████▌                           | 81 kB 8.9 MB/s eta 0:00:01\r\u001b[K     |█████                           | 92 kB 9.9 MB/s eta 0:00:01\r\u001b[K     |█████▋                          | 102 kB 8.2 MB/s eta 0:00:01\r\u001b[K     |██████▏                         | 112 kB 8.2 MB/s eta 0:00:01\r\u001b[K     |██████▊                         | 122 kB 8.2 MB/s eta 0:00:01\r\u001b[K     |███████▎                        | 133 kB 8.2 MB/s eta 0:00:01\r\u001b[K     |███████▉                        | 143 kB 8.2 MB/s eta 0:00:01\r\u001b[K     |████████▍                       | 153 kB 8.2 MB/s eta 0:00:01\r\u001b[K     |█████████                       | 163 kB 8.2 MB/s eta 0:00:01\r\u001b[K     |█████████▋                      | 174 kB 8.2 MB/s eta 0:00:01\r\u001b[K     |██████████▏                     | 184 kB 8.2 MB/s eta 0:00:01\r\u001b[K     |██████████▊                     | 194 kB 8.2 MB/s eta 0:00:01\r\u001b[K     |███████████▎                    | 204 kB 8.2 MB/s eta 0:00:01\r\u001b[K     |███████████▉                    | 215 kB 8.2 MB/s eta 0:00:01\r\u001b[K     |████████████▍                   | 225 kB 8.2 MB/s eta 0:00:01\r\u001b[K     |█████████████                   | 235 kB 8.2 MB/s eta 0:00:01\r\u001b[K     |█████████████▌                  | 245 kB 8.2 MB/s eta 0:00:01\r\u001b[K     |██████████████                  | 256 kB 8.2 MB/s eta 0:00:01\r\u001b[K     |██████████████▋                 | 266 kB 8.2 MB/s eta 0:00:01\r\u001b[K     |███████████████▏                | 276 kB 8.2 MB/s eta 0:00:01\r\u001b[K     |███████████████▊                | 286 kB 8.2 MB/s eta 0:00:01\r\u001b[K     |████████████████▎               | 296 kB 8.2 MB/s eta 0:00:01\r\u001b[K     |████████████████▉               | 307 kB 8.2 MB/s eta 0:00:01\r\u001b[K     |█████████████████▍              | 317 kB 8.2 MB/s eta 0:00:01\r\u001b[K     |██████████████████              | 327 kB 8.2 MB/s eta 0:00:01\r\u001b[K     |██████████████████▋             | 337 kB 8.2 MB/s eta 0:00:01\r\u001b[K     |███████████████████▏            | 348 kB 8.2 MB/s eta 0:00:01\r\u001b[K     |███████████████████▊            | 358 kB 8.2 MB/s eta 0:00:01\r\u001b[K     |████████████████████▎           | 368 kB 8.2 MB/s eta 0:00:01\r\u001b[K     |████████████████████▉           | 378 kB 8.2 MB/s eta 0:00:01\r\u001b[K     |█████████████████████▍          | 389 kB 8.2 MB/s eta 0:00:01\r\u001b[K     |██████████████████████          | 399 kB 8.2 MB/s eta 0:00:01\r\u001b[K     |██████████████████████▌         | 409 kB 8.2 MB/s eta 0:00:01\r\u001b[K     |███████████████████████         | 419 kB 8.2 MB/s eta 0:00:01\r\u001b[K     |███████████████████████▋        | 430 kB 8.2 MB/s eta 0:00:01\r\u001b[K     |████████████████████████▏       | 440 kB 8.2 MB/s eta 0:00:01\r\u001b[K     |████████████████████████▊       | 450 kB 8.2 MB/s eta 0:00:01\r\u001b[K     |█████████████████████████▎      | 460 kB 8.2 MB/s eta 0:00:01\r\u001b[K     |█████████████████████████▉      | 471 kB 8.2 MB/s eta 0:00:01\r\u001b[K     |██████████████████████████▍     | 481 kB 8.2 MB/s eta 0:00:01\r\u001b[K     |███████████████████████████     | 491 kB 8.2 MB/s eta 0:00:01\r\u001b[K     |███████████████████████████▋    | 501 kB 8.2 MB/s eta 0:00:01\r\u001b[K     |████████████████████████████▏   | 512 kB 8.2 MB/s eta 0:00:01\r\u001b[K     |████████████████████████████▊   | 522 kB 8.2 MB/s eta 0:00:01\r\u001b[K     |█████████████████████████████▎  | 532 kB 8.2 MB/s eta 0:00:01\r\u001b[K     |█████████████████████████████▉  | 542 kB 8.2 MB/s eta 0:00:01\r\u001b[K     |██████████████████████████████▍ | 552 kB 8.2 MB/s eta 0:00:01\r\u001b[K     |███████████████████████████████ | 563 kB 8.2 MB/s eta 0:00:01\r\u001b[K     |███████████████████████████████▌| 573 kB 8.2 MB/s eta 0:00:01\r\u001b[K     |████████████████████████████████| 582 kB 8.2 MB/s \n",
            "\u001b[?25hRequirement already satisfied: torch>=1.8.* in /usr/local/lib/python3.7/dist-packages (from pytorch_lightning) (1.10.0+cu111)\n",
            "Requirement already satisfied: tqdm>=4.41.0 in /usr/local/lib/python3.7/dist-packages (from pytorch_lightning) (4.64.0)\n",
            "Collecting PyYAML>=5.4\n",
            "  Downloading PyYAML-6.0-cp37-cp37m-manylinux_2_5_x86_64.manylinux1_x86_64.manylinux_2_12_x86_64.manylinux2010_x86_64.whl (596 kB)\n",
            "\u001b[K     |████████████████████████████████| 596 kB 63.0 MB/s \n",
            "\u001b[?25hCollecting pyDeprecate<0.4.0,>=0.3.1\n",
            "  Downloading pyDeprecate-0.3.2-py3-none-any.whl (10 kB)\n",
            "Requirement already satisfied: typing-extensions>=4.0.0 in /usr/local/lib/python3.7/dist-packages (from pytorch_lightning) (4.1.1)\n",
            "Collecting fsspec[http]!=2021.06.0,>=2021.05.0\n",
            "  Downloading fsspec-2022.3.0-py3-none-any.whl (136 kB)\n",
            "\u001b[K     |████████████████████████████████| 136 kB 84.5 MB/s \n",
            "\u001b[?25hRequirement already satisfied: numpy>=1.17.2 in /usr/local/lib/python3.7/dist-packages (from pytorch_lightning) (1.21.6)\n",
            "Requirement already satisfied: packaging>=17.0 in /usr/local/lib/python3.7/dist-packages (from pytorch_lightning) (21.3)\n",
            "Requirement already satisfied: tensorboard>=2.2.0 in /usr/local/lib/python3.7/dist-packages (from pytorch_lightning) (2.8.0)\n",
            "Collecting torchmetrics>=0.4.1\n",
            "  Downloading torchmetrics-0.8.0-py3-none-any.whl (408 kB)\n",
            "\u001b[K     |████████████████████████████████| 408 kB 74.7 MB/s \n",
            "\u001b[?25hRequirement already satisfied: requests in /usr/local/lib/python3.7/dist-packages (from fsspec[http]!=2021.06.0,>=2021.05.0->pytorch_lightning) (2.23.0)\n",
            "Collecting aiohttp\n",
            "  Downloading aiohttp-3.8.1-cp37-cp37m-manylinux_2_5_x86_64.manylinux1_x86_64.manylinux_2_12_x86_64.manylinux2010_x86_64.whl (1.1 MB)\n",
            "\u001b[K     |████████████████████████████████| 1.1 MB 62.5 MB/s \n",
            "\u001b[?25hRequirement already satisfied: pyparsing!=3.0.5,>=2.0.2 in /usr/local/lib/python3.7/dist-packages (from packaging>=17.0->pytorch_lightning) (3.0.8)\n",
            "Requirement already satisfied: absl-py>=0.4 in /usr/local/lib/python3.7/dist-packages (from tensorboard>=2.2.0->pytorch_lightning) (1.0.0)\n",
            "Requirement already satisfied: tensorboard-plugin-wit>=1.6.0 in /usr/local/lib/python3.7/dist-packages (from tensorboard>=2.2.0->pytorch_lightning) (1.8.1)\n",
            "Requirement already satisfied: google-auth<3,>=1.6.3 in /usr/local/lib/python3.7/dist-packages (from tensorboard>=2.2.0->pytorch_lightning) (1.35.0)\n",
            "Requirement already satisfied: protobuf>=3.6.0 in /usr/local/lib/python3.7/dist-packages (from tensorboard>=2.2.0->pytorch_lightning) (3.17.3)\n",
            "Requirement already satisfied: grpcio>=1.24.3 in /usr/local/lib/python3.7/dist-packages (from tensorboard>=2.2.0->pytorch_lightning) (1.44.0)\n",
            "Requirement already satisfied: setuptools>=41.0.0 in /usr/local/lib/python3.7/dist-packages (from tensorboard>=2.2.0->pytorch_lightning) (57.4.0)\n",
            "Requirement already satisfied: tensorboard-data-server<0.7.0,>=0.6.0 in /usr/local/lib/python3.7/dist-packages (from tensorboard>=2.2.0->pytorch_lightning) (0.6.1)\n",
            "Requirement already satisfied: werkzeug>=0.11.15 in /usr/local/lib/python3.7/dist-packages (from tensorboard>=2.2.0->pytorch_lightning) (1.0.1)\n",
            "Requirement already satisfied: wheel>=0.26 in /usr/local/lib/python3.7/dist-packages (from tensorboard>=2.2.0->pytorch_lightning) (0.37.1)\n",
            "Requirement already satisfied: markdown>=2.6.8 in /usr/local/lib/python3.7/dist-packages (from tensorboard>=2.2.0->pytorch_lightning) (3.3.6)\n",
            "Requirement already satisfied: google-auth-oauthlib<0.5,>=0.4.1 in /usr/local/lib/python3.7/dist-packages (from tensorboard>=2.2.0->pytorch_lightning) (0.4.6)\n",
            "Requirement already satisfied: six in /usr/local/lib/python3.7/dist-packages (from absl-py>=0.4->tensorboard>=2.2.0->pytorch_lightning) (1.15.0)\n",
            "Requirement already satisfied: pyasn1-modules>=0.2.1 in /usr/local/lib/python3.7/dist-packages (from google-auth<3,>=1.6.3->tensorboard>=2.2.0->pytorch_lightning) (0.2.8)\n",
            "Requirement already satisfied: cachetools<5.0,>=2.0.0 in /usr/local/lib/python3.7/dist-packages (from google-auth<3,>=1.6.3->tensorboard>=2.2.0->pytorch_lightning) (4.2.4)\n",
            "Requirement already satisfied: rsa<5,>=3.1.4 in /usr/local/lib/python3.7/dist-packages (from google-auth<3,>=1.6.3->tensorboard>=2.2.0->pytorch_lightning) (4.8)\n",
            "Requirement already satisfied: requests-oauthlib>=0.7.0 in /usr/local/lib/python3.7/dist-packages (from google-auth-oauthlib<0.5,>=0.4.1->tensorboard>=2.2.0->pytorch_lightning) (1.3.1)\n",
            "Requirement already satisfied: importlib-metadata>=4.4 in /usr/local/lib/python3.7/dist-packages (from markdown>=2.6.8->tensorboard>=2.2.0->pytorch_lightning) (4.11.3)\n",
            "Requirement already satisfied: zipp>=0.5 in /usr/local/lib/python3.7/dist-packages (from importlib-metadata>=4.4->markdown>=2.6.8->tensorboard>=2.2.0->pytorch_lightning) (3.8.0)\n",
            "Requirement already satisfied: pyasn1<0.5.0,>=0.4.6 in /usr/local/lib/python3.7/dist-packages (from pyasn1-modules>=0.2.1->google-auth<3,>=1.6.3->tensorboard>=2.2.0->pytorch_lightning) (0.4.8)\n",
            "Requirement already satisfied: idna<3,>=2.5 in /usr/local/lib/python3.7/dist-packages (from requests->fsspec[http]!=2021.06.0,>=2021.05.0->pytorch_lightning) (2.10)\n",
            "Requirement already satisfied: certifi>=2017.4.17 in /usr/local/lib/python3.7/dist-packages (from requests->fsspec[http]!=2021.06.0,>=2021.05.0->pytorch_lightning) (2021.10.8)\n",
            "Requirement already satisfied: chardet<4,>=3.0.2 in /usr/local/lib/python3.7/dist-packages (from requests->fsspec[http]!=2021.06.0,>=2021.05.0->pytorch_lightning) (3.0.4)\n",
            "Requirement already satisfied: urllib3!=1.25.0,!=1.25.1,<1.26,>=1.21.1 in /usr/local/lib/python3.7/dist-packages (from requests->fsspec[http]!=2021.06.0,>=2021.05.0->pytorch_lightning) (1.24.3)\n",
            "Requirement already satisfied: oauthlib>=3.0.0 in /usr/local/lib/python3.7/dist-packages (from requests-oauthlib>=0.7.0->google-auth-oauthlib<0.5,>=0.4.1->tensorboard>=2.2.0->pytorch_lightning) (3.2.0)\n",
            "Requirement already satisfied: charset-normalizer<3.0,>=2.0 in /usr/local/lib/python3.7/dist-packages (from aiohttp->fsspec[http]!=2021.06.0,>=2021.05.0->pytorch_lightning) (2.0.12)\n",
            "Collecting asynctest==0.13.0\n",
            "  Downloading asynctest-0.13.0-py3-none-any.whl (26 kB)\n",
            "Collecting async-timeout<5.0,>=4.0.0a3\n",
            "  Downloading async_timeout-4.0.2-py3-none-any.whl (5.8 kB)\n",
            "Collecting aiosignal>=1.1.2\n",
            "  Downloading aiosignal-1.2.0-py3-none-any.whl (8.2 kB)\n",
            "Collecting multidict<7.0,>=4.5\n",
            "  Downloading multidict-6.0.2-cp37-cp37m-manylinux_2_17_x86_64.manylinux2014_x86_64.whl (94 kB)\n",
            "\u001b[K     |████████████████████████████████| 94 kB 4.4 MB/s \n",
            "\u001b[?25hCollecting yarl<2.0,>=1.0\n",
            "  Downloading yarl-1.7.2-cp37-cp37m-manylinux_2_5_x86_64.manylinux1_x86_64.manylinux_2_12_x86_64.manylinux2010_x86_64.whl (271 kB)\n",
            "\u001b[K     |████████████████████████████████| 271 kB 70.3 MB/s \n",
            "\u001b[?25hRequirement already satisfied: attrs>=17.3.0 in /usr/local/lib/python3.7/dist-packages (from aiohttp->fsspec[http]!=2021.06.0,>=2021.05.0->pytorch_lightning) (21.4.0)\n",
            "Collecting frozenlist>=1.1.1\n",
            "  Downloading frozenlist-1.3.0-cp37-cp37m-manylinux_2_5_x86_64.manylinux1_x86_64.manylinux_2_17_x86_64.manylinux2014_x86_64.whl (144 kB)\n",
            "\u001b[K     |████████████████████████████████| 144 kB 97.7 MB/s \n",
            "\u001b[?25hInstalling collected packages: multidict, frozenlist, yarl, asynctest, async-timeout, aiosignal, pyDeprecate, fsspec, aiohttp, torchmetrics, PyYAML, pytorch-lightning\n",
            "  Attempting uninstall: PyYAML\n",
            "    Found existing installation: PyYAML 3.13\n",
            "    Uninstalling PyYAML-3.13:\n",
            "      Successfully uninstalled PyYAML-3.13\n",
            "Successfully installed PyYAML-6.0 aiohttp-3.8.1 aiosignal-1.2.0 async-timeout-4.0.2 asynctest-0.13.0 frozenlist-1.3.0 fsspec-2022.3.0 multidict-6.0.2 pyDeprecate-0.3.2 pytorch-lightning-1.6.1 torchmetrics-0.8.0 yarl-1.7.2\n"
          ]
        }
      ],
      "source": [
        "!pip install pytorch_lightning"
      ]
    },
    {
      "cell_type": "code",
      "execution_count": null,
      "metadata": {
        "colab": {
          "base_uri": "https://localhost:8080/"
        },
        "id": "Ws9y5SKK151x",
        "outputId": "80c65d10-7bc9-447c-a684-1e43a520d430"
      },
      "outputs": [
        {
          "output_type": "stream",
          "name": "stdout",
          "text": [
            "Collecting transformers\n",
            "  Downloading transformers-4.18.0-py3-none-any.whl (4.0 MB)\n",
            "\u001b[K     |████████████████████████████████| 4.0 MB 8.1 MB/s \n",
            "\u001b[?25hRequirement already satisfied: numpy>=1.17 in /usr/local/lib/python3.7/dist-packages (from transformers) (1.21.6)\n",
            "Requirement already satisfied: tqdm>=4.27 in /usr/local/lib/python3.7/dist-packages (from transformers) (4.64.0)\n",
            "Requirement already satisfied: requests in /usr/local/lib/python3.7/dist-packages (from transformers) (2.23.0)\n",
            "Collecting sacremoses\n",
            "  Downloading sacremoses-0.0.49-py3-none-any.whl (895 kB)\n",
            "\u001b[K     |████████████████████████████████| 895 kB 50.9 MB/s \n",
            "\u001b[?25hCollecting tokenizers!=0.11.3,<0.13,>=0.11.1\n",
            "  Downloading tokenizers-0.12.1-cp37-cp37m-manylinux_2_12_x86_64.manylinux2010_x86_64.whl (6.6 MB)\n",
            "\u001b[K     |████████████████████████████████| 6.6 MB 53.4 MB/s \n",
            "\u001b[?25hRequirement already satisfied: packaging>=20.0 in /usr/local/lib/python3.7/dist-packages (from transformers) (21.3)\n",
            "Requirement already satisfied: pyyaml>=5.1 in /usr/local/lib/python3.7/dist-packages (from transformers) (6.0)\n",
            "Requirement already satisfied: regex!=2019.12.17 in /usr/local/lib/python3.7/dist-packages (from transformers) (2019.12.20)\n",
            "Requirement already satisfied: importlib-metadata in /usr/local/lib/python3.7/dist-packages (from transformers) (4.11.3)\n",
            "Collecting huggingface-hub<1.0,>=0.1.0\n",
            "  Downloading huggingface_hub-0.5.1-py3-none-any.whl (77 kB)\n",
            "\u001b[K     |████████████████████████████████| 77 kB 9.1 MB/s \n",
            "\u001b[?25hRequirement already satisfied: filelock in /usr/local/lib/python3.7/dist-packages (from transformers) (3.6.0)\n",
            "Requirement already satisfied: typing-extensions>=3.7.4.3 in /usr/local/lib/python3.7/dist-packages (from huggingface-hub<1.0,>=0.1.0->transformers) (4.1.1)\n",
            "Requirement already satisfied: pyparsing!=3.0.5,>=2.0.2 in /usr/local/lib/python3.7/dist-packages (from packaging>=20.0->transformers) (3.0.8)\n",
            "Requirement already satisfied: zipp>=0.5 in /usr/local/lib/python3.7/dist-packages (from importlib-metadata->transformers) (3.8.0)\n",
            "Requirement already satisfied: idna<3,>=2.5 in /usr/local/lib/python3.7/dist-packages (from requests->transformers) (2.10)\n",
            "Requirement already satisfied: chardet<4,>=3.0.2 in /usr/local/lib/python3.7/dist-packages (from requests->transformers) (3.0.4)\n",
            "Requirement already satisfied: certifi>=2017.4.17 in /usr/local/lib/python3.7/dist-packages (from requests->transformers) (2021.10.8)\n",
            "Requirement already satisfied: urllib3!=1.25.0,!=1.25.1,<1.26,>=1.21.1 in /usr/local/lib/python3.7/dist-packages (from requests->transformers) (1.24.3)\n",
            "Requirement already satisfied: click in /usr/local/lib/python3.7/dist-packages (from sacremoses->transformers) (7.1.2)\n",
            "Requirement already satisfied: joblib in /usr/local/lib/python3.7/dist-packages (from sacremoses->transformers) (1.1.0)\n",
            "Requirement already satisfied: six in /usr/local/lib/python3.7/dist-packages (from sacremoses->transformers) (1.15.0)\n",
            "Installing collected packages: tokenizers, sacremoses, huggingface-hub, transformers\n",
            "Successfully installed huggingface-hub-0.5.1 sacremoses-0.0.49 tokenizers-0.12.1 transformers-4.18.0\n",
            "Collecting dataset\n",
            "  Downloading dataset-1.5.2-py2.py3-none-any.whl (18 kB)\n",
            "Collecting alembic>=0.6.2\n",
            "  Downloading alembic-1.7.7-py3-none-any.whl (210 kB)\n",
            "\u001b[K     |████████████████████████████████| 210 kB 8.0 MB/s \n",
            "\u001b[?25hRequirement already satisfied: sqlalchemy>=1.3.2 in /usr/local/lib/python3.7/dist-packages (from dataset) (1.4.35)\n",
            "Collecting banal>=1.0.1\n",
            "  Downloading banal-1.0.6-py2.py3-none-any.whl (6.1 kB)\n",
            "Requirement already satisfied: importlib-resources in /usr/local/lib/python3.7/dist-packages (from alembic>=0.6.2->dataset) (5.7.0)\n",
            "Collecting Mako\n",
            "  Downloading Mako-1.2.0-py3-none-any.whl (78 kB)\n",
            "\u001b[K     |████████████████████████████████| 78 kB 9.8 MB/s \n",
            "\u001b[?25hRequirement already satisfied: importlib-metadata in /usr/local/lib/python3.7/dist-packages (from alembic>=0.6.2->dataset) (4.11.3)\n",
            "Requirement already satisfied: greenlet!=0.4.17 in /usr/local/lib/python3.7/dist-packages (from sqlalchemy>=1.3.2->dataset) (1.1.2)\n",
            "Requirement already satisfied: typing-extensions>=3.6.4 in /usr/local/lib/python3.7/dist-packages (from importlib-metadata->alembic>=0.6.2->dataset) (4.1.1)\n",
            "Requirement already satisfied: zipp>=0.5 in /usr/local/lib/python3.7/dist-packages (from importlib-metadata->alembic>=0.6.2->dataset) (3.8.0)\n",
            "Requirement already satisfied: MarkupSafe>=0.9.2 in /usr/local/lib/python3.7/dist-packages (from Mako->alembic>=0.6.2->dataset) (2.0.1)\n",
            "Installing collected packages: Mako, banal, alembic, dataset\n",
            "Successfully installed Mako-1.2.0 alembic-1.7.7 banal-1.0.6 dataset-1.5.2\n"
          ]
        }
      ],
      "source": [
        "!pip install transformers\n",
        "!pip install dataset"
      ]
    },
    {
      "cell_type": "code",
      "execution_count": null,
      "metadata": {
        "id": "y85soLyy1gaO"
      },
      "outputs": [],
      "source": [
        ""
      ]
    },
    {
      "cell_type": "code",
      "execution_count": null,
      "metadata": {
        "id": "hJoOCSPSDqC5"
      },
      "outputs": [],
      "source": [
        "import pickle\n",
        "with open('./drive/MyDrive/Data/English_TGD2_TGD_All_data.pkl','rb') as file:\n",
        "    TGD_All_data=pickle.load(file)\n"
      ]
    },
    {
      "cell_type": "markdown",
      "metadata": {
        "id": "2we-aun2G_MG"
      },
      "source": [
        "#Topic prediction model"
      ]
    },
    {
      "cell_type": "code",
      "execution_count": null,
      "metadata": {
        "id": "rQLj3h_y6uEq"
      },
      "outputs": [],
      "source": [
        "import os\n",
        "import math\n",
        "\n",
        "import torch\n",
        "from torch.nn import BCELoss,BCEWithLogitsLoss\n",
        "from torch.utils.data import TensorDataset, DataLoader, RandomSampler, SequentialSampler\n",
        "from transformers import AdamW, ElectraTokenizer, ElectraModel, ElectraConfig\n",
        "\n",
        "from keras.preprocessing.sequence import pad_sequences\n",
        "from sklearn.model_selection import train_test_split\n",
        "import numpy as np\n",
        "import pandas as pd\n",
        "from tqdm import tqdm, trange\n",
        "import matplotlib.pyplot as plt\n",
        "%matplotlib inline"
      ]
    },
    {
      "cell_type": "code",
      "execution_count": null,
      "metadata": {
        "id": "N16rMFEigwb-"
      },
      "outputs": [],
      "source": [
        "device =torch.device('cuda') if torch.cuda.is_available() else torch.device('cpu') \n"
      ]
    },
    {
      "cell_type": "code",
      "execution_count": null,
      "metadata": {
        "colab": {
          "base_uri": "https://localhost:8080/",
          "height": 153,
          "referenced_widgets": [
            "f4b10a0cf5b8464cbd9f7a4902107ab0",
            "651d83d69143410f8cc13ff492783106",
            "4daca959413a445e9ea2daabe31bae24",
            "924075f4b32d476ea4bc28028b3c41f9",
            "0be83512763246f68a3690bb2d13b5ad",
            "1831585ea2b94240b1e0a4dec0861dec",
            "62dac0fe0f8e41ed898eb3126939c50c",
            "b6041113f37a4a1aa3923fd90a3c90ea",
            "e67ef06a0f1444c2859c31e8de9041ca",
            "63cc194007d045628d168f0e571392be",
            "58293986d8854154a55bd8a2b817eaa6",
            "468a2b9c00e541aebdb9ee0203506f42",
            "7e3ae4a9d3024737bbab280234ace8ce",
            "b6edef68ce9542938e35e8c78dd5659b",
            "d0deca18fb0549b9bee324d09ce15867",
            "e9da7b43c5c944cfbb7035aace00fbed",
            "3dffbe31bd42494187f8d94484ee3bb7",
            "1d5867564ba74ccc91d1cd188ea9b6b4",
            "9feba0532b2b46b69be1ce8da2f2c745",
            "99479658e0aa4085bee31dfa32627800",
            "8a652f02afbf40af8bd7a4573d4bbc78",
            "0cc23c88b12f4c9493e571e563b2ed50"
          ]
        },
        "id": "YmCZ94t4XqM2",
        "outputId": "59a7a6e4-169e-4560-ebb6-9de21f3ff019"
      },
      "outputs": [
        {
          "output_type": "display_data",
          "data": {
            "text/plain": [
              "Downloading:   0%|          | 0.00/665 [00:00<?, ?B/s]"
            ],
            "application/vnd.jupyter.widget-view+json": {
              "version_major": 2,
              "version_minor": 0,
              "model_id": "f4b10a0cf5b8464cbd9f7a4902107ab0"
            }
          },
          "metadata": {}
        },
        {
          "output_type": "display_data",
          "data": {
            "text/plain": [
              "Downloading:   0%|          | 0.00/51.7M [00:00<?, ?B/s]"
            ],
            "application/vnd.jupyter.widget-view+json": {
              "version_major": 2,
              "version_minor": 0,
              "model_id": "468a2b9c00e541aebdb9ee0203506f42"
            }
          },
          "metadata": {}
        },
        {
          "output_type": "stream",
          "name": "stderr",
          "text": [
            "Some weights of the model checkpoint at google/electra-small-discriminator were not used when initializing ElectraModel: ['discriminator_predictions.dense.bias', 'discriminator_predictions.dense.weight', 'discriminator_predictions.dense_prediction.bias', 'discriminator_predictions.dense_prediction.weight']\n",
            "- This IS expected if you are initializing ElectraModel from the checkpoint of a model trained on another task or with another architecture (e.g. initializing a BertForSequenceClassification model from a BertForPreTraining model).\n",
            "- This IS NOT expected if you are initializing ElectraModel from the checkpoint of a model that you expect to be exactly identical (initializing a BertForSequenceClassification model from a BertForSequenceClassification model).\n"
          ]
        }
      ],
      "source": [
        "pre_tained_model=ElectraModel.from_pretrained('google/electra-small-discriminator')"
      ]
    },
    {
      "cell_type": "code",
      "execution_count": null,
      "metadata": {
        "id": "u48iKUJIBdj9"
      },
      "outputs": [],
      "source": [
        "model_save_path_topic=\"drive/MyDrive/Models/TopicPrediction/TGD_Classification_Concatenate_Both_Topic_Entent_Sigmoid.bin\" # lat utterance\n",
        "tokenizer_topic_path=\"drive/MyDrive/Models/TopicPrediction/Tokenizer/\" # lat utterance\n",
        "model_save_path_topic=\"drive/MyDrive/Models/TopicPrediction/TGD_Classification_Concatenate_Both_Topic_Entent_Sigmoid_Less_Data.bin\" # lat utterance\n"
      ]
    },
    {
      "cell_type": "code",
      "execution_count": null,
      "metadata": {
        "id": "GumoKoCkyNJV"
      },
      "outputs": [],
      "source": [
        "tokenizer_topic=ElectraTokenizer.from_pretrained(tokenizer_topic_path)"
      ]
    },
    {
      "cell_type": "code",
      "execution_count": null,
      "metadata": {
        "colab": {
          "base_uri": "https://localhost:8080/"
        },
        "id": "1kvQP09Oz7Az",
        "outputId": "cf5d77a0-3d43-43de-86c2-abba7c797dd9"
      },
      "outputs": [
        {
          "output_type": "execute_result",
          "data": {
            "text/plain": [
              "Embedding(31238, 128)"
            ]
          },
          "metadata": {},
          "execution_count": 74
        }
      ],
      "source": [
        "\n",
        "pre_tained_model.resize_token_embeddings(len(tokenizer_topic)) "
      ]
    },
    {
      "cell_type": "code",
      "execution_count": null,
      "metadata": {
        "id": "uGXnGiLWrPDi"
      },
      "outputs": [],
      "source": [
        "import pickle \n",
        "with open('drive/MyDrive/Models/TopicPrediction/topic_list.pkl','rb') as f :\n",
        "  topic_list=pickle.load(f)"
      ]
    },
    {
      "cell_type": "code",
      "execution_count": null,
      "metadata": {
        "id": "31RIu85cVNx3"
      },
      "outputs": [],
      "source": [
        "class ElectraForMultiLabelSequenceClassification(torch.nn.Module):\n",
        "  \n",
        "  def __init__(self, pre_trained_model,num_labels_topics=2,num_labels_entent=2):\n",
        "    super(ElectraForMultiLabelSequenceClassification, self).__init__()\n",
        "    self.num_labels_topics = num_labels_topics\n",
        "    self.electra = pre_trained_model#Use the pretrqined model\n",
        "    self.layer1 = torch.nn.Linear(256, 1000)# add a linear layer on top of the encoding  discriminator layers of Electra \n",
        "    self.layer2  = torch.nn.Linear(1000, 2000)# add a linear layer on top of the encoding  discriminator layers of Electra \n",
        "    self.layer3  = torch.nn.Linear(2000, 3000)#change it to 5000 # add a linear layer on top of the encoding  discriminator layers of Electra \n",
        "    self.classifier_topics = torch.nn.Linear(3000, self.num_labels_topics)# add a linear layer on top of the encoding  discriminator layers of Electra \n",
        "    self.drop=torch.nn.Dropout(p=0.4)\n",
        "    self.leaky=torch.nn.ReLU()\n",
        "\n",
        "    torch.nn.init.xavier_normal_(self.classifier_topics.weight) #initialise the weight of th linear layer\n",
        "    torch.nn.init.xavier_normal_(self.layer1.weight) #initialise the weight of th linear layer\n",
        "    torch.nn.init.xavier_normal_(self.layer2.weight) #initialise the weight of th linear layer\n",
        "    torch.nn.init.xavier_normal_(self.layer3.weight) #initialise the weight of th linear layer\n",
        "\n",
        "  def forward(self, input_ids, token_type_ids=None,\\\n",
        "              attention_mask=None, labels_topic=None,labels_entent=None):\n",
        "    # last hidden layer\n",
        "    last_hidden_state = self.electra(input_ids=input_ids,\\\n",
        "                                   attention_mask=attention_mask,\\\n",
        "                                   token_type_ids=token_type_ids)\n",
        "    # pool the outputs into a mean vector\n",
        "    mean_last_hidden_state = self.pool_hidden_state(last_hidden_state)\n",
        "    l1 = self.leaky(self.layer1(mean_last_hidden_state))\n",
        "    l1=self.drop(l1)\n",
        "    l2 = self.leaky(self.layer2(l1))\n",
        "    l3 = self.leaky(self.layer3(l2))\n",
        "    l3=self.drop(l3)\n",
        "    logits_topics = torch.sigmoid(self.classifier_topics(l3))\n",
        "        \n",
        "    if labels_topic is not None:\n",
        "      loss_fct_topic = BCELoss()\n",
        "      loss1 = loss_fct_topic(logits_topics.view(-1, self.num_labels_topics),\\\n",
        "                      labels_topic.view(-1, self.num_labels_topics))\n",
        "      \n",
        "      \n",
        "      return loss1\n",
        "    else:\n",
        "      return logits_topics\n",
        "\n",
        "\n",
        "  def pool_hidden_state(self, last_hidden_state):\n",
        "    \"\"\"\n",
        "    Pool the output vectors into a single mean vector \n",
        "    \"\"\"\n",
        "    last_hidden_state = last_hidden_state[0]\n",
        "    mean_last_hidden_state = torch.mean(last_hidden_state, 1)\n",
        "    return mean_last_hidden_state\n",
        "    \n",
        "  \n",
        "\n",
        "# len(Y_train[0]) = 6\n"
      ]
    },
    {
      "cell_type": "code",
      "execution_count": null,
      "metadata": {
        "colab": {
          "base_uri": "https://localhost:8080/"
        },
        "id": "khzjKA6Z-z6C",
        "outputId": "53dd38d4-e405-4d0e-88bb-f1ff2326e2be"
      },
      "outputs": [
        {
          "output_type": "execute_result",
          "data": {
            "text/plain": [
              "<All keys matched successfully>"
            ]
          },
          "metadata": {},
          "execution_count": 77
        }
      ],
      "source": [
        "#This code is borrowed from this link : https://towardsdatascience.com/multi-label-text-classification-with-xlnet-b5f5755302df\n",
        "\n",
        "checkpoint = torch.load(model_save_path_topic)\n",
        "model_state_dict_topic = checkpoint['state_dict']\n",
        "model_topic = ElectraForMultiLabelSequenceClassification(pre_tained_model,num_labels_topics=model_state_dict_topic[\"classifier_topics.weight\"].size()[0])\n",
        "model_topic.load_state_dict(model_state_dict_topic)"
      ]
    },
    {
      "cell_type": "code",
      "execution_count": null,
      "metadata": {
        "id": "UrB3xNiqX8fJ"
      },
      "outputs": [],
      "source": [
        "#This code is borrowed from this link : https://towardsdatascience.com/multi-label-text-classification-with-xlnet-b5f5755302df\n",
        "\n",
        "def generate_predictions_topic(model, features,mask, num_labels, device=\"cpu\", batch_size=32):\n",
        "  num_iter = math.ceil(features.shape[0]/batch_size)\n",
        "  \n",
        "  pred_probs = np.array([]).reshape(0, num_labels)\n",
        "  \n",
        "  model.to(device)\n",
        "  model.eval()\n",
        "  \n",
        "  for i in range(num_iter):\n",
        "    X = features[i*batch_size:(i+1)*batch_size,:]\n",
        "    masks = mask[i*batch_size:(i+1)*batch_size,:]\n",
        "    X = X.to(device)\n",
        "    masks = masks.to(device)\n",
        "    with torch.no_grad():\n",
        "      logits = model(input_ids=X, attention_mask=masks)\n",
        "      #logits = logits.sigmoid().detach().cpu().numpy()\n",
        "      logits = logits.detach().cpu().numpy()\n",
        "      pred_probs = np.vstack([pred_probs, logits])\n",
        "  \n",
        "  return pred_probs\n",
        "  \n"
      ]
    },
    {
      "cell_type": "code",
      "execution_count": null,
      "metadata": {
        "id": "_qWF37be1JmT"
      },
      "outputs": [],
      "source": [
        "def tokenize_inputs_topic(liste, tokenizer, num_embeddings=512):\n",
        "    \n",
        "    outputs = tokenizer.batch_encode_plus(liste,truncation=True,return_tensors='pt',return_attention_mask=True,max_length=512, padding='max_length')\n",
        "    # convert tokenized text into numeric ids for the appropriate LM\n",
        "    input_ids =outputs.input_ids\n",
        "    \n",
        "\n",
        "    return (input_ids,outputs.attention_mask)"
      ]
    },
    {
      "cell_type": "code",
      "execution_count": null,
      "metadata": {
        "id": "wokzteQ194fZ"
      },
      "outputs": [],
      "source": [
        "def get_all_prediction(list_text,topic_list):\n",
        "  preds_vector=[]\n",
        "  preds_word=[]\n",
        "  for text in list_text:\n",
        "    test_input_ids,test_attention_masks=tokenize_inputs_topic([text], tokenizer_topic, num_embeddings=512)\n",
        "    pred_probs = generate_predictions_topic(model_topic, test_input_ids,test_attention_masks, 2464, device=device, batch_size=32)\n",
        "    prob=np.round(pred_probs)\n",
        "    prob=list(prob[0])\n",
        "    preds_vector.append(prob)\n",
        "\n",
        "    pred_probs=prob\n",
        "    indexes=[i for i, v in enumerate(prob) if v==1]\n",
        "    predicted_topics=\" \".join(topic_list[x] for x in indexes)\n",
        "    predicted_topics=\" <topic> \"+predicted_topics+\" </topic>\"\n",
        "    preds_word.append(predicted_topics)\n",
        "  \n",
        "  return preds_vector,predicted_topics\n",
        "  \n",
        "#preds,preds_word=get_all_prediction(test_data,topic_list)"
      ]
    },
    {
      "cell_type": "code",
      "execution_count": null,
      "metadata": {
        "id": "089ppqyQjWrG"
      },
      "outputs": [],
      "source": [
        ""
      ]
    },
    {
      "cell_type": "code",
      "execution_count": null,
      "metadata": {
        "colab": {
          "base_uri": "https://localhost:8080/",
          "height": 36
        },
        "id": "tGS7LHsWmm9E",
        "outputId": "052e415a-9850-4bf2-97c7-0cb68727ff8f"
      },
      "outputs": [
        {
          "output_type": "execute_result",
          "data": {
            "text/plain": [
              "' <topic> moving recommendation request </topic>'"
            ],
            "application/vnd.google.colaboratory.intrinsic+json": {
              "type": "string"
            }
          },
          "metadata": {},
          "execution_count": 81
        }
      ],
      "source": [
        "t=\"<seeker> how about you recommend me a moving movie first ?\"\n",
        "preds,preds_word=get_all_prediction([t],topic_list)\n",
        "preds_word"
      ]
    },
    {
      "cell_type": "code",
      "execution_count": null,
      "metadata": {
        "id": "eM8erREElPRa"
      },
      "outputs": [],
      "source": [
        ""
      ]
    },
    {
      "cell_type": "markdown",
      "metadata": {
        "id": "dJYKONJ6Ig-2"
      },
      "source": [
        "#Profile generation model"
      ]
    },
    {
      "cell_type": "code",
      "execution_count": null,
      "metadata": {
        "id": "h86vCWe7Iitn"
      },
      "outputs": [],
      "source": [
        "from transformers import (\n",
        "    AdamW,\n",
        "    T5ForConditionalGeneration,\n",
        "    T5TokenizerFast as T5Tokenizer)"
      ]
    },
    {
      "cell_type": "code",
      "execution_count": null,
      "metadata": {
        "id": "23ciFrWQEYM0"
      },
      "outputs": [],
      "source": [
        "path_tokenizer=\"./drive/MyDrive/Summarization/PresonaChat-ProfileGeneration_whith_t5/tokenizer\"\n",
        "path_model=\"./drive/MyDrive/Summarization/PresonaChat-ProfileGeneration_whith_t5/model\""
      ]
    },
    {
      "cell_type": "code",
      "execution_count": null,
      "metadata": {
        "id": "GVaSPFwHEYM1"
      },
      "outputs": [],
      "source": [
        "tokenizer_t5=T5Tokenizer.from_pretrained(path_tokenizer)\n",
        "trained_model_t5=T5ForConditionalGeneration.from_pretrained(path_model)"
      ]
    },
    {
      "cell_type": "code",
      "execution_count": null,
      "metadata": {
        "id": "-6d_JJczJJYA"
      },
      "outputs": [],
      "source": [
        "text=\"hello what are you doing today ? i am good , i just got off work and tired , i have two jobs . i just got done watching a horror movie i rather read , i've read about 20 books this year . wow ! i do love a good horror movie . loving this cooler weather but a good movie is always good . yes ! my son is in junior high and i just started letting him watch them too i work in the movies as well . neat ! ! i used to work in the human services field yes it is neat , i stunt double , it is so much fun and hard work . yes i bet you can get hurt . my wife works and i stay at home nice , i only have one parent so now i help out my mom . i bet she appreciates that very much . she raised me right , i am just like her . my dad was always busy working at home depot\""
      ]
    },
    {
      "cell_type": "code",
      "execution_count": null,
      "metadata": {
        "id": "cSYP0R-QEYM1"
      },
      "outputs": [],
      "source": [
        "def summarize(text,trained_model,tokenizer_t5):\n",
        "  text_encoding=tokenizer_t5(text,padding=\"max_length\",max_length=512,truncation=True,return_attention_mask=True,return_tensors=\"pt\")\n",
        "  generated_ids=trained_model.generate(\n",
        "      input_ids=text_encoding[\"input_ids\"],\n",
        "      attention_mask=text_encoding[\"attention_mask\"],\n",
        "      max_length=150, \n",
        "      num_beams=15,\n",
        "      early_stopping=True,\n",
        "      repetition_penalty=2.5,\n",
        "      length_penalty=1.0,\n",
        "  )\n",
        "  preds=[tokenizer_t5.decode(gen_id,skip_special_tokens=True,clean_up_tokenization_space=True) for gen_id in generated_ids]\n",
        "  return \" \".join(preds)"
      ]
    },
    {
      "cell_type": "markdown",
      "metadata": {
        "id": "rDdAfGEAKtVB"
      },
      "source": [
        "# Personality prediction model"
      ]
    },
    {
      "cell_type": "code",
      "execution_count": null,
      "metadata": {
        "colab": {
          "base_uri": "https://localhost:8080/",
          "height": 81,
          "referenced_widgets": [
            "ac9992cc978d475cbec59507debe7f54",
            "8acbfd5f5d5f452baeda51bc0ec3ae99",
            "c24c81b477fb476f9cb567b11cab207f",
            "576c02c9e1ba4b43a477705c24d38cd7",
            "98dc782a2394493faca5b51f07aafb32",
            "a3df4a2660824bc9a31f4751f7b038c7",
            "29473794ad924eebb17126b29d1f97a4",
            "92478f6991dd45069864149dfcaa6256",
            "6949cb4ee52c471198735f37eeee57a4",
            "dcd2ed04465d4843baf7ac582986d180",
            "4971fb8a43384d7da29078fc1ca9cf12",
            "a229af2f42ce4dba9f03b67fd805613e",
            "f74547c25c024d338f47e5d818d54267",
            "a1589830f21745dfbe38b9d7be20907d",
            "3818e4a63b594f9c96aa9cba5b05af06",
            "ddf1b3dfaa2e4bc79b44fc03b7e193f9",
            "77bca74203cb44ab8015f8d34a5c4f54",
            "7b5521efacac483ab4f7c421fba1368c",
            "0e33152542a446e3848e55af84405cee",
            "48b9f9eb19c240d8beb6d26a85ec38eb",
            "3fa5dbbc1c034fa38e79ca7631e78083",
            "134c7392012e420eb49793ce0a28aebc"
          ]
        },
        "id": "SbFJsjo6KydH",
        "outputId": "efe5a3a1-6077-4424-fc7f-f1c0c9d0caf9"
      },
      "outputs": [
        {
          "output_type": "display_data",
          "data": {
            "text/plain": [
              "Downloading:   0%|          | 0.00/226k [00:00<?, ?B/s]"
            ],
            "application/vnd.jupyter.widget-view+json": {
              "version_major": 2,
              "version_minor": 0,
              "model_id": "ac9992cc978d475cbec59507debe7f54"
            }
          },
          "metadata": {}
        },
        {
          "output_type": "display_data",
          "data": {
            "text/plain": [
              "Downloading:   0%|          | 0.00/29.0 [00:00<?, ?B/s]"
            ],
            "application/vnd.jupyter.widget-view+json": {
              "version_major": 2,
              "version_minor": 0,
              "model_id": "a229af2f42ce4dba9f03b67fd805613e"
            }
          },
          "metadata": {}
        }
      ],
      "source": [
        "model_name='google/electra-small-discriminator'\n",
        "\n",
        "tokenizer_personality = ElectraTokenizer.from_pretrained(model_name, do_lower_case=True)"
      ]
    },
    {
      "cell_type": "code",
      "execution_count": null,
      "metadata": {
        "id": "FS-DUk1gOQ90"
      },
      "outputs": [],
      "source": [
        "from torch.nn import BCEWithLogitsLoss,MSELoss\n"
      ]
    },
    {
      "cell_type": "code",
      "execution_count": null,
      "metadata": {
        "id": "Qw4vZGVWMQr_"
      },
      "outputs": [],
      "source": [
        "class ElectraSharedWeights_Multi_Task(torch.nn.Module):\n",
        "  \n",
        "  def __init__(self, r_num_labels=2,c_num_labels=2):\n",
        "    super(ElectraSharedWeights_Multi_Task, self).__init__()\n",
        "    self.c_num_labels = c_num_labels#The number of the classification labels whiche are 4 labels to use them as the final size for  the final linear layer\n",
        "    self.r_num_labels = r_num_labels#The number of the regression labels whiche are 5 labelsto use them as the final size for  the final linear layer\n",
        "    self.electra = ElectraModel.from_pretrained(model_name)#Instanciate  the pretrained model\n",
        "    self.layer1 = torch.nn.Linear(256, 150)# add The first linear layer on top of the encoding  discriminator layers of Electra \n",
        "    self.layer2  = torch.nn.Linear(150, 100)# add the second linear layer on top of the first one\n",
        "    self.layer3  = torch.nn.Linear(100, 50)# add the third linear layer on top of the second one\n",
        "    #self.normilizer1  = torch.nn.BatchNorm1d(256)# add the normalizer to the electra values\n",
        "    #self.normilizer2  = torch.nn.BatchNorm1d(100)# add the  normilizer layer onto the second layer values\n",
        "    #All the previous layers will be shared by the last separate two layers (classifier layer and regressor layer)\n",
        "\n",
        "    self.classifier = torch.nn.Linear(50, c_num_labels)# add the final linear layer for classification on top of the third layer   \n",
        "    self.regressor = torch.nn.Linear(50, r_num_labels)# add the final linear layer for regression on top of the third layer \n",
        "    self.drop=torch.nn.Dropout(p=0.4)# Define a dropout layer to overpass the overfitting during the training phase\n",
        "    self.leaky=torch.nn.LeakyReLU()# Use the Leaky Relu activation function as the ;ain activation function for the shared layers\n",
        "\n",
        "\n",
        "\n",
        "    #In order to train our models the weights need to be initialized, because if they were at 0, then the model will not be optimized so we need to\n",
        "    # inilize them. The most popular way to inisialize the weights is to use the Xavier initializer\n",
        "    torch.nn.init.xavier_normal_(self.layer1.weight) #initialise the weight of the first linear layer\n",
        "    torch.nn.init.xavier_normal_(self.layer2.weight) #initialise the weight of the second linear layer\n",
        "    torch.nn.init.xavier_normal_(self.layer3.weight) #initialise the weight of the third linear layer\n",
        "    torch.nn.init.xavier_normal_(self.classifier.weight) #initialise the weight of the classification layer\n",
        "    torch.nn.init.xavier_normal_(self.regressor.weight) #initialise the weight of th regression layer\n",
        "\n",
        "  def forward(self, input_ids, token_type_ids=None,\\\n",
        "              attention_mask=None, labels_r=None,labels_c=None):\n",
        "    #Now that we defined the architecture and initialized the weights we need to define the forward function\n",
        "    #and how each defined variable will be used in the architecture\n",
        "\n",
        "    # last hidden layer\n",
        "    #for ech row we will use the ELECTRa model to create an embedding vector given the tokenized input\n",
        "    Electra_hidding_state = self.electra(input_ids=input_ids,\\\n",
        "                                   attention_mask=attention_mask,\\\n",
        "                                   token_type_ids=token_type_ids)\n",
        "    contextual_embedding = Electra_hidding_state[0]\n",
        "    contextual_embedding = torch.mean(contextual_embedding, 1)\n",
        "    #contextual_embedding=self.normilizer1(contextual_embedding)\n",
        "    # pool the outputs into a mean vector\n",
        "    cl1 = self.leaky(self.layer1(contextual_embedding))\n",
        "    cl1=self.drop(cl1)\n",
        "    cl2 = self.leaky(self.layer2(cl1))\n",
        "    #cl2 = self.normilizer2(cl2)\n",
        "    cl3 = self.leaky(self.layer3(cl2))\n",
        "    cl3=self.drop(cl3)\n",
        "\n",
        "    #All the previous weights will be shared by both last layers (classifier and regresor) \n",
        "    clogits = self.classifier(cl3)# The classification results(MBTI Labels) given the shared weights\n",
        "\n",
        "    rlogits = self.regressor(cl3)# The regression results(BIG5 labels) given the shared weights\n",
        "\n",
        "\n",
        "    # Due to the fact that we have a multi-task learning model then we will have two different losses\n",
        "    # one to compute the classification loss and the other is to compute the regression loss\n",
        "    # We will use the BCE version for the classification loss and the MSE for the regression loss\n",
        "        \n",
        "    closs_fct =BCEWithLogitsLoss()# Classification loss\n",
        "    rloss_fct = MSELoss()# Regression loss\n",
        "\n",
        "    if ((labels_r is not None) and (labels_c is not None)):\n",
        "\n",
        "  \n",
        "      closs = closs_fct(clogits.view(-1, self.c_num_labels),\\\n",
        "                        labels_c.view(-1, self.c_num_labels))\n",
        "      rloss=rloss_fct(rlogits.view(-1, self.r_num_labels),\\\n",
        "                        labels_r.view(-1, self.r_num_labels))\n",
        "      #Because a model need to have one loss function to be trained on and be cause we need to minimise both regression and classification loss\n",
        "      #we create a combination of the regression loss and the classification loss by summing them and deviding by 2\n",
        "      #By combining both losses  into a one loss we will force the model to minimize the combination loss wich will lead to the minimization of the \n",
        "      #regression and the classification loss (minimizing their sum will lead to minimizing their original values)\n",
        "      loss=(rloss+closs)/2\n",
        "      return loss\n",
        "    else:\n",
        "      return clogits,rlogits\n",
        "\n"
      ]
    },
    {
      "cell_type": "code",
      "execution_count": null,
      "metadata": {
        "id": "_glEZ1euMw-e"
      },
      "outputs": [],
      "source": [
        "model_save_path=\"./drive/MyDrive/Models/Pandora_Personality/SeedDoubleHead_SharedWeights_20epochs_Electra.bin\""
      ]
    },
    {
      "cell_type": "code",
      "execution_count": null,
      "metadata": {
        "colab": {
          "base_uri": "https://localhost:8080/"
        },
        "id": "SEkLbrn0wCmT",
        "outputId": "582b13be-6531-40fc-c127-6cbeb418d0c4"
      },
      "outputs": [
        {
          "output_type": "stream",
          "name": "stderr",
          "text": [
            "Some weights of the model checkpoint at google/electra-small-discriminator were not used when initializing ElectraModel: ['discriminator_predictions.dense.bias', 'discriminator_predictions.dense.weight', 'discriminator_predictions.dense_prediction.bias', 'discriminator_predictions.dense_prediction.weight']\n",
            "- This IS expected if you are initializing ElectraModel from the checkpoint of a model trained on another task or with another architecture (e.g. initializing a BertForSequenceClassification model from a BertForPreTraining model).\n",
            "- This IS NOT expected if you are initializing ElectraModel from the checkpoint of a model that you expect to be exactly identical (initializing a BertForSequenceClassification model from a BertForSequenceClassification model).\n"
          ]
        },
        {
          "output_type": "execute_result",
          "data": {
            "text/plain": [
              "<All keys matched successfully>"
            ]
          },
          "metadata": {},
          "execution_count": 28
        }
      ],
      "source": [
        "#This code is borrowed from this link : https://towardsdatascience.com/multi-label-text-classification-with-xlnet-b5f5755302df\n",
        "\n",
        "checkpoint = torch.load(model_save_path)\n",
        "model_state_dict = checkpoint['state_dict']\n",
        "model_personality = ElectraSharedWeights_Multi_Task(5,4)\n",
        "model_personality.load_state_dict(model_state_dict)"
      ]
    },
    {
      "cell_type": "code",
      "execution_count": null,
      "metadata": {
        "id": "snHLwolINIO6"
      },
      "outputs": [],
      "source": [
        "def Input_Tokenization_personality(liste, tokenizer):\n",
        "    \n",
        "    outputs = tokenizer.batch_encode_plus(liste,padding=True,truncation=True,return_tensors='pt',return_attention_mask=True)    \n",
        "\n",
        "    return (outputs.input_ids,outputs.attention_mask)"
      ]
    },
    {
      "cell_type": "code",
      "execution_count": null,
      "metadata": {
        "id": "4pXalaLbMuER"
      },
      "outputs": [],
      "source": [
        "#This code is borrowed from this link : https://towardsdatascience.com/multi-label-text-classification-with-xlnet-b5f5755302df\n",
        "\n",
        "def Predict(model,tokenizer, text, num_label_c,num_label_r, device=\"cpu\", batch_size=32):\n",
        "  features,mask=Input_Tokenization_personality([text], tokenizer)\n",
        "  num_iter = math.ceil(features.shape[0]/batch_size)# define the number of iteration in all the data by batches\n",
        "  features.to(device)\n",
        "  mask.to(device)\n",
        "  model.eval() #Indicate that we will use the model to evaluation purposes\n",
        "\n",
        "  c_pred_probs = np.array([]).reshape(0, num_label_c)# Create dummpy classification predictions 'all 0' vectors that we will modify\n",
        "  r_pred_probs = np.array([]).reshape(0, num_label_r)# Create dummpy regression predictions 'all 0' vectors that we will modify\n",
        "  model.to(device)\n",
        "  d={}\n",
        "  \n",
        "  for i in range(num_iter):# for each batch\n",
        "    X = features[i*batch_size:(i+1)*batch_size,:]#Get the features of the passed data\n",
        "    masks = mask[i*batch_size:(i+1)*batch_size,:]#Get the masks of the passed data\n",
        "    X = X.to(device)#transfer them to the device 'exmp cuda'\n",
        "    masks = masks.to(device)#transfer them to the device 'exmp cuda'\n",
        "    with torch.no_grad():\n",
        "      logits_c,logits_r = model(input_ids=X, attention_mask=masks) # predict the values of the passed batch of data\n",
        "      #logits = logits.sigmoid().detach().cpu().numpy()\n",
        "      logits_c = logits_c.sigmoid().detach().cpu().numpy()# for the classification head we will aplly a sigmoid function as like we said the classification labels are binary labels\n",
        "      c_pred_probs = np.vstack([c_pred_probs, logits_c])# stack them to the pr-defined dummy classification variable\n",
        "      logits_r = logits_r.detach().cpu().numpy()# For the regression values wi well use directly the linear layer output because the regression labels are real values\n",
        "      r_pred_probs = np.vstack([r_pred_probs, logits_r])# stack them to the pr-defined dummy regression variable\n",
        "  d['class_pred']=np.round(c_pred_probs) # to get binary values for the sigmoids probability values we will use the .round() function for the classification results\n",
        "  d['reg_pred']=r_pred_probs\n",
        "  \n",
        "  return d\n",
        "  \n"
      ]
    },
    {
      "cell_type": "markdown",
      "metadata": {
        "id": "uUz9MqvTlPgJ"
      },
      "source": [
        "#Next movie to watch"
      ]
    },
    {
      "cell_type": "code",
      "execution_count": null,
      "metadata": {
        "id": "fkoZb1qerU6L"
      },
      "outputs": [],
      "source": [
        "from transformers import ElectraTokenizerFast, ElectraForMaskedLM,ElectraConfig, ElectraTokenizer\n",
        "\n",
        "from transformers import DistilBertTokenizer, DistilBertForMaskedLM\n"
      ]
    },
    {
      "cell_type": "code",
      "execution_count": null,
      "metadata": {
        "id": "yzZEjrdRlR0n"
      },
      "outputs": [],
      "source": [
        "class Electra4RecWithTGD_OnlyNextItemToPredict(torch.nn.Module):\n",
        "  \n",
        "  def __init__(self):\n",
        "    super(Electra4RecWithTGD_OnlyNextItemToPredict, self).__init__()\n",
        "    \n",
        "    model=DistilBertForMaskedLM.from_pretrained('distilbert-base-uncased')\n",
        "    model.resize_token_embeddings(len(tokenizer_4rec))\n",
        "\n",
        "\n",
        "    model_mask_last=DistilBertForMaskedLM.from_pretrained('distilbert-base-uncased')\n",
        "    model_mask_last.resize_token_embeddings(len(tokenizer_4rec))\n",
        "\n",
        "\n",
        "    self.electra = model\n",
        "    self.electra_mask_last = model_mask_last\n",
        "\n",
        "\n",
        "\n",
        "   \n",
        "   \n",
        "  def forward(self, input_ids, token_type_ids=None,attention_mask=None, labels=None,input_ids_mask_last=None, token_type_ids_mask_last=None,attention_mask_mask_last=None, labels_mask_last=None):\n",
        "    #Now that we defined the architecture and initialized the weights we need to define the forward function\n",
        "    #and how each defined variable will be used in the architecture\n",
        "    \n",
        "    \n",
        "    \n",
        "    position_ids=torch.arange(start=0, end = input_ids.shape[1], step=1).expand_as(input_ids).to(device)\n",
        "    \n",
        "    \n",
        "    #position_sinusoidal_embeddings = np.array([[pos / np.power(10000, 2 * (j // 2) / input_ids.shape[1]) for j in range(input_ids.shape[1])] for pos in range(input_ids.shape[0])])\n",
        "    #position_ids=position_sinusoidal_embeddings\n",
        "   \n",
        "   \n",
        "    # last hidden layer\n",
        "    #for ech row we will use the ELECTRa model to create an embedding vector given the tokenized input\n",
        "\n",
        "\n",
        "    #Electra predfoned positions\n",
        "\n",
        "    MLM_outputs = self.electra(input_ids, attention_mask=attention_mask,labels=labels)\n",
        "    self.electra_mask_last.state_dict()['vocab_layer_norm.bias']=self.electra.state_dict()['vocab_layer_norm.bias']\n",
        "\n",
        "    MLM_outputs_mask_last= self.electra_mask_last(input_ids_mask_last, attention_mask=attention_mask_mask_last,labels=labels_mask_last)\n",
        "\n",
        "    \n",
        "    #withour position  embdedding\n",
        "    #MLM_outputs = self.electra(input_ids, attention_mask=attention_mask,labels=labels)\n",
        "\n",
        "    \n",
        "\n",
        "    if ((labels is not None) ):\n",
        "\n",
        "\n",
        "      loss=(MLM_outputs.loss + MLM_outputs_mask_last.loss)\n",
        "      return loss\n",
        "    else:\n",
        "      return MLM_outputs.logits,MLM_outputs_mask_last.logits\n",
        "\n"
      ]
    },
    {
      "cell_type": "code",
      "execution_count": null,
      "metadata": {
        "id": "Ffsz2bVJ7Spz"
      },
      "outputs": [],
      "source": [
        "path='drive/MyDrive/Models/NextMovie/DistilBert_TGD_Ensemble_no_BIG5_last_masked_and_NormalMask_OnlyNextItemToPredict.bin'\n",
        "path_tokenizer='drive/MyDrive/Models/NextMovie/Tokenizer/'\n"
      ]
    },
    {
      "cell_type": "code",
      "execution_count": null,
      "metadata": {
        "id": "17Epl3K29DOx"
      },
      "outputs": [],
      "source": [
        "tokenizer_4rec = DistilBertTokenizer.from_pretrained(path_tokenizer)"
      ]
    },
    {
      "cell_type": "code",
      "execution_count": null,
      "metadata": {
        "colab": {
          "base_uri": "https://localhost:8080/",
          "height": 98,
          "referenced_widgets": [
            "4c4278cdb3444ea4be486ba1a7ea6a10",
            "06c9e1a2119242fc8b3be0186ebc72a3",
            "bdd6848b29ff48e7aae9e479100d0655",
            "f6e04b393cd54075ad9f42bbb08f2de6",
            "38b605960fc24569a090678b9601501c",
            "0efc587efd7c4ae3afb4a9afb4b9d348",
            "6af993e38de04bde82f6bdda5ed9ed11",
            "835f4cc75b23465aa3d41af6233ee712",
            "0d4ed884fefa482fb95eb14665275fe4",
            "6c3d523c593c43048a46aabf98429a7c",
            "5929dae5d6bb4f5c981ff6e6d7d983ed",
            "bd3f37e4473e407fbff4f1348ee7b5b0",
            "e973873ebaa8424aae6c92f654f2fd4d",
            "8b290389dac64b77ad622f5a04bd3500",
            "ed54b6afc2254474b60dfed8046912ad",
            "74ce59cf66154f3495ae70e7d726b67c",
            "a303d5a42ce7406b90a0f7608fc44225",
            "6d08989ed395461d998336f170cfca30",
            "4709f3fb09684589ac3aa3cbb99a4b20",
            "e9d02e04dc64473a93ebd225067051b2",
            "a95319cd78d3485d8ec10fdfe8225f1b",
            "a0b549f0f90741ffb554d63fdefba744"
          ]
        },
        "id": "SSwTHkdEiauX",
        "outputId": "f2a926ee-4415-46ef-9e28-7ee426ce1fac"
      },
      "outputs": [
        {
          "output_type": "display_data",
          "data": {
            "text/plain": [
              "Downloading:   0%|          | 0.00/483 [00:00<?, ?B/s]"
            ],
            "application/vnd.jupyter.widget-view+json": {
              "version_major": 2,
              "version_minor": 0,
              "model_id": "4c4278cdb3444ea4be486ba1a7ea6a10"
            }
          },
          "metadata": {}
        },
        {
          "output_type": "display_data",
          "data": {
            "text/plain": [
              "Downloading:   0%|          | 0.00/256M [00:00<?, ?B/s]"
            ],
            "application/vnd.jupyter.widget-view+json": {
              "version_major": 2,
              "version_minor": 0,
              "model_id": "bd3f37e4473e407fbff4f1348ee7b5b0"
            }
          },
          "metadata": {}
        },
        {
          "output_type": "execute_result",
          "data": {
            "text/plain": [
              "<All keys matched successfully>"
            ]
          },
          "metadata": {},
          "execution_count": 35
        }
      ],
      "source": [
        "#This code is borrowed from this link : https://towardsdatascience.com/multi-label-text-classification-with-xlnet-b5f5755302df\n",
        "\n",
        "checkpoint = torch.load(path)\n",
        "model_state_dict = checkpoint['state_dict']\n",
        "model_movie = Electra4RecWithTGD_OnlyNextItemToPredict()\n",
        "model_movie.load_state_dict(model_state_dict)"
      ]
    },
    {
      "cell_type": "code",
      "execution_count": null,
      "metadata": {
        "id": "AIF0rY-SMW0a"
      },
      "outputs": [],
      "source": [
        "def sequence_Input_Tokenization_movie_prediction(liste, tokenizer):\n",
        "    \n",
        "    outputs = tokenizer(liste,truncation=True,return_tensors='pt',return_attention_mask=True,max_length=512, padding='max_length')    \n",
        "    outputs['labels']=outputs.input_ids.detach().clone()\n",
        "    return outputs"
      ]
    },
    {
      "cell_type": "code",
      "execution_count": null,
      "metadata": {
        "id": "Uqi2I5BfMdYw"
      },
      "outputs": [],
      "source": [
        "#This code is borrowed from this link : https://towardsdatascience.com/multi-label-text-classification-with-xlnet-b5f5755302df\n",
        "\n",
        "def Predict_Movie(sequences,model, tokenizer_m, device=\"cpu\", batch_size=32):\n",
        "  num_iter = math.ceil(np.array(sequences).shape[0]/batch_size)# define the number of iteration in all the data by batches\n",
        "  model.eval() #Indicate that we will use the model to evaluation purposes\n",
        "  model.to(device)\n",
        "  d={}\n",
        "  \n",
        "  IndexToKey={ value:key for key,value in tokenizer_m.get_vocab().items() }\n",
        "  for i in range(num_iter):\n",
        "    inputs_i=tokenizer_m(sequences[i],return_tensors='pt')\n",
        "    inputs_ids=inputs_i.input_ids.to(device)\n",
        "    inputs_mask=inputs_i.attention_mask.to(device)\n",
        "\n",
        "    with torch.no_grad():\n",
        "        \n",
        "        #output= model(inputs_ids,inputs_mask,input_ids_mask_last=inputs_ids,attention_mask_mask_last=inputs_mask)# predict the values of the passed batch of data\n",
        "        output= model(input_ids=inputs_ids,attention_mask=inputs_mask,input_ids_mask_last=inputs_ids,attention_mask_mask_last=inputs_mask)# predict the values of the passed batch of data\n",
        "        #logits = logits.sigmoid().detach().cpu().numpy()\n",
        "        out=torch.argmax(output[0],dim=-1).to(device)\n",
        "        \n",
        "        ch=''\n",
        "        \n",
        "        for ind in list(out.detach().tolist()[0]):\n",
        "          ch=ch+IndexToKey[ind]+' '\n",
        "  d['MLM_movie_prediction']=ch.split()\n",
        "  \n",
        "  return d['MLM_movie_prediction'][-2]\n",
        "  \n"
      ]
    },
    {
      "cell_type": "markdown",
      "metadata": {
        "id": "nNzwPD3z_zoj"
      },
      "source": [
        "# Dialog Generation model"
      ]
    },
    {
      "cell_type": "code",
      "execution_count": null,
      "metadata": {
        "id": "OMkhQo-hBa0J"
      },
      "outputs": [],
      "source": [
        "from transformers import (\n",
        "    MODEL_WITH_LM_HEAD_MAPPING,\n",
        "    WEIGHTS_NAME,\n",
        "    AdamW,\n",
        "    AutoConfig,\n",
        "    AutoModelForCausalLM,\n",
        "    AutoTokenizer,\n",
        "    PreTrainedModel,\n",
        "    PreTrainedTokenizer,\n",
        "    get_linear_schedule_with_warmup,\n",
        ")\n"
      ]
    },
    {
      "cell_type": "code",
      "execution_count": null,
      "metadata": {
        "id": "i4CqdM7d-u-t"
      },
      "outputs": [],
      "source": [
        ""
      ]
    },
    {
      "cell_type": "code",
      "execution_count": null,
      "metadata": {
        "id": "2bym3_tybI3M"
      },
      "outputs": [],
      "source": [
        "def remove_movie_from_path_goal(TGD_All_data,typee='train'):\n",
        "  for i, dial in enumerate(TGD_All_data[typee]):\n",
        "    goal_path=dial['goal_path']\n",
        "    for k, v in goal_path.items():\n",
        "      v=[x for x in v if x[0]!='@']\n",
        "      goal_path[k]=v\n",
        "    \n",
        "    TGD_All_data[typee][i]['goal_path']=goal_path\n",
        "  return TGD_All_data[typee]\n",
        "\n",
        "TGD_All_data['train']=remove_movie_from_path_goal(TGD_All_data,typee='train')\n",
        "TGD_All_data['test']=remove_movie_from_path_goal(TGD_All_data,typee='test')\n",
        "TGD_All_data['valid']=remove_movie_from_path_goal(TGD_All_data,typee='valid')"
      ]
    },
    {
      "cell_type": "code",
      "execution_count": null,
      "metadata": {
        "id": "vzQYBqycsSMv"
      },
      "outputs": [],
      "source": [
        "def create_entent_topic(TGD_All_data=TGD_All_data,typee=\"train\"):\n",
        "\n",
        "  topic_list=TGD_All_data[\"real_topics\"].values()\n",
        "  for i,dial in enumerate(TGD_All_data[typee]):\n",
        "    goal_path=dial[\"goal_path\"]\n",
        "    new_goal_path={}\n",
        "    \n",
        "    for k,v in goal_path.items():\n",
        "      topics=[x for x in v if x in topic_list]\n",
        "      intents=[x for x in v if x not in topic_list]\n",
        "      if(len(topics)==0):\n",
        "        topics=[\"no-topic\"]\n",
        "      new_goal_path[k]={\"intents\":intents,\"topics\":intents+topics}\n",
        "    TGD_All_data[typee][i][\"goal_path\"]=new_goal_path\n",
        "\n",
        "  return TGD_All_data\n",
        "TGD_All_data=create_entent_topic(TGD_All_data=TGD_All_data,typee=\"train\")\n",
        "TGD_All_data=create_entent_topic(TGD_All_data=TGD_All_data,typee=\"test\")\n",
        "TGD_All_data=create_entent_topic(TGD_All_data=TGD_All_data,typee=\"valid\")\n",
        "\n",
        "\n",
        "\n"
      ]
    },
    {
      "cell_type": "code",
      "execution_count": null,
      "metadata": {
        "id": "0xCQWHwMMT5s"
      },
      "outputs": [],
      "source": [
        "import re\n",
        "import random\n",
        "def create_path_included_data(data,typee='valid'):\n",
        "  data_dialogue_rows=[]\n",
        "  mentioned_movies=[]\n",
        "  movie_history_watching=[]\n",
        "  for i,dial in enumerate(data[typee]):\n",
        "    goal_path=dial['goal_path']\n",
        "    messages=dial['messages']\n",
        "    mentionMovies=dial[\"mentionMovies\"]\n",
        "    movies_interaction=dial[\"user_history_movies_interaction_ids\"]\n",
        "    movie_history_watching.append(movies_interaction)\n",
        "\n",
        "\n",
        "    visited_profiles=[]\n",
        "    for j in range(1):\n",
        "      profile_list=dial[\"user_profile\"]\n",
        "      personality_list=dial[\"BIG5\"]\n",
        "      shuffled_profile=random.sample(profile_list,len(profile_list))\n",
        "      while shuffled_profile in visited_profiles:\n",
        "        shuffled_profile=random.sample(profile_list,len(profile_list))\n",
        "      personality= \" \".join(str(int(p)) for p in personality_list )\n",
        "      \n",
        "      profile=\" .\".join(p for p in shuffled_profile )\n",
        "      lines=[]\n",
        "      lines.append('<big5> '+personality+\" </big5>\")\n",
        "\n",
        "      \n",
        "      lines.append('<profile> '+profile+\" </profile>\")\n",
        "      movies_to_add=[]\n",
        "      '''if len(movies_interaction)==0:\n",
        "        movies_to_add=[\" \"]*3\n",
        "\n",
        "      if len(movies_interaction)==1:\n",
        "        movies_to_add=[movies_interaction[-1]]*3\n",
        "\n",
        "      if len(movies_interaction)==2:\n",
        "        movies_to_add=list(movies_interaction)+[movies_interaction[-1]]\n",
        "\n",
        "      if len(movies_interaction)>2:\n",
        "        movies_to_add=list(movies_interaction[-3:])'''\n",
        "\n",
        "      for i,v in enumerate(messages):\n",
        "        index=i+1\n",
        "        if index in mentionMovies:\n",
        "          curenntmovi=mentionMovies[index][\"id\"]\n",
        "          #print(curenntmovi)\n",
        "          movies_to_add.append(curenntmovi)\n",
        "          #print(movies_to_add)\n",
        "          last_three=movies_to_add[-3:]\n",
        "          random.shuffle(last_three)\n",
        "          concatenated_movies= \" \".join(x for x in last_three)\n",
        "          #lines[-1]=lines[-1]+\" <movies> \"+curenntmovi+\" </movies>\"\n",
        "          m='<'+v['role'].lower()+'>'+' '+v['content']\n",
        "\n",
        "\n",
        "        else:\n",
        "          m='<'+v['role'].lower()+'>'+' '+v['content']\n",
        "        m=m+' <topic> '+' '.join(x for x in goal_path[v['local_id']][\"topics\"] )+\" </topic> \"\n",
        "        m=re.sub(' +', ' ', m).strip()\n",
        "        if(\"@\" in m ):\n",
        "          lin= np.array([word for word in m.split(\" \") ])\n",
        "          indexes=[i for i,v in enumerate(lin) if v[0]==\"@\"]\n",
        "          elements=[x for x in list(lin[indexes]) if x is not None]\n",
        "          mentioned_movies=mentioned_movies+elements\n",
        "\n",
        "        lines.append(m)\n",
        "    \n",
        "    \n",
        "    \n",
        "    \n",
        "\n",
        "    \n",
        "      data_dialogue_rows.append(lines)\n",
        "    \n",
        "  return data_dialogue_rows,mentioned_movies,movie_history_watching\n",
        "    \n",
        "\n",
        "train_rows,train_mentioned_movies,train_movie_history_watching=create_path_included_data(TGD_All_data,typee='train')   \n",
        "test_rows,test_mentioned_movies,test_movie_history_watching=create_path_included_data(TGD_All_data,typee='test')   \n",
        "valid_rows,valid_mentioned_movies,valid_movie_history_watching=create_path_included_data(TGD_All_data,typee='valid')"
      ]
    },
    {
      "cell_type": "code",
      "execution_count": null,
      "metadata": {
        "id": "qi-P6epMCCgJ"
      },
      "outputs": [],
      "source": [
        "path_model='drive/MyDrive/Models/DialogGeneration/Prompt_based_TGD_small_keep_all_data2.bin'\n",
        "path_tokenizer='drive/MyDrive/Models/DialogGeneration/Tokenizer/'\n"
      ]
    },
    {
      "cell_type": "code",
      "execution_count": null,
      "metadata": {
        "id": "4TxMdedpFF7m"
      },
      "outputs": [],
      "source": [
        "tokenizer_gpt = AutoTokenizer.from_pretrained(path_tokenizer)\n"
      ]
    },
    {
      "cell_type": "code",
      "execution_count": null,
      "metadata": {
        "id": "8l2SDqiU2hIR"
      },
      "outputs": [],
      "source": [
        "class DialogGPT(torch.nn.Module):\n",
        "  \n",
        "  def __init__(self,tokenizer):\n",
        "    super(DialogGPT, self).__init__()\n",
        "    \n",
        "    self.dialogGPT = AutoModelForCausalLM.from_pretrained('microsoft/DialoGPT-small')\n",
        "    self.dialogGPT.resize_token_embeddings(len(tokenizer))\n",
        "\n",
        "   \n",
        "\n",
        "   \n",
        "  def forward(self, input_ids, token_type_ids=None,\\\n",
        "              attention_mask=None, labels=None): \n",
        "   \n",
        "        \n",
        "    outputs = self.dialogGPT(input_ids,attention_mask=attention_mask, labels=labels)\n",
        "    loss = outputs[0]\n",
        "      \n",
        "      \n",
        "    return loss\n",
        "\n",
        "\n",
        "  def pool_hidden_state(self, last_hidden_state):\n",
        "    \"\"\"\n",
        "    Pool the output vectors into a single mean vector \n",
        "    \"\"\"\n",
        "    last_hidden_state = last_hidden_state[0]\n",
        "    mean_last_hidden_state = torch.mean(last_hidden_state, 1)\n",
        "    return mean_last_hidden_state\n",
        "    \n",
        "  \n",
        "\n",
        "# len(Y_train[0]) = 6"
      ]
    },
    {
      "cell_type": "code",
      "execution_count": null,
      "metadata": {
        "id": "pQjxkp9_giYS"
      },
      "outputs": [],
      "source": [
        "#model_save_path_gpt=\"drive/MyDrive/Models/DialogGeneration/Prompt_based_TGD_small_keep_all_data.bin\"\n"
      ]
    },
    {
      "cell_type": "code",
      "execution_count": null,
      "metadata": {
        "colab": {
          "base_uri": "https://localhost:8080/",
          "height": 1000,
          "referenced_widgets": [
            "6ff2b0bcb1344783963ff9bbed434822",
            "95da2742109d4338b8d36b14664f6564",
            "2ffe09e7b1ed457d960f87612eee3a57",
            "299fe2da6de84f968fed864444735217",
            "1eb9f0dc318e45cbaf6e2935e0fd1913",
            "28936b60a55841fb8d9724ce3750f1f0",
            "f47a6d407ccf4ee4ac5f171a750bedd6",
            "2a65e725217247ac83aaf023aee536d7",
            "04478f7e0bb54b55bcf94494a8942be9",
            "23089595fc144bda9a6f26e408e7718b",
            "18fb7e331599412597b0ec9e353eb8e3",
            "22b992a010ed41aab8ab52377ef64f62",
            "045abbe2b9ec4ebf974c71e492eba386",
            "702c278c5c3c49959c5a0984fcac52eb",
            "0807b4f98f2b47538054087a6c965ee7",
            "cc348a67e240408e8f24a57adef86147",
            "c372cbb70fd34272a841bf6dae5b0407",
            "d5236062c0404c9f91c2c447262265f4",
            "d2b5737d8cdf47db926e1ec616c340e3",
            "b33c6d4d23f04724a29fbb3331a47550",
            "87b32a510c134b3fb09b1a6a464057b5",
            "1b3e9738dd4642d9abc356f2e0445dc8"
          ]
        },
        "id": "KcHenJRMEnwj",
        "outputId": "3f56aef9-6286-4887-dc9c-7b0f2cdd5115"
      },
      "outputs": [
        {
          "output_type": "display_data",
          "data": {
            "text/plain": [
              "Downloading:   0%|          | 0.00/641 [00:00<?, ?B/s]"
            ],
            "application/vnd.jupyter.widget-view+json": {
              "version_major": 2,
              "version_minor": 0,
              "model_id": "6ff2b0bcb1344783963ff9bbed434822"
            }
          },
          "metadata": {}
        },
        {
          "output_type": "display_data",
          "data": {
            "text/plain": [
              "Downloading:   0%|          | 0.00/335M [00:00<?, ?B/s]"
            ],
            "application/vnd.jupyter.widget-view+json": {
              "version_major": 2,
              "version_minor": 0,
              "model_id": "22b992a010ed41aab8ab52377ef64f62"
            }
          },
          "metadata": {}
        },
        {
          "output_type": "execute_result",
          "data": {
            "text/plain": [
              "DialogGPT(\n",
              "  (dialogGPT): GPT2LMHeadModel(\n",
              "    (transformer): GPT2Model(\n",
              "      (wte): Embedding(86054, 768)\n",
              "      (wpe): Embedding(1024, 768)\n",
              "      (drop): Dropout(p=0.1, inplace=False)\n",
              "      (h): ModuleList(\n",
              "        (0): GPT2Block(\n",
              "          (ln_1): LayerNorm((768,), eps=1e-05, elementwise_affine=True)\n",
              "          (attn): GPT2Attention(\n",
              "            (c_attn): Conv1D()\n",
              "            (c_proj): Conv1D()\n",
              "            (attn_dropout): Dropout(p=0.1, inplace=False)\n",
              "            (resid_dropout): Dropout(p=0.1, inplace=False)\n",
              "          )\n",
              "          (ln_2): LayerNorm((768,), eps=1e-05, elementwise_affine=True)\n",
              "          (mlp): GPT2MLP(\n",
              "            (c_fc): Conv1D()\n",
              "            (c_proj): Conv1D()\n",
              "            (act): NewGELUActivation()\n",
              "            (dropout): Dropout(p=0.1, inplace=False)\n",
              "          )\n",
              "        )\n",
              "        (1): GPT2Block(\n",
              "          (ln_1): LayerNorm((768,), eps=1e-05, elementwise_affine=True)\n",
              "          (attn): GPT2Attention(\n",
              "            (c_attn): Conv1D()\n",
              "            (c_proj): Conv1D()\n",
              "            (attn_dropout): Dropout(p=0.1, inplace=False)\n",
              "            (resid_dropout): Dropout(p=0.1, inplace=False)\n",
              "          )\n",
              "          (ln_2): LayerNorm((768,), eps=1e-05, elementwise_affine=True)\n",
              "          (mlp): GPT2MLP(\n",
              "            (c_fc): Conv1D()\n",
              "            (c_proj): Conv1D()\n",
              "            (act): NewGELUActivation()\n",
              "            (dropout): Dropout(p=0.1, inplace=False)\n",
              "          )\n",
              "        )\n",
              "        (2): GPT2Block(\n",
              "          (ln_1): LayerNorm((768,), eps=1e-05, elementwise_affine=True)\n",
              "          (attn): GPT2Attention(\n",
              "            (c_attn): Conv1D()\n",
              "            (c_proj): Conv1D()\n",
              "            (attn_dropout): Dropout(p=0.1, inplace=False)\n",
              "            (resid_dropout): Dropout(p=0.1, inplace=False)\n",
              "          )\n",
              "          (ln_2): LayerNorm((768,), eps=1e-05, elementwise_affine=True)\n",
              "          (mlp): GPT2MLP(\n",
              "            (c_fc): Conv1D()\n",
              "            (c_proj): Conv1D()\n",
              "            (act): NewGELUActivation()\n",
              "            (dropout): Dropout(p=0.1, inplace=False)\n",
              "          )\n",
              "        )\n",
              "        (3): GPT2Block(\n",
              "          (ln_1): LayerNorm((768,), eps=1e-05, elementwise_affine=True)\n",
              "          (attn): GPT2Attention(\n",
              "            (c_attn): Conv1D()\n",
              "            (c_proj): Conv1D()\n",
              "            (attn_dropout): Dropout(p=0.1, inplace=False)\n",
              "            (resid_dropout): Dropout(p=0.1, inplace=False)\n",
              "          )\n",
              "          (ln_2): LayerNorm((768,), eps=1e-05, elementwise_affine=True)\n",
              "          (mlp): GPT2MLP(\n",
              "            (c_fc): Conv1D()\n",
              "            (c_proj): Conv1D()\n",
              "            (act): NewGELUActivation()\n",
              "            (dropout): Dropout(p=0.1, inplace=False)\n",
              "          )\n",
              "        )\n",
              "        (4): GPT2Block(\n",
              "          (ln_1): LayerNorm((768,), eps=1e-05, elementwise_affine=True)\n",
              "          (attn): GPT2Attention(\n",
              "            (c_attn): Conv1D()\n",
              "            (c_proj): Conv1D()\n",
              "            (attn_dropout): Dropout(p=0.1, inplace=False)\n",
              "            (resid_dropout): Dropout(p=0.1, inplace=False)\n",
              "          )\n",
              "          (ln_2): LayerNorm((768,), eps=1e-05, elementwise_affine=True)\n",
              "          (mlp): GPT2MLP(\n",
              "            (c_fc): Conv1D()\n",
              "            (c_proj): Conv1D()\n",
              "            (act): NewGELUActivation()\n",
              "            (dropout): Dropout(p=0.1, inplace=False)\n",
              "          )\n",
              "        )\n",
              "        (5): GPT2Block(\n",
              "          (ln_1): LayerNorm((768,), eps=1e-05, elementwise_affine=True)\n",
              "          (attn): GPT2Attention(\n",
              "            (c_attn): Conv1D()\n",
              "            (c_proj): Conv1D()\n",
              "            (attn_dropout): Dropout(p=0.1, inplace=False)\n",
              "            (resid_dropout): Dropout(p=0.1, inplace=False)\n",
              "          )\n",
              "          (ln_2): LayerNorm((768,), eps=1e-05, elementwise_affine=True)\n",
              "          (mlp): GPT2MLP(\n",
              "            (c_fc): Conv1D()\n",
              "            (c_proj): Conv1D()\n",
              "            (act): NewGELUActivation()\n",
              "            (dropout): Dropout(p=0.1, inplace=False)\n",
              "          )\n",
              "        )\n",
              "        (6): GPT2Block(\n",
              "          (ln_1): LayerNorm((768,), eps=1e-05, elementwise_affine=True)\n",
              "          (attn): GPT2Attention(\n",
              "            (c_attn): Conv1D()\n",
              "            (c_proj): Conv1D()\n",
              "            (attn_dropout): Dropout(p=0.1, inplace=False)\n",
              "            (resid_dropout): Dropout(p=0.1, inplace=False)\n",
              "          )\n",
              "          (ln_2): LayerNorm((768,), eps=1e-05, elementwise_affine=True)\n",
              "          (mlp): GPT2MLP(\n",
              "            (c_fc): Conv1D()\n",
              "            (c_proj): Conv1D()\n",
              "            (act): NewGELUActivation()\n",
              "            (dropout): Dropout(p=0.1, inplace=False)\n",
              "          )\n",
              "        )\n",
              "        (7): GPT2Block(\n",
              "          (ln_1): LayerNorm((768,), eps=1e-05, elementwise_affine=True)\n",
              "          (attn): GPT2Attention(\n",
              "            (c_attn): Conv1D()\n",
              "            (c_proj): Conv1D()\n",
              "            (attn_dropout): Dropout(p=0.1, inplace=False)\n",
              "            (resid_dropout): Dropout(p=0.1, inplace=False)\n",
              "          )\n",
              "          (ln_2): LayerNorm((768,), eps=1e-05, elementwise_affine=True)\n",
              "          (mlp): GPT2MLP(\n",
              "            (c_fc): Conv1D()\n",
              "            (c_proj): Conv1D()\n",
              "            (act): NewGELUActivation()\n",
              "            (dropout): Dropout(p=0.1, inplace=False)\n",
              "          )\n",
              "        )\n",
              "        (8): GPT2Block(\n",
              "          (ln_1): LayerNorm((768,), eps=1e-05, elementwise_affine=True)\n",
              "          (attn): GPT2Attention(\n",
              "            (c_attn): Conv1D()\n",
              "            (c_proj): Conv1D()\n",
              "            (attn_dropout): Dropout(p=0.1, inplace=False)\n",
              "            (resid_dropout): Dropout(p=0.1, inplace=False)\n",
              "          )\n",
              "          (ln_2): LayerNorm((768,), eps=1e-05, elementwise_affine=True)\n",
              "          (mlp): GPT2MLP(\n",
              "            (c_fc): Conv1D()\n",
              "            (c_proj): Conv1D()\n",
              "            (act): NewGELUActivation()\n",
              "            (dropout): Dropout(p=0.1, inplace=False)\n",
              "          )\n",
              "        )\n",
              "        (9): GPT2Block(\n",
              "          (ln_1): LayerNorm((768,), eps=1e-05, elementwise_affine=True)\n",
              "          (attn): GPT2Attention(\n",
              "            (c_attn): Conv1D()\n",
              "            (c_proj): Conv1D()\n",
              "            (attn_dropout): Dropout(p=0.1, inplace=False)\n",
              "            (resid_dropout): Dropout(p=0.1, inplace=False)\n",
              "          )\n",
              "          (ln_2): LayerNorm((768,), eps=1e-05, elementwise_affine=True)\n",
              "          (mlp): GPT2MLP(\n",
              "            (c_fc): Conv1D()\n",
              "            (c_proj): Conv1D()\n",
              "            (act): NewGELUActivation()\n",
              "            (dropout): Dropout(p=0.1, inplace=False)\n",
              "          )\n",
              "        )\n",
              "        (10): GPT2Block(\n",
              "          (ln_1): LayerNorm((768,), eps=1e-05, elementwise_affine=True)\n",
              "          (attn): GPT2Attention(\n",
              "            (c_attn): Conv1D()\n",
              "            (c_proj): Conv1D()\n",
              "            (attn_dropout): Dropout(p=0.1, inplace=False)\n",
              "            (resid_dropout): Dropout(p=0.1, inplace=False)\n",
              "          )\n",
              "          (ln_2): LayerNorm((768,), eps=1e-05, elementwise_affine=True)\n",
              "          (mlp): GPT2MLP(\n",
              "            (c_fc): Conv1D()\n",
              "            (c_proj): Conv1D()\n",
              "            (act): NewGELUActivation()\n",
              "            (dropout): Dropout(p=0.1, inplace=False)\n",
              "          )\n",
              "        )\n",
              "        (11): GPT2Block(\n",
              "          (ln_1): LayerNorm((768,), eps=1e-05, elementwise_affine=True)\n",
              "          (attn): GPT2Attention(\n",
              "            (c_attn): Conv1D()\n",
              "            (c_proj): Conv1D()\n",
              "            (attn_dropout): Dropout(p=0.1, inplace=False)\n",
              "            (resid_dropout): Dropout(p=0.1, inplace=False)\n",
              "          )\n",
              "          (ln_2): LayerNorm((768,), eps=1e-05, elementwise_affine=True)\n",
              "          (mlp): GPT2MLP(\n",
              "            (c_fc): Conv1D()\n",
              "            (c_proj): Conv1D()\n",
              "            (act): NewGELUActivation()\n",
              "            (dropout): Dropout(p=0.1, inplace=False)\n",
              "          )\n",
              "        )\n",
              "      )\n",
              "      (ln_f): LayerNorm((768,), eps=1e-05, elementwise_affine=True)\n",
              "    )\n",
              "    (lm_head): Linear(in_features=768, out_features=86054, bias=False)\n",
              "  )\n",
              ")"
            ]
          },
          "metadata": {},
          "execution_count": 46
        }
      ],
      "source": [
        "#This code is borrowed from this link : https://towardsdatascience.com/multi-label-text-classification-with-xlnet-b5f5755302df\n",
        "\n",
        "checkpoint_gpt = torch.load(path_model)\n",
        "model_state_dict_gpt = checkpoint_gpt['state_dict']\n",
        "model_gpt = DialogGPT(tokenizer=tokenizer_gpt)\n",
        "model_gpt.load_state_dict(model_state_dict_gpt)\n",
        "model_gpt.to(device)"
      ]
    },
    {
      "cell_type": "markdown",
      "metadata": {
        "id": "nhUWEeP2VXtO"
      },
      "source": [
        "# last utterance topic prediction"
      ]
    },
    {
      "cell_type": "code",
      "execution_count": null,
      "metadata": {
        "id": "p4V0OVo6OiMG"
      },
      "outputs": [],
      "source": [
        "movies_dict= TGD_All_data['all_movies']\n"
      ]
    },
    {
      "cell_type": "code",
      "execution_count": null,
      "metadata": {
        "id": "HDqd7s9SDZIS"
      },
      "outputs": [],
      "source": [
        "def tokenize_inputs(liste, tokenizer, num_embeddings=1024):\n",
        "    \n",
        "    outputs = tokenizer.batch_encode_plus(liste,truncation=True,return_tensors='pt',return_attention_mask=True,max_length=num_embeddings, padding='max_length')\n",
        "    # convert tokenized text into numeric ids for the appropriate LM\n",
        "    input_ids =outputs.input_ids\n",
        "    outputs[\"labels\"]=input_ids\n",
        "    \n",
        "\n",
        "    return input_ids,outputs.attention_mask\n",
        "    "
      ]
    },
    {
      "cell_type": "markdown",
      "metadata": {
        "id": "z08kN848fG-P"
      },
      "source": [
        "# with another personality\n"
      ]
    },
    {
      "cell_type": "markdown",
      "source": [
        "#Get the user Model"
      ],
      "metadata": {
        "id": "_Q_rhDS8GBHr"
      }
    },
    {
      "cell_type": "code",
      "source": [
        "i=5\n",
        "#current user model\n",
        "User_Model={'big5':[int(x) for x in test_rows[i][0].replace('<big5>','').replace('</big5>','').strip().split()], 'movie_history_watching':test_movie_history_watching[i],'profile':test_rows[i][1].replace('<profile>','').replace('</profile>','').strip()}"
      ],
      "metadata": {
        "id": "FHMiB0eFTd7q"
      },
      "execution_count": null,
      "outputs": []
    },
    {
      "cell_type": "code",
      "execution_count": null,
      "metadata": {
        "colab": {
          "base_uri": "https://localhost:8080/",
          "height": 334
        },
        "id": "IKoOd-dZfLm_",
        "outputId": "4e965bf5-e6c5-4f87-8e8b-e39655a0a427"
      },
      "outputs": [
        {
          "name": "stdout",
          "output_type": "stream",
          "text": [
            ">>DialoGPT:      what are you doing?\n",
            ">> User:         i'm looking for a thriller movie, can you recommend me one, please\n",
            ">>DialoGPT:      then i highly recommend you to watch \u001b[6;30;42mcold blood\u001b[0m horror, which is a good movie, but i don't like it.\n",
            ">> User:         you know what i think i want to watch a comedy movie to laugh a little bit. do you have any recommendations\n",
            ">>DialoGPT:      then i recommend you to watch the \u001b[6;30;42mmummy\u001b[0m. this is a horror movie, but it is not a horror movie. it is a funny and funny movie. it is worth watching.\n",
            ">> User:         i love this movie, its a comedy and an adventure movie type, my best I will check it later . however, i would like to watch an inspirational movie for now\n",
            ">>DialoGPT:      then i recommend a thrilling and funny movie to you. have you ever watched \u001b[6;30;42mpeachy furious car\u001b[0m? this is a suspenseful and suspenseful comedy with a good plot and a good rhythm.\n",
            ">> User:         i think i changed my mind, is there any movie about suspense!\n",
            ">>DialoGPT:      then i highly recommend the \u001b[6;30;42mhorror\u001b[0m, a suspenseful thriller with a good rhythm and a good suspense film. conscience recommends you to watch it. suspense and horror are very important to the film. suspense is the source of horror movies in my heart, and it is also a very good suspense film, i recommend it to you!\n",
            ">> User:         thank you very much for your recommendation. i need to go now goodbye !\n",
            "DialoGPT: you may also like second mom based on your previous watching history. Have a good one, be safe, bye.\n"
          ]
        },
        {
          "data": {
            "application/vnd.google.colaboratory.intrinsic+json": {
              "type": "string"
            },
            "text/plain": [
              "\"\\n>>DialoGPT:      what are you doing?\\n>> User:         i'm looking for a thriller movie, can you recommend me one, please.\\n>>DialoGPT:      i highly recommend the movie cold blood horror, which is a bit like a horror movie.\\n>> User:         you know what i think i want to watch a comedy movie to laugh a little bit. do you have any recommendations.\\n>>DialoGPT:      i recommend you to watch the mummy. this is a horror movie, but it is not a comedy. it is a good movie. it is worth watching.\\n>> User:          i love this movie, its a comedy and an adventure movie type, my best I will check it later . however, i would like to watch an inspirational movie for now\\n>>DialoGPT:      you can watch morning anchor, a relaxed and inspirational film, which is very suitable for you. it is a relaxing and inspirational film.\\n>> User:          i think i changed my mind, is there any movie about suspense!\\n>>DialoGPT:      i highly recommend picnic on the cliff, a suspenseful and suspenseful suspense film, which is very good. i watched it many times when i was a kid, and i still have a deep impression now. it's worth watching again. i recommend a suspenseful movie to you. you can watch it when you have time. you will definitely be satisfied.\\n>> User:         thank you very much for your recommendation. i need to go now goodbye !\\n\""
            ]
          },
          "execution_count": 120,
          "metadata": {},
          "output_type": "execute_result"
        }
      ],
      "source": [
        "persona_0='<big5> '+\" \".join(str(x)for x in User_Model['big5'])+' </big5>'+tokenizer_gpt.eos_token+User_Model['profile']\n",
        "movie_history_watching=User_Model['movie_history_watching']\n",
        "\n",
        "#Beam search Decoding\n",
        "user_utterances=[]\n",
        "next_movie_to_watch=\"\"\n",
        "previous_string=persona_0+tokenizer_gpt.eos_token +'<recommender>'\n",
        "persona_ids=tokenizer_gpt.encode(previous_string , return_tensors='pt').to(device)\n",
        "new_user_input_ids=persona_ids\n",
        "previous_interactions=\"\"\n",
        "#print(f'previous string: {previous_string}')\n",
        "# Let's chat for 5 lines\n",
        "for step in range(100):\n",
        "    # encode the new user input, add the eos_token and return a tensor in Pytorch\n",
        "    # print(new_user_input_ids)\n",
        "    #chat_history_ids= tokenizer.encode(persona)\n",
        "    # append the new user input tokens to the chat history\n",
        "    bot_input_ids = new_user_input_ids\n",
        "\n",
        "    #print(f\"bot_input_ids : {tokenizer_gpt.decode(bot_input_ids[0])}\")\n",
        "\n",
        "    # generated a response while limiting the total chat history to 1000 tokens, \n",
        "    chat_history_ids = model_gpt.dialogGPT.generate(\n",
        "        bot_input_ids, max_length=1000,\n",
        "        pad_token_id=tokenizer_gpt.eos_token_id,\n",
        "        no_repeat_ngram_size=5,\n",
        "        num_beams=5,\n",
        "        early_stop=True\n",
        "\n",
        "        \n",
        "    )\n",
        "    #print(f'chat history id : {tokenizer.decode(chat_history_ids[:, bot_input_ids.shape[-1]:][0])}')\n",
        "\n",
        "#        do_sample=True,\n",
        "\n",
        "#num_return_sequences=3\n",
        "    \n",
        "    # pretty print last ouput tokens from bot\n",
        "    response=tokenizer_gpt.decode(chat_history_ids[:, bot_input_ids.shape[-1]:][0], skip_special_tokens=True)\n",
        "    #print(f'response oroginale ; {response}')\n",
        "\n",
        "\n",
        "    if \"<topic>\" in response:\n",
        "        in_response=response\n",
        "        response=response.split()\n",
        "        response=response[:response.index(\"<topic>\")]\n",
        "        response=\" \".join(x for x in response)\n",
        "    \n",
        "\n",
        "      \n",
        "    if '@' in response:\n",
        "      movie_pred=re.findall(r\"@[0-9]+\",response)[0]\n",
        "      previous_interactions=previous_interactions+' '+movie_pred\n",
        "\n",
        "\n",
        "    #print(f\"see all the dialogue {all_dialogue_text}\")\n",
        "    #print(f\"Fed input to the topic prediction {response}\")\n",
        "    _,topics=get_all_prediction([response],topic_list)\n",
        "    #_,topics=get_all_prediction_only_topic([topic_text_without_big5_personality],topic_list,intent_tokens)\n",
        "    #print(f\" predict the topic {topics}\")\n",
        "    \n",
        "    if '@' in response:\n",
        "      movie_pred=re.findall(r\"@[0-9]+\",response)[0]\n",
        "      #response=response+f\" you may also like {movies_dict[next_movie_to_watch]['name']} based on your previous history of watching.\"\n",
        "      print(\">>DialoGPT:      {}\".format(re.sub(movie_pred, \"\\x1b[6;30;42m\"+movies_dict[movie_pred]['name']+\"\\x1b[0m\", response)))\n",
        "    else:\n",
        "      print(\">>DialoGPT:      {}\".format(response))\n",
        "\n",
        "    \n",
        "    \n",
        "\n",
        "    \n",
        "    user_utterance='<seeker> '+input(\">> User:         \")\n",
        "    user_utterances.append(user_utterance.replace('<seeker> ',''))\n",
        "    _,topics_user_utterance=get_all_prediction([user_utterance],topic_list)\n",
        "    #print(f\"\\n User topic {topics_user_utterance}\\n\")\n",
        "    user_utterance=user_utterance\n",
        "\n",
        "    \"\"\"if (\"request\" in topics) and (\"recommendation \" in topics):\n",
        "      previous_interactions=interactions\n",
        "      next_movie_to_watch=Predict_Movie([previous_interactions+' [MASK]'],big5=[Big5_personality],model=model_movie,tokenizer_m=tokenizer_4rec,device=device, batch_size=32)\n",
        "      print(next_movie_to_watch)\n",
        "      previous_interactions=previous_interactions+' '+next_movie_to_watch\"\"\"\n",
        "    previous_string=previous_string+' '+in_response+tokenizer_gpt.eos_token+ user_utterance + topics_user_utterance+tokenizer_gpt.eos_token+ '<recommender>'\n",
        "    new_user_input_ids = tokenizer_gpt.encode(previous_string ,return_tensors='pt').to(device)\n",
        "    \n",
        "    \n",
        "    \n",
        "    \n",
        "    if (('end' in topics_user_utterance) and (\"feedback\" in topics_user_utterance) and (\"no-topic\" in topics_user_utterance)):\n",
        "      break\n",
        "\n",
        "\n",
        "\n",
        "interac=\" \".join(x for x in movie_history_watching)+previous_interactions+\" [MASK]\"\n",
        "final_shot=Predict_Movie([interac],model=model_movie,tokenizer_m=tokenizer_4rec,device=device, batch_size=32)\n",
        "print(f\"DialoGPT: you may also like {movies_dict[final_shot]['name']} based on your previous watching history. Have a good one, be safe, bye.\")\n"
      ]
    },
    {
      "cell_type": "code",
      "source": [
        "\n",
        "#Beam search Decoding\n",
        "user_utterances=[]\n",
        "next_movie_to_watch=\"\"\n",
        "previous_string=persona_0+tokenizer_gpt.eos_token +'<recommender>'\n",
        "persona_ids=tokenizer_gpt.encode(previous_string , return_tensors='pt').to(device)\n",
        "new_user_input_ids=persona_ids\n",
        "previous_interactions=\"\"\n",
        "#print(f'previous string: {previous_string}')\n",
        "# Let's chat for 5 lines\n",
        "for step in range(100):\n",
        "    # encode the new user input, add the eos_token and return a tensor in Pytorch\n",
        "    # print(new_user_input_ids)\n",
        "    #chat_history_ids= tokenizer.encode(persona)\n",
        "    # append the new user input tokens to the chat history\n",
        "    bot_input_ids = new_user_input_ids\n",
        "\n",
        "    #print(f\"bot_input_ids : {tokenizer_gpt.decode(bot_input_ids[0])}\")\n",
        "\n",
        "    # generated a response while limiting the total chat history to 1000 tokens, \n",
        "    chat_history_ids = model_gpt.dialogGPT.generate(\n",
        "        bot_input_ids, max_length=1000,\n",
        "        pad_token_id=tokenizer_gpt.eos_token_id,\n",
        "        no_repeat_ngram_size=5,\n",
        "        num_beams=5,\n",
        "        early_stop=True\n",
        "\n",
        "        \n",
        "    )\n",
        "    #print(f'chat history id : {tokenizer.decode(chat_history_ids[:, bot_input_ids.shape[-1]:][0])}')\n",
        "\n",
        "#        do_sample=True,\n",
        "\n",
        "#num_return_sequences=3\n",
        "    \n",
        "    # pretty print last ouput tokens from bot\n",
        "    response=tokenizer_gpt.decode(chat_history_ids[:, bot_input_ids.shape[-1]:][0], skip_special_tokens=True)\n",
        "    #print(f'response oroginale ; {response}')\n",
        "\n",
        "\n",
        "    if \"<topic>\" in response:\n",
        "        in_response=response\n",
        "        response=response.split()\n",
        "        response=response[:response.index(\"<topic>\")]\n",
        "        response=\" \".join(x for x in response)\n",
        "    \n",
        "\n",
        "      \n",
        "    if '@' in response:\n",
        "      movie_pred=re.findall(r\"@[0-9]+\",response)[0]\n",
        "      previous_interactions=previous_interactions+' '+movie_pred\n",
        "\n",
        "\n",
        "    #print(f\"see all the dialogue {all_dialogue_text}\")\n",
        "    #print(f\"Fed input to the topic prediction {response}\")\n",
        "    _,topics=get_all_prediction([response],topic_list)\n",
        "    #_,topics=get_all_prediction_only_topic([topic_text_without_big5_personality],topic_list,intent_tokens)\n",
        "    #print(f\" predict the topic {topics}\")\n",
        "    \n",
        "    if '@' in response:\n",
        "      movie_pred=re.findall(r\"@[0-9]+\",response)[0]\n",
        "      #response=response+f\" you may also like {movies_dict[next_movie_to_watch]['name']} based on your previous history of watching.\"\n",
        "      print(\">>DialoGPT:      {}\".format(re.sub(movie_pred, \"\\x1b[6;30;42m\"+movies_dict[movie_pred]['name']+\"\\x1b[0m\", response)))\n",
        "    else:\n",
        "      print(\">>DialoGPT:      {}\".format(response))\n",
        "\n",
        "    \n",
        "    \n",
        "\n",
        "    \n",
        "    user_utterance='<seeker> '+input(\">> User:         \")\n",
        "    user_utterances.append(user_utterance.replace('<seeker> ',''))\n",
        "    _,topics_user_utterance=get_all_prediction([user_utterance],topic_list)\n",
        "    #print(f\"\\n User topic {topics_user_utterance}\\n\")\n",
        "    user_utterance=user_utterance\n",
        "\n",
        "    \"\"\"if (\"request\" in topics) and (\"recommendation \" in topics):\n",
        "      previous_interactions=interactions\n",
        "      next_movie_to_watch=Predict_Movie([previous_interactions+' [MASK]'],big5=[Big5_personality],model=model_movie,tokenizer_m=tokenizer_4rec,device=device, batch_size=32)\n",
        "      print(next_movie_to_watch)\n",
        "      previous_interactions=previous_interactions+' '+next_movie_to_watch\"\"\"\n",
        "    previous_string=previous_string+' '+in_response+tokenizer_gpt.eos_token+ user_utterance + topics_user_utterance+tokenizer_gpt.eos_token+ '<recommender>'\n",
        "    new_user_input_ids = tokenizer_gpt.encode(previous_string ,return_tensors='pt').to(device)\n",
        "    \n",
        "    \n",
        "    \n",
        "    \n",
        "    if (('end' in topics_user_utterance) and (\"feedback\" in topics_user_utterance) and (\"no-topic\" in topics_user_utterance)):\n",
        "      break\n",
        "\n",
        "\n",
        "\n",
        "interac=\" \".join(x for x in movie_history_watching)+previous_interactions+\" [MASK]\"\n",
        "final_shot=Predict_Movie([interac],model=model_movie,tokenizer_m=tokenizer_4rec,device=device, batch_size=32)\n",
        "print(f\"DialoGPT: you may also like {movies_dict[final_shot]['name']} based on your previous watching history. Have a good one, be safe, bye.\")\n"
      ],
      "metadata": {
        "id": "Ee5Xt87qSxrd"
      },
      "execution_count": null,
      "outputs": []
    },
    {
      "cell_type": "markdown",
      "source": [
        "#User model update\n"
      ],
      "metadata": {
        "id": "Em7SYPIaBruk"
      }
    },
    {
      "cell_type": "code",
      "source": [
        "# Update user model:\n",
        "first_conv=False\n",
        "new_history=interac.replace('[MASK]',final_shot)\n",
        "if first_conv==True:  \n",
        "  new_big5= [int(c) for c in Predict(model_personality, tokenizer_personality,' '.join(x for x in user_utterances), 4,5, device=\"cuda\", batch_size=32)['reg_pred'][0]]\n",
        "else:\n",
        "  new_big5=User_Model['big5']\n",
        "new_preferences=summarize(User_Model['profile']+' '+' '.join(x for x in user_utterances),trained_model_t5,tokenizer_t5)\n",
        "new_preferences='.'.join(x for x in np.unique(User_Model['profile'].split('.')+new_preferences.split('.')))\n",
        "\n"
      ],
      "metadata": {
        "id": "s-hORHxGVXGe"
      },
      "execution_count": null,
      "outputs": []
    },
    {
      "cell_type": "code",
      "source": [
        "User_Model['movie_history_watching']=new_history\n",
        "User_Model['big5']=new_big5\n",
        "User_Model['profile']=new_preferences"
      ],
      "metadata": {
        "id": "eCLORDFdYeyX"
      },
      "execution_count": null,
      "outputs": []
    },
    {
      "cell_type": "code",
      "source": [
        "User_Model"
      ],
      "metadata": {
        "colab": {
          "base_uri": "https://localhost:8080/"
        },
        "id": "jVi9wAwpZTiZ",
        "outputId": "7fc28ae5-73a5-45ee-a36f-ab39c9ced5d1"
      },
      "execution_count": null,
      "outputs": [
        {
          "output_type": "execute_result",
          "data": {
            "text/plain": [
              "{'big5': [45, 79, 42, 52, 45],\n",
              " 'movie_history_watching': '@5152976 @6873779 @3627216 @24696639 @25909240 @26309331 @25865960 @10733358 @25920096 @26279269 @26633182 @25903020 @25900849 @10532705 @6040997 @2263153 @3285610 @1440622 @1296153 @26633265 @2156381 @1433676 @26591650 @1301575 @6793324 @3260445 @26681532 @1914681 @26678825 @26668502 @26644599 @2153004 @26631296 @25910552 @26691703 @26021922 @21662408 @24878250 @2049667 @26337144 @25832821 @26591064 @26423194 @1306256 @26276385 @25919930 @26361479 @26393580 @26304552 @25713332 @26710214 @3239892 @10565195 @26386317 @26200179 @10549943 @25784446 @26342011 @5152503 @25806489 @24754210 @26700894 @1303534 @1303534 @1292772',\n",
              " 'profile': \". i am an athlete. i don't like my job. i visit india often. i want to be an explorer. my favorite color is blue.i am an athlete.i don't like my job.i like animation .i like kids .i like love very much .i like music very much .i like sports .i like to live on the ground .i like writing love letters very much .i really want to have sincere feelings.i think i am a loud voice .i want to be an explorer.the place i want to travel most is india \"}"
            ]
          },
          "metadata": {},
          "execution_count": 71
        }
      ]
    },
    {
      "cell_type": "code",
      "source": [
        ""
      ],
      "metadata": {
        "id": "7wfgWJJSDkKS"
      },
      "execution_count": null,
      "outputs": []
    }
  ],
  "metadata": {
    "accelerator": "GPU",
    "colab": {
      "collapsed_sections": [],
      "machine_shape": "hm",
      "name": "Final CRS_CombineAll_Trained_Models.ipynb",
      "provenance": []
    },
    "kernelspec": {
      "display_name": "Python 3",
      "name": "python3"
    },
    "language_info": {
      "name": "python"
    },
    "widgets": {
      "application/vnd.jupyter.widget-state+json": {
        "f4b10a0cf5b8464cbd9f7a4902107ab0": {
          "model_module": "@jupyter-widgets/controls",
          "model_name": "HBoxModel",
          "model_module_version": "1.5.0",
          "state": {
            "_dom_classes": [],
            "_model_module": "@jupyter-widgets/controls",
            "_model_module_version": "1.5.0",
            "_model_name": "HBoxModel",
            "_view_count": null,
            "_view_module": "@jupyter-widgets/controls",
            "_view_module_version": "1.5.0",
            "_view_name": "HBoxView",
            "box_style": "",
            "children": [
              "IPY_MODEL_651d83d69143410f8cc13ff492783106",
              "IPY_MODEL_4daca959413a445e9ea2daabe31bae24",
              "IPY_MODEL_924075f4b32d476ea4bc28028b3c41f9"
            ],
            "layout": "IPY_MODEL_0be83512763246f68a3690bb2d13b5ad"
          }
        },
        "651d83d69143410f8cc13ff492783106": {
          "model_module": "@jupyter-widgets/controls",
          "model_name": "HTMLModel",
          "model_module_version": "1.5.0",
          "state": {
            "_dom_classes": [],
            "_model_module": "@jupyter-widgets/controls",
            "_model_module_version": "1.5.0",
            "_model_name": "HTMLModel",
            "_view_count": null,
            "_view_module": "@jupyter-widgets/controls",
            "_view_module_version": "1.5.0",
            "_view_name": "HTMLView",
            "description": "",
            "description_tooltip": null,
            "layout": "IPY_MODEL_1831585ea2b94240b1e0a4dec0861dec",
            "placeholder": "​",
            "style": "IPY_MODEL_62dac0fe0f8e41ed898eb3126939c50c",
            "value": "Downloading: 100%"
          }
        },
        "4daca959413a445e9ea2daabe31bae24": {
          "model_module": "@jupyter-widgets/controls",
          "model_name": "FloatProgressModel",
          "model_module_version": "1.5.0",
          "state": {
            "_dom_classes": [],
            "_model_module": "@jupyter-widgets/controls",
            "_model_module_version": "1.5.0",
            "_model_name": "FloatProgressModel",
            "_view_count": null,
            "_view_module": "@jupyter-widgets/controls",
            "_view_module_version": "1.5.0",
            "_view_name": "ProgressView",
            "bar_style": "success",
            "description": "",
            "description_tooltip": null,
            "layout": "IPY_MODEL_b6041113f37a4a1aa3923fd90a3c90ea",
            "max": 665,
            "min": 0,
            "orientation": "horizontal",
            "style": "IPY_MODEL_e67ef06a0f1444c2859c31e8de9041ca",
            "value": 665
          }
        },
        "924075f4b32d476ea4bc28028b3c41f9": {
          "model_module": "@jupyter-widgets/controls",
          "model_name": "HTMLModel",
          "model_module_version": "1.5.0",
          "state": {
            "_dom_classes": [],
            "_model_module": "@jupyter-widgets/controls",
            "_model_module_version": "1.5.0",
            "_model_name": "HTMLModel",
            "_view_count": null,
            "_view_module": "@jupyter-widgets/controls",
            "_view_module_version": "1.5.0",
            "_view_name": "HTMLView",
            "description": "",
            "description_tooltip": null,
            "layout": "IPY_MODEL_63cc194007d045628d168f0e571392be",
            "placeholder": "​",
            "style": "IPY_MODEL_58293986d8854154a55bd8a2b817eaa6",
            "value": " 665/665 [00:00&lt;00:00, 25.2kB/s]"
          }
        },
        "0be83512763246f68a3690bb2d13b5ad": {
          "model_module": "@jupyter-widgets/base",
          "model_name": "LayoutModel",
          "model_module_version": "1.2.0",
          "state": {
            "_model_module": "@jupyter-widgets/base",
            "_model_module_version": "1.2.0",
            "_model_name": "LayoutModel",
            "_view_count": null,
            "_view_module": "@jupyter-widgets/base",
            "_view_module_version": "1.2.0",
            "_view_name": "LayoutView",
            "align_content": null,
            "align_items": null,
            "align_self": null,
            "border": null,
            "bottom": null,
            "display": null,
            "flex": null,
            "flex_flow": null,
            "grid_area": null,
            "grid_auto_columns": null,
            "grid_auto_flow": null,
            "grid_auto_rows": null,
            "grid_column": null,
            "grid_gap": null,
            "grid_row": null,
            "grid_template_areas": null,
            "grid_template_columns": null,
            "grid_template_rows": null,
            "height": null,
            "justify_content": null,
            "justify_items": null,
            "left": null,
            "margin": null,
            "max_height": null,
            "max_width": null,
            "min_height": null,
            "min_width": null,
            "object_fit": null,
            "object_position": null,
            "order": null,
            "overflow": null,
            "overflow_x": null,
            "overflow_y": null,
            "padding": null,
            "right": null,
            "top": null,
            "visibility": null,
            "width": null
          }
        },
        "1831585ea2b94240b1e0a4dec0861dec": {
          "model_module": "@jupyter-widgets/base",
          "model_name": "LayoutModel",
          "model_module_version": "1.2.0",
          "state": {
            "_model_module": "@jupyter-widgets/base",
            "_model_module_version": "1.2.0",
            "_model_name": "LayoutModel",
            "_view_count": null,
            "_view_module": "@jupyter-widgets/base",
            "_view_module_version": "1.2.0",
            "_view_name": "LayoutView",
            "align_content": null,
            "align_items": null,
            "align_self": null,
            "border": null,
            "bottom": null,
            "display": null,
            "flex": null,
            "flex_flow": null,
            "grid_area": null,
            "grid_auto_columns": null,
            "grid_auto_flow": null,
            "grid_auto_rows": null,
            "grid_column": null,
            "grid_gap": null,
            "grid_row": null,
            "grid_template_areas": null,
            "grid_template_columns": null,
            "grid_template_rows": null,
            "height": null,
            "justify_content": null,
            "justify_items": null,
            "left": null,
            "margin": null,
            "max_height": null,
            "max_width": null,
            "min_height": null,
            "min_width": null,
            "object_fit": null,
            "object_position": null,
            "order": null,
            "overflow": null,
            "overflow_x": null,
            "overflow_y": null,
            "padding": null,
            "right": null,
            "top": null,
            "visibility": null,
            "width": null
          }
        },
        "62dac0fe0f8e41ed898eb3126939c50c": {
          "model_module": "@jupyter-widgets/controls",
          "model_name": "DescriptionStyleModel",
          "model_module_version": "1.5.0",
          "state": {
            "_model_module": "@jupyter-widgets/controls",
            "_model_module_version": "1.5.0",
            "_model_name": "DescriptionStyleModel",
            "_view_count": null,
            "_view_module": "@jupyter-widgets/base",
            "_view_module_version": "1.2.0",
            "_view_name": "StyleView",
            "description_width": ""
          }
        },
        "b6041113f37a4a1aa3923fd90a3c90ea": {
          "model_module": "@jupyter-widgets/base",
          "model_name": "LayoutModel",
          "model_module_version": "1.2.0",
          "state": {
            "_model_module": "@jupyter-widgets/base",
            "_model_module_version": "1.2.0",
            "_model_name": "LayoutModel",
            "_view_count": null,
            "_view_module": "@jupyter-widgets/base",
            "_view_module_version": "1.2.0",
            "_view_name": "LayoutView",
            "align_content": null,
            "align_items": null,
            "align_self": null,
            "border": null,
            "bottom": null,
            "display": null,
            "flex": null,
            "flex_flow": null,
            "grid_area": null,
            "grid_auto_columns": null,
            "grid_auto_flow": null,
            "grid_auto_rows": null,
            "grid_column": null,
            "grid_gap": null,
            "grid_row": null,
            "grid_template_areas": null,
            "grid_template_columns": null,
            "grid_template_rows": null,
            "height": null,
            "justify_content": null,
            "justify_items": null,
            "left": null,
            "margin": null,
            "max_height": null,
            "max_width": null,
            "min_height": null,
            "min_width": null,
            "object_fit": null,
            "object_position": null,
            "order": null,
            "overflow": null,
            "overflow_x": null,
            "overflow_y": null,
            "padding": null,
            "right": null,
            "top": null,
            "visibility": null,
            "width": null
          }
        },
        "e67ef06a0f1444c2859c31e8de9041ca": {
          "model_module": "@jupyter-widgets/controls",
          "model_name": "ProgressStyleModel",
          "model_module_version": "1.5.0",
          "state": {
            "_model_module": "@jupyter-widgets/controls",
            "_model_module_version": "1.5.0",
            "_model_name": "ProgressStyleModel",
            "_view_count": null,
            "_view_module": "@jupyter-widgets/base",
            "_view_module_version": "1.2.0",
            "_view_name": "StyleView",
            "bar_color": null,
            "description_width": ""
          }
        },
        "63cc194007d045628d168f0e571392be": {
          "model_module": "@jupyter-widgets/base",
          "model_name": "LayoutModel",
          "model_module_version": "1.2.0",
          "state": {
            "_model_module": "@jupyter-widgets/base",
            "_model_module_version": "1.2.0",
            "_model_name": "LayoutModel",
            "_view_count": null,
            "_view_module": "@jupyter-widgets/base",
            "_view_module_version": "1.2.0",
            "_view_name": "LayoutView",
            "align_content": null,
            "align_items": null,
            "align_self": null,
            "border": null,
            "bottom": null,
            "display": null,
            "flex": null,
            "flex_flow": null,
            "grid_area": null,
            "grid_auto_columns": null,
            "grid_auto_flow": null,
            "grid_auto_rows": null,
            "grid_column": null,
            "grid_gap": null,
            "grid_row": null,
            "grid_template_areas": null,
            "grid_template_columns": null,
            "grid_template_rows": null,
            "height": null,
            "justify_content": null,
            "justify_items": null,
            "left": null,
            "margin": null,
            "max_height": null,
            "max_width": null,
            "min_height": null,
            "min_width": null,
            "object_fit": null,
            "object_position": null,
            "order": null,
            "overflow": null,
            "overflow_x": null,
            "overflow_y": null,
            "padding": null,
            "right": null,
            "top": null,
            "visibility": null,
            "width": null
          }
        },
        "58293986d8854154a55bd8a2b817eaa6": {
          "model_module": "@jupyter-widgets/controls",
          "model_name": "DescriptionStyleModel",
          "model_module_version": "1.5.0",
          "state": {
            "_model_module": "@jupyter-widgets/controls",
            "_model_module_version": "1.5.0",
            "_model_name": "DescriptionStyleModel",
            "_view_count": null,
            "_view_module": "@jupyter-widgets/base",
            "_view_module_version": "1.2.0",
            "_view_name": "StyleView",
            "description_width": ""
          }
        },
        "468a2b9c00e541aebdb9ee0203506f42": {
          "model_module": "@jupyter-widgets/controls",
          "model_name": "HBoxModel",
          "model_module_version": "1.5.0",
          "state": {
            "_dom_classes": [],
            "_model_module": "@jupyter-widgets/controls",
            "_model_module_version": "1.5.0",
            "_model_name": "HBoxModel",
            "_view_count": null,
            "_view_module": "@jupyter-widgets/controls",
            "_view_module_version": "1.5.0",
            "_view_name": "HBoxView",
            "box_style": "",
            "children": [
              "IPY_MODEL_7e3ae4a9d3024737bbab280234ace8ce",
              "IPY_MODEL_b6edef68ce9542938e35e8c78dd5659b",
              "IPY_MODEL_d0deca18fb0549b9bee324d09ce15867"
            ],
            "layout": "IPY_MODEL_e9da7b43c5c944cfbb7035aace00fbed"
          }
        },
        "7e3ae4a9d3024737bbab280234ace8ce": {
          "model_module": "@jupyter-widgets/controls",
          "model_name": "HTMLModel",
          "model_module_version": "1.5.0",
          "state": {
            "_dom_classes": [],
            "_model_module": "@jupyter-widgets/controls",
            "_model_module_version": "1.5.0",
            "_model_name": "HTMLModel",
            "_view_count": null,
            "_view_module": "@jupyter-widgets/controls",
            "_view_module_version": "1.5.0",
            "_view_name": "HTMLView",
            "description": "",
            "description_tooltip": null,
            "layout": "IPY_MODEL_3dffbe31bd42494187f8d94484ee3bb7",
            "placeholder": "​",
            "style": "IPY_MODEL_1d5867564ba74ccc91d1cd188ea9b6b4",
            "value": "Downloading: 100%"
          }
        },
        "b6edef68ce9542938e35e8c78dd5659b": {
          "model_module": "@jupyter-widgets/controls",
          "model_name": "FloatProgressModel",
          "model_module_version": "1.5.0",
          "state": {
            "_dom_classes": [],
            "_model_module": "@jupyter-widgets/controls",
            "_model_module_version": "1.5.0",
            "_model_name": "FloatProgressModel",
            "_view_count": null,
            "_view_module": "@jupyter-widgets/controls",
            "_view_module_version": "1.5.0",
            "_view_name": "ProgressView",
            "bar_style": "success",
            "description": "",
            "description_tooltip": null,
            "layout": "IPY_MODEL_9feba0532b2b46b69be1ce8da2f2c745",
            "max": 54245363,
            "min": 0,
            "orientation": "horizontal",
            "style": "IPY_MODEL_99479658e0aa4085bee31dfa32627800",
            "value": 54245363
          }
        },
        "d0deca18fb0549b9bee324d09ce15867": {
          "model_module": "@jupyter-widgets/controls",
          "model_name": "HTMLModel",
          "model_module_version": "1.5.0",
          "state": {
            "_dom_classes": [],
            "_model_module": "@jupyter-widgets/controls",
            "_model_module_version": "1.5.0",
            "_model_name": "HTMLModel",
            "_view_count": null,
            "_view_module": "@jupyter-widgets/controls",
            "_view_module_version": "1.5.0",
            "_view_name": "HTMLView",
            "description": "",
            "description_tooltip": null,
            "layout": "IPY_MODEL_8a652f02afbf40af8bd7a4573d4bbc78",
            "placeholder": "​",
            "style": "IPY_MODEL_0cc23c88b12f4c9493e571e563b2ed50",
            "value": " 51.7M/51.7M [00:01&lt;00:00, 54.9MB/s]"
          }
        },
        "e9da7b43c5c944cfbb7035aace00fbed": {
          "model_module": "@jupyter-widgets/base",
          "model_name": "LayoutModel",
          "model_module_version": "1.2.0",
          "state": {
            "_model_module": "@jupyter-widgets/base",
            "_model_module_version": "1.2.0",
            "_model_name": "LayoutModel",
            "_view_count": null,
            "_view_module": "@jupyter-widgets/base",
            "_view_module_version": "1.2.0",
            "_view_name": "LayoutView",
            "align_content": null,
            "align_items": null,
            "align_self": null,
            "border": null,
            "bottom": null,
            "display": null,
            "flex": null,
            "flex_flow": null,
            "grid_area": null,
            "grid_auto_columns": null,
            "grid_auto_flow": null,
            "grid_auto_rows": null,
            "grid_column": null,
            "grid_gap": null,
            "grid_row": null,
            "grid_template_areas": null,
            "grid_template_columns": null,
            "grid_template_rows": null,
            "height": null,
            "justify_content": null,
            "justify_items": null,
            "left": null,
            "margin": null,
            "max_height": null,
            "max_width": null,
            "min_height": null,
            "min_width": null,
            "object_fit": null,
            "object_position": null,
            "order": null,
            "overflow": null,
            "overflow_x": null,
            "overflow_y": null,
            "padding": null,
            "right": null,
            "top": null,
            "visibility": null,
            "width": null
          }
        },
        "3dffbe31bd42494187f8d94484ee3bb7": {
          "model_module": "@jupyter-widgets/base",
          "model_name": "LayoutModel",
          "model_module_version": "1.2.0",
          "state": {
            "_model_module": "@jupyter-widgets/base",
            "_model_module_version": "1.2.0",
            "_model_name": "LayoutModel",
            "_view_count": null,
            "_view_module": "@jupyter-widgets/base",
            "_view_module_version": "1.2.0",
            "_view_name": "LayoutView",
            "align_content": null,
            "align_items": null,
            "align_self": null,
            "border": null,
            "bottom": null,
            "display": null,
            "flex": null,
            "flex_flow": null,
            "grid_area": null,
            "grid_auto_columns": null,
            "grid_auto_flow": null,
            "grid_auto_rows": null,
            "grid_column": null,
            "grid_gap": null,
            "grid_row": null,
            "grid_template_areas": null,
            "grid_template_columns": null,
            "grid_template_rows": null,
            "height": null,
            "justify_content": null,
            "justify_items": null,
            "left": null,
            "margin": null,
            "max_height": null,
            "max_width": null,
            "min_height": null,
            "min_width": null,
            "object_fit": null,
            "object_position": null,
            "order": null,
            "overflow": null,
            "overflow_x": null,
            "overflow_y": null,
            "padding": null,
            "right": null,
            "top": null,
            "visibility": null,
            "width": null
          }
        },
        "1d5867564ba74ccc91d1cd188ea9b6b4": {
          "model_module": "@jupyter-widgets/controls",
          "model_name": "DescriptionStyleModel",
          "model_module_version": "1.5.0",
          "state": {
            "_model_module": "@jupyter-widgets/controls",
            "_model_module_version": "1.5.0",
            "_model_name": "DescriptionStyleModel",
            "_view_count": null,
            "_view_module": "@jupyter-widgets/base",
            "_view_module_version": "1.2.0",
            "_view_name": "StyleView",
            "description_width": ""
          }
        },
        "9feba0532b2b46b69be1ce8da2f2c745": {
          "model_module": "@jupyter-widgets/base",
          "model_name": "LayoutModel",
          "model_module_version": "1.2.0",
          "state": {
            "_model_module": "@jupyter-widgets/base",
            "_model_module_version": "1.2.0",
            "_model_name": "LayoutModel",
            "_view_count": null,
            "_view_module": "@jupyter-widgets/base",
            "_view_module_version": "1.2.0",
            "_view_name": "LayoutView",
            "align_content": null,
            "align_items": null,
            "align_self": null,
            "border": null,
            "bottom": null,
            "display": null,
            "flex": null,
            "flex_flow": null,
            "grid_area": null,
            "grid_auto_columns": null,
            "grid_auto_flow": null,
            "grid_auto_rows": null,
            "grid_column": null,
            "grid_gap": null,
            "grid_row": null,
            "grid_template_areas": null,
            "grid_template_columns": null,
            "grid_template_rows": null,
            "height": null,
            "justify_content": null,
            "justify_items": null,
            "left": null,
            "margin": null,
            "max_height": null,
            "max_width": null,
            "min_height": null,
            "min_width": null,
            "object_fit": null,
            "object_position": null,
            "order": null,
            "overflow": null,
            "overflow_x": null,
            "overflow_y": null,
            "padding": null,
            "right": null,
            "top": null,
            "visibility": null,
            "width": null
          }
        },
        "99479658e0aa4085bee31dfa32627800": {
          "model_module": "@jupyter-widgets/controls",
          "model_name": "ProgressStyleModel",
          "model_module_version": "1.5.0",
          "state": {
            "_model_module": "@jupyter-widgets/controls",
            "_model_module_version": "1.5.0",
            "_model_name": "ProgressStyleModel",
            "_view_count": null,
            "_view_module": "@jupyter-widgets/base",
            "_view_module_version": "1.2.0",
            "_view_name": "StyleView",
            "bar_color": null,
            "description_width": ""
          }
        },
        "8a652f02afbf40af8bd7a4573d4bbc78": {
          "model_module": "@jupyter-widgets/base",
          "model_name": "LayoutModel",
          "model_module_version": "1.2.0",
          "state": {
            "_model_module": "@jupyter-widgets/base",
            "_model_module_version": "1.2.0",
            "_model_name": "LayoutModel",
            "_view_count": null,
            "_view_module": "@jupyter-widgets/base",
            "_view_module_version": "1.2.0",
            "_view_name": "LayoutView",
            "align_content": null,
            "align_items": null,
            "align_self": null,
            "border": null,
            "bottom": null,
            "display": null,
            "flex": null,
            "flex_flow": null,
            "grid_area": null,
            "grid_auto_columns": null,
            "grid_auto_flow": null,
            "grid_auto_rows": null,
            "grid_column": null,
            "grid_gap": null,
            "grid_row": null,
            "grid_template_areas": null,
            "grid_template_columns": null,
            "grid_template_rows": null,
            "height": null,
            "justify_content": null,
            "justify_items": null,
            "left": null,
            "margin": null,
            "max_height": null,
            "max_width": null,
            "min_height": null,
            "min_width": null,
            "object_fit": null,
            "object_position": null,
            "order": null,
            "overflow": null,
            "overflow_x": null,
            "overflow_y": null,
            "padding": null,
            "right": null,
            "top": null,
            "visibility": null,
            "width": null
          }
        },
        "0cc23c88b12f4c9493e571e563b2ed50": {
          "model_module": "@jupyter-widgets/controls",
          "model_name": "DescriptionStyleModel",
          "model_module_version": "1.5.0",
          "state": {
            "_model_module": "@jupyter-widgets/controls",
            "_model_module_version": "1.5.0",
            "_model_name": "DescriptionStyleModel",
            "_view_count": null,
            "_view_module": "@jupyter-widgets/base",
            "_view_module_version": "1.2.0",
            "_view_name": "StyleView",
            "description_width": ""
          }
        },
        "ac9992cc978d475cbec59507debe7f54": {
          "model_module": "@jupyter-widgets/controls",
          "model_name": "HBoxModel",
          "model_module_version": "1.5.0",
          "state": {
            "_dom_classes": [],
            "_model_module": "@jupyter-widgets/controls",
            "_model_module_version": "1.5.0",
            "_model_name": "HBoxModel",
            "_view_count": null,
            "_view_module": "@jupyter-widgets/controls",
            "_view_module_version": "1.5.0",
            "_view_name": "HBoxView",
            "box_style": "",
            "children": [
              "IPY_MODEL_8acbfd5f5d5f452baeda51bc0ec3ae99",
              "IPY_MODEL_c24c81b477fb476f9cb567b11cab207f",
              "IPY_MODEL_576c02c9e1ba4b43a477705c24d38cd7"
            ],
            "layout": "IPY_MODEL_98dc782a2394493faca5b51f07aafb32"
          }
        },
        "8acbfd5f5d5f452baeda51bc0ec3ae99": {
          "model_module": "@jupyter-widgets/controls",
          "model_name": "HTMLModel",
          "model_module_version": "1.5.0",
          "state": {
            "_dom_classes": [],
            "_model_module": "@jupyter-widgets/controls",
            "_model_module_version": "1.5.0",
            "_model_name": "HTMLModel",
            "_view_count": null,
            "_view_module": "@jupyter-widgets/controls",
            "_view_module_version": "1.5.0",
            "_view_name": "HTMLView",
            "description": "",
            "description_tooltip": null,
            "layout": "IPY_MODEL_a3df4a2660824bc9a31f4751f7b038c7",
            "placeholder": "​",
            "style": "IPY_MODEL_29473794ad924eebb17126b29d1f97a4",
            "value": "Downloading: 100%"
          }
        },
        "c24c81b477fb476f9cb567b11cab207f": {
          "model_module": "@jupyter-widgets/controls",
          "model_name": "FloatProgressModel",
          "model_module_version": "1.5.0",
          "state": {
            "_dom_classes": [],
            "_model_module": "@jupyter-widgets/controls",
            "_model_module_version": "1.5.0",
            "_model_name": "FloatProgressModel",
            "_view_count": null,
            "_view_module": "@jupyter-widgets/controls",
            "_view_module_version": "1.5.0",
            "_view_name": "ProgressView",
            "bar_style": "success",
            "description": "",
            "description_tooltip": null,
            "layout": "IPY_MODEL_92478f6991dd45069864149dfcaa6256",
            "max": 231508,
            "min": 0,
            "orientation": "horizontal",
            "style": "IPY_MODEL_6949cb4ee52c471198735f37eeee57a4",
            "value": 231508
          }
        },
        "576c02c9e1ba4b43a477705c24d38cd7": {
          "model_module": "@jupyter-widgets/controls",
          "model_name": "HTMLModel",
          "model_module_version": "1.5.0",
          "state": {
            "_dom_classes": [],
            "_model_module": "@jupyter-widgets/controls",
            "_model_module_version": "1.5.0",
            "_model_name": "HTMLModel",
            "_view_count": null,
            "_view_module": "@jupyter-widgets/controls",
            "_view_module_version": "1.5.0",
            "_view_name": "HTMLView",
            "description": "",
            "description_tooltip": null,
            "layout": "IPY_MODEL_dcd2ed04465d4843baf7ac582986d180",
            "placeholder": "​",
            "style": "IPY_MODEL_4971fb8a43384d7da29078fc1ca9cf12",
            "value": " 226k/226k [00:00&lt;00:00, 171kB/s]"
          }
        },
        "98dc782a2394493faca5b51f07aafb32": {
          "model_module": "@jupyter-widgets/base",
          "model_name": "LayoutModel",
          "model_module_version": "1.2.0",
          "state": {
            "_model_module": "@jupyter-widgets/base",
            "_model_module_version": "1.2.0",
            "_model_name": "LayoutModel",
            "_view_count": null,
            "_view_module": "@jupyter-widgets/base",
            "_view_module_version": "1.2.0",
            "_view_name": "LayoutView",
            "align_content": null,
            "align_items": null,
            "align_self": null,
            "border": null,
            "bottom": null,
            "display": null,
            "flex": null,
            "flex_flow": null,
            "grid_area": null,
            "grid_auto_columns": null,
            "grid_auto_flow": null,
            "grid_auto_rows": null,
            "grid_column": null,
            "grid_gap": null,
            "grid_row": null,
            "grid_template_areas": null,
            "grid_template_columns": null,
            "grid_template_rows": null,
            "height": null,
            "justify_content": null,
            "justify_items": null,
            "left": null,
            "margin": null,
            "max_height": null,
            "max_width": null,
            "min_height": null,
            "min_width": null,
            "object_fit": null,
            "object_position": null,
            "order": null,
            "overflow": null,
            "overflow_x": null,
            "overflow_y": null,
            "padding": null,
            "right": null,
            "top": null,
            "visibility": null,
            "width": null
          }
        },
        "a3df4a2660824bc9a31f4751f7b038c7": {
          "model_module": "@jupyter-widgets/base",
          "model_name": "LayoutModel",
          "model_module_version": "1.2.0",
          "state": {
            "_model_module": "@jupyter-widgets/base",
            "_model_module_version": "1.2.0",
            "_model_name": "LayoutModel",
            "_view_count": null,
            "_view_module": "@jupyter-widgets/base",
            "_view_module_version": "1.2.0",
            "_view_name": "LayoutView",
            "align_content": null,
            "align_items": null,
            "align_self": null,
            "border": null,
            "bottom": null,
            "display": null,
            "flex": null,
            "flex_flow": null,
            "grid_area": null,
            "grid_auto_columns": null,
            "grid_auto_flow": null,
            "grid_auto_rows": null,
            "grid_column": null,
            "grid_gap": null,
            "grid_row": null,
            "grid_template_areas": null,
            "grid_template_columns": null,
            "grid_template_rows": null,
            "height": null,
            "justify_content": null,
            "justify_items": null,
            "left": null,
            "margin": null,
            "max_height": null,
            "max_width": null,
            "min_height": null,
            "min_width": null,
            "object_fit": null,
            "object_position": null,
            "order": null,
            "overflow": null,
            "overflow_x": null,
            "overflow_y": null,
            "padding": null,
            "right": null,
            "top": null,
            "visibility": null,
            "width": null
          }
        },
        "29473794ad924eebb17126b29d1f97a4": {
          "model_module": "@jupyter-widgets/controls",
          "model_name": "DescriptionStyleModel",
          "model_module_version": "1.5.0",
          "state": {
            "_model_module": "@jupyter-widgets/controls",
            "_model_module_version": "1.5.0",
            "_model_name": "DescriptionStyleModel",
            "_view_count": null,
            "_view_module": "@jupyter-widgets/base",
            "_view_module_version": "1.2.0",
            "_view_name": "StyleView",
            "description_width": ""
          }
        },
        "92478f6991dd45069864149dfcaa6256": {
          "model_module": "@jupyter-widgets/base",
          "model_name": "LayoutModel",
          "model_module_version": "1.2.0",
          "state": {
            "_model_module": "@jupyter-widgets/base",
            "_model_module_version": "1.2.0",
            "_model_name": "LayoutModel",
            "_view_count": null,
            "_view_module": "@jupyter-widgets/base",
            "_view_module_version": "1.2.0",
            "_view_name": "LayoutView",
            "align_content": null,
            "align_items": null,
            "align_self": null,
            "border": null,
            "bottom": null,
            "display": null,
            "flex": null,
            "flex_flow": null,
            "grid_area": null,
            "grid_auto_columns": null,
            "grid_auto_flow": null,
            "grid_auto_rows": null,
            "grid_column": null,
            "grid_gap": null,
            "grid_row": null,
            "grid_template_areas": null,
            "grid_template_columns": null,
            "grid_template_rows": null,
            "height": null,
            "justify_content": null,
            "justify_items": null,
            "left": null,
            "margin": null,
            "max_height": null,
            "max_width": null,
            "min_height": null,
            "min_width": null,
            "object_fit": null,
            "object_position": null,
            "order": null,
            "overflow": null,
            "overflow_x": null,
            "overflow_y": null,
            "padding": null,
            "right": null,
            "top": null,
            "visibility": null,
            "width": null
          }
        },
        "6949cb4ee52c471198735f37eeee57a4": {
          "model_module": "@jupyter-widgets/controls",
          "model_name": "ProgressStyleModel",
          "model_module_version": "1.5.0",
          "state": {
            "_model_module": "@jupyter-widgets/controls",
            "_model_module_version": "1.5.0",
            "_model_name": "ProgressStyleModel",
            "_view_count": null,
            "_view_module": "@jupyter-widgets/base",
            "_view_module_version": "1.2.0",
            "_view_name": "StyleView",
            "bar_color": null,
            "description_width": ""
          }
        },
        "dcd2ed04465d4843baf7ac582986d180": {
          "model_module": "@jupyter-widgets/base",
          "model_name": "LayoutModel",
          "model_module_version": "1.2.0",
          "state": {
            "_model_module": "@jupyter-widgets/base",
            "_model_module_version": "1.2.0",
            "_model_name": "LayoutModel",
            "_view_count": null,
            "_view_module": "@jupyter-widgets/base",
            "_view_module_version": "1.2.0",
            "_view_name": "LayoutView",
            "align_content": null,
            "align_items": null,
            "align_self": null,
            "border": null,
            "bottom": null,
            "display": null,
            "flex": null,
            "flex_flow": null,
            "grid_area": null,
            "grid_auto_columns": null,
            "grid_auto_flow": null,
            "grid_auto_rows": null,
            "grid_column": null,
            "grid_gap": null,
            "grid_row": null,
            "grid_template_areas": null,
            "grid_template_columns": null,
            "grid_template_rows": null,
            "height": null,
            "justify_content": null,
            "justify_items": null,
            "left": null,
            "margin": null,
            "max_height": null,
            "max_width": null,
            "min_height": null,
            "min_width": null,
            "object_fit": null,
            "object_position": null,
            "order": null,
            "overflow": null,
            "overflow_x": null,
            "overflow_y": null,
            "padding": null,
            "right": null,
            "top": null,
            "visibility": null,
            "width": null
          }
        },
        "4971fb8a43384d7da29078fc1ca9cf12": {
          "model_module": "@jupyter-widgets/controls",
          "model_name": "DescriptionStyleModel",
          "model_module_version": "1.5.0",
          "state": {
            "_model_module": "@jupyter-widgets/controls",
            "_model_module_version": "1.5.0",
            "_model_name": "DescriptionStyleModel",
            "_view_count": null,
            "_view_module": "@jupyter-widgets/base",
            "_view_module_version": "1.2.0",
            "_view_name": "StyleView",
            "description_width": ""
          }
        },
        "a229af2f42ce4dba9f03b67fd805613e": {
          "model_module": "@jupyter-widgets/controls",
          "model_name": "HBoxModel",
          "model_module_version": "1.5.0",
          "state": {
            "_dom_classes": [],
            "_model_module": "@jupyter-widgets/controls",
            "_model_module_version": "1.5.0",
            "_model_name": "HBoxModel",
            "_view_count": null,
            "_view_module": "@jupyter-widgets/controls",
            "_view_module_version": "1.5.0",
            "_view_name": "HBoxView",
            "box_style": "",
            "children": [
              "IPY_MODEL_f74547c25c024d338f47e5d818d54267",
              "IPY_MODEL_a1589830f21745dfbe38b9d7be20907d",
              "IPY_MODEL_3818e4a63b594f9c96aa9cba5b05af06"
            ],
            "layout": "IPY_MODEL_ddf1b3dfaa2e4bc79b44fc03b7e193f9"
          }
        },
        "f74547c25c024d338f47e5d818d54267": {
          "model_module": "@jupyter-widgets/controls",
          "model_name": "HTMLModel",
          "model_module_version": "1.5.0",
          "state": {
            "_dom_classes": [],
            "_model_module": "@jupyter-widgets/controls",
            "_model_module_version": "1.5.0",
            "_model_name": "HTMLModel",
            "_view_count": null,
            "_view_module": "@jupyter-widgets/controls",
            "_view_module_version": "1.5.0",
            "_view_name": "HTMLView",
            "description": "",
            "description_tooltip": null,
            "layout": "IPY_MODEL_77bca74203cb44ab8015f8d34a5c4f54",
            "placeholder": "​",
            "style": "IPY_MODEL_7b5521efacac483ab4f7c421fba1368c",
            "value": "Downloading: 100%"
          }
        },
        "a1589830f21745dfbe38b9d7be20907d": {
          "model_module": "@jupyter-widgets/controls",
          "model_name": "FloatProgressModel",
          "model_module_version": "1.5.0",
          "state": {
            "_dom_classes": [],
            "_model_module": "@jupyter-widgets/controls",
            "_model_module_version": "1.5.0",
            "_model_name": "FloatProgressModel",
            "_view_count": null,
            "_view_module": "@jupyter-widgets/controls",
            "_view_module_version": "1.5.0",
            "_view_name": "ProgressView",
            "bar_style": "success",
            "description": "",
            "description_tooltip": null,
            "layout": "IPY_MODEL_0e33152542a446e3848e55af84405cee",
            "max": 29,
            "min": 0,
            "orientation": "horizontal",
            "style": "IPY_MODEL_48b9f9eb19c240d8beb6d26a85ec38eb",
            "value": 29
          }
        },
        "3818e4a63b594f9c96aa9cba5b05af06": {
          "model_module": "@jupyter-widgets/controls",
          "model_name": "HTMLModel",
          "model_module_version": "1.5.0",
          "state": {
            "_dom_classes": [],
            "_model_module": "@jupyter-widgets/controls",
            "_model_module_version": "1.5.0",
            "_model_name": "HTMLModel",
            "_view_count": null,
            "_view_module": "@jupyter-widgets/controls",
            "_view_module_version": "1.5.0",
            "_view_name": "HTMLView",
            "description": "",
            "description_tooltip": null,
            "layout": "IPY_MODEL_3fa5dbbc1c034fa38e79ca7631e78083",
            "placeholder": "​",
            "style": "IPY_MODEL_134c7392012e420eb49793ce0a28aebc",
            "value": " 29.0/29.0 [00:00&lt;00:00, 1.11kB/s]"
          }
        },
        "ddf1b3dfaa2e4bc79b44fc03b7e193f9": {
          "model_module": "@jupyter-widgets/base",
          "model_name": "LayoutModel",
          "model_module_version": "1.2.0",
          "state": {
            "_model_module": "@jupyter-widgets/base",
            "_model_module_version": "1.2.0",
            "_model_name": "LayoutModel",
            "_view_count": null,
            "_view_module": "@jupyter-widgets/base",
            "_view_module_version": "1.2.0",
            "_view_name": "LayoutView",
            "align_content": null,
            "align_items": null,
            "align_self": null,
            "border": null,
            "bottom": null,
            "display": null,
            "flex": null,
            "flex_flow": null,
            "grid_area": null,
            "grid_auto_columns": null,
            "grid_auto_flow": null,
            "grid_auto_rows": null,
            "grid_column": null,
            "grid_gap": null,
            "grid_row": null,
            "grid_template_areas": null,
            "grid_template_columns": null,
            "grid_template_rows": null,
            "height": null,
            "justify_content": null,
            "justify_items": null,
            "left": null,
            "margin": null,
            "max_height": null,
            "max_width": null,
            "min_height": null,
            "min_width": null,
            "object_fit": null,
            "object_position": null,
            "order": null,
            "overflow": null,
            "overflow_x": null,
            "overflow_y": null,
            "padding": null,
            "right": null,
            "top": null,
            "visibility": null,
            "width": null
          }
        },
        "77bca74203cb44ab8015f8d34a5c4f54": {
          "model_module": "@jupyter-widgets/base",
          "model_name": "LayoutModel",
          "model_module_version": "1.2.0",
          "state": {
            "_model_module": "@jupyter-widgets/base",
            "_model_module_version": "1.2.0",
            "_model_name": "LayoutModel",
            "_view_count": null,
            "_view_module": "@jupyter-widgets/base",
            "_view_module_version": "1.2.0",
            "_view_name": "LayoutView",
            "align_content": null,
            "align_items": null,
            "align_self": null,
            "border": null,
            "bottom": null,
            "display": null,
            "flex": null,
            "flex_flow": null,
            "grid_area": null,
            "grid_auto_columns": null,
            "grid_auto_flow": null,
            "grid_auto_rows": null,
            "grid_column": null,
            "grid_gap": null,
            "grid_row": null,
            "grid_template_areas": null,
            "grid_template_columns": null,
            "grid_template_rows": null,
            "height": null,
            "justify_content": null,
            "justify_items": null,
            "left": null,
            "margin": null,
            "max_height": null,
            "max_width": null,
            "min_height": null,
            "min_width": null,
            "object_fit": null,
            "object_position": null,
            "order": null,
            "overflow": null,
            "overflow_x": null,
            "overflow_y": null,
            "padding": null,
            "right": null,
            "top": null,
            "visibility": null,
            "width": null
          }
        },
        "7b5521efacac483ab4f7c421fba1368c": {
          "model_module": "@jupyter-widgets/controls",
          "model_name": "DescriptionStyleModel",
          "model_module_version": "1.5.0",
          "state": {
            "_model_module": "@jupyter-widgets/controls",
            "_model_module_version": "1.5.0",
            "_model_name": "DescriptionStyleModel",
            "_view_count": null,
            "_view_module": "@jupyter-widgets/base",
            "_view_module_version": "1.2.0",
            "_view_name": "StyleView",
            "description_width": ""
          }
        },
        "0e33152542a446e3848e55af84405cee": {
          "model_module": "@jupyter-widgets/base",
          "model_name": "LayoutModel",
          "model_module_version": "1.2.0",
          "state": {
            "_model_module": "@jupyter-widgets/base",
            "_model_module_version": "1.2.0",
            "_model_name": "LayoutModel",
            "_view_count": null,
            "_view_module": "@jupyter-widgets/base",
            "_view_module_version": "1.2.0",
            "_view_name": "LayoutView",
            "align_content": null,
            "align_items": null,
            "align_self": null,
            "border": null,
            "bottom": null,
            "display": null,
            "flex": null,
            "flex_flow": null,
            "grid_area": null,
            "grid_auto_columns": null,
            "grid_auto_flow": null,
            "grid_auto_rows": null,
            "grid_column": null,
            "grid_gap": null,
            "grid_row": null,
            "grid_template_areas": null,
            "grid_template_columns": null,
            "grid_template_rows": null,
            "height": null,
            "justify_content": null,
            "justify_items": null,
            "left": null,
            "margin": null,
            "max_height": null,
            "max_width": null,
            "min_height": null,
            "min_width": null,
            "object_fit": null,
            "object_position": null,
            "order": null,
            "overflow": null,
            "overflow_x": null,
            "overflow_y": null,
            "padding": null,
            "right": null,
            "top": null,
            "visibility": null,
            "width": null
          }
        },
        "48b9f9eb19c240d8beb6d26a85ec38eb": {
          "model_module": "@jupyter-widgets/controls",
          "model_name": "ProgressStyleModel",
          "model_module_version": "1.5.0",
          "state": {
            "_model_module": "@jupyter-widgets/controls",
            "_model_module_version": "1.5.0",
            "_model_name": "ProgressStyleModel",
            "_view_count": null,
            "_view_module": "@jupyter-widgets/base",
            "_view_module_version": "1.2.0",
            "_view_name": "StyleView",
            "bar_color": null,
            "description_width": ""
          }
        },
        "3fa5dbbc1c034fa38e79ca7631e78083": {
          "model_module": "@jupyter-widgets/base",
          "model_name": "LayoutModel",
          "model_module_version": "1.2.0",
          "state": {
            "_model_module": "@jupyter-widgets/base",
            "_model_module_version": "1.2.0",
            "_model_name": "LayoutModel",
            "_view_count": null,
            "_view_module": "@jupyter-widgets/base",
            "_view_module_version": "1.2.0",
            "_view_name": "LayoutView",
            "align_content": null,
            "align_items": null,
            "align_self": null,
            "border": null,
            "bottom": null,
            "display": null,
            "flex": null,
            "flex_flow": null,
            "grid_area": null,
            "grid_auto_columns": null,
            "grid_auto_flow": null,
            "grid_auto_rows": null,
            "grid_column": null,
            "grid_gap": null,
            "grid_row": null,
            "grid_template_areas": null,
            "grid_template_columns": null,
            "grid_template_rows": null,
            "height": null,
            "justify_content": null,
            "justify_items": null,
            "left": null,
            "margin": null,
            "max_height": null,
            "max_width": null,
            "min_height": null,
            "min_width": null,
            "object_fit": null,
            "object_position": null,
            "order": null,
            "overflow": null,
            "overflow_x": null,
            "overflow_y": null,
            "padding": null,
            "right": null,
            "top": null,
            "visibility": null,
            "width": null
          }
        },
        "134c7392012e420eb49793ce0a28aebc": {
          "model_module": "@jupyter-widgets/controls",
          "model_name": "DescriptionStyleModel",
          "model_module_version": "1.5.0",
          "state": {
            "_model_module": "@jupyter-widgets/controls",
            "_model_module_version": "1.5.0",
            "_model_name": "DescriptionStyleModel",
            "_view_count": null,
            "_view_module": "@jupyter-widgets/base",
            "_view_module_version": "1.2.0",
            "_view_name": "StyleView",
            "description_width": ""
          }
        },
        "4c4278cdb3444ea4be486ba1a7ea6a10": {
          "model_module": "@jupyter-widgets/controls",
          "model_name": "HBoxModel",
          "model_module_version": "1.5.0",
          "state": {
            "_dom_classes": [],
            "_model_module": "@jupyter-widgets/controls",
            "_model_module_version": "1.5.0",
            "_model_name": "HBoxModel",
            "_view_count": null,
            "_view_module": "@jupyter-widgets/controls",
            "_view_module_version": "1.5.0",
            "_view_name": "HBoxView",
            "box_style": "",
            "children": [
              "IPY_MODEL_06c9e1a2119242fc8b3be0186ebc72a3",
              "IPY_MODEL_bdd6848b29ff48e7aae9e479100d0655",
              "IPY_MODEL_f6e04b393cd54075ad9f42bbb08f2de6"
            ],
            "layout": "IPY_MODEL_38b605960fc24569a090678b9601501c"
          }
        },
        "06c9e1a2119242fc8b3be0186ebc72a3": {
          "model_module": "@jupyter-widgets/controls",
          "model_name": "HTMLModel",
          "model_module_version": "1.5.0",
          "state": {
            "_dom_classes": [],
            "_model_module": "@jupyter-widgets/controls",
            "_model_module_version": "1.5.0",
            "_model_name": "HTMLModel",
            "_view_count": null,
            "_view_module": "@jupyter-widgets/controls",
            "_view_module_version": "1.5.0",
            "_view_name": "HTMLView",
            "description": "",
            "description_tooltip": null,
            "layout": "IPY_MODEL_0efc587efd7c4ae3afb4a9afb4b9d348",
            "placeholder": "​",
            "style": "IPY_MODEL_6af993e38de04bde82f6bdda5ed9ed11",
            "value": "Downloading: 100%"
          }
        },
        "bdd6848b29ff48e7aae9e479100d0655": {
          "model_module": "@jupyter-widgets/controls",
          "model_name": "FloatProgressModel",
          "model_module_version": "1.5.0",
          "state": {
            "_dom_classes": [],
            "_model_module": "@jupyter-widgets/controls",
            "_model_module_version": "1.5.0",
            "_model_name": "FloatProgressModel",
            "_view_count": null,
            "_view_module": "@jupyter-widgets/controls",
            "_view_module_version": "1.5.0",
            "_view_name": "ProgressView",
            "bar_style": "success",
            "description": "",
            "description_tooltip": null,
            "layout": "IPY_MODEL_835f4cc75b23465aa3d41af6233ee712",
            "max": 483,
            "min": 0,
            "orientation": "horizontal",
            "style": "IPY_MODEL_0d4ed884fefa482fb95eb14665275fe4",
            "value": 483
          }
        },
        "f6e04b393cd54075ad9f42bbb08f2de6": {
          "model_module": "@jupyter-widgets/controls",
          "model_name": "HTMLModel",
          "model_module_version": "1.5.0",
          "state": {
            "_dom_classes": [],
            "_model_module": "@jupyter-widgets/controls",
            "_model_module_version": "1.5.0",
            "_model_name": "HTMLModel",
            "_view_count": null,
            "_view_module": "@jupyter-widgets/controls",
            "_view_module_version": "1.5.0",
            "_view_name": "HTMLView",
            "description": "",
            "description_tooltip": null,
            "layout": "IPY_MODEL_6c3d523c593c43048a46aabf98429a7c",
            "placeholder": "​",
            "style": "IPY_MODEL_5929dae5d6bb4f5c981ff6e6d7d983ed",
            "value": " 483/483 [00:00&lt;00:00, 18.3kB/s]"
          }
        },
        "38b605960fc24569a090678b9601501c": {
          "model_module": "@jupyter-widgets/base",
          "model_name": "LayoutModel",
          "model_module_version": "1.2.0",
          "state": {
            "_model_module": "@jupyter-widgets/base",
            "_model_module_version": "1.2.0",
            "_model_name": "LayoutModel",
            "_view_count": null,
            "_view_module": "@jupyter-widgets/base",
            "_view_module_version": "1.2.0",
            "_view_name": "LayoutView",
            "align_content": null,
            "align_items": null,
            "align_self": null,
            "border": null,
            "bottom": null,
            "display": null,
            "flex": null,
            "flex_flow": null,
            "grid_area": null,
            "grid_auto_columns": null,
            "grid_auto_flow": null,
            "grid_auto_rows": null,
            "grid_column": null,
            "grid_gap": null,
            "grid_row": null,
            "grid_template_areas": null,
            "grid_template_columns": null,
            "grid_template_rows": null,
            "height": null,
            "justify_content": null,
            "justify_items": null,
            "left": null,
            "margin": null,
            "max_height": null,
            "max_width": null,
            "min_height": null,
            "min_width": null,
            "object_fit": null,
            "object_position": null,
            "order": null,
            "overflow": null,
            "overflow_x": null,
            "overflow_y": null,
            "padding": null,
            "right": null,
            "top": null,
            "visibility": null,
            "width": null
          }
        },
        "0efc587efd7c4ae3afb4a9afb4b9d348": {
          "model_module": "@jupyter-widgets/base",
          "model_name": "LayoutModel",
          "model_module_version": "1.2.0",
          "state": {
            "_model_module": "@jupyter-widgets/base",
            "_model_module_version": "1.2.0",
            "_model_name": "LayoutModel",
            "_view_count": null,
            "_view_module": "@jupyter-widgets/base",
            "_view_module_version": "1.2.0",
            "_view_name": "LayoutView",
            "align_content": null,
            "align_items": null,
            "align_self": null,
            "border": null,
            "bottom": null,
            "display": null,
            "flex": null,
            "flex_flow": null,
            "grid_area": null,
            "grid_auto_columns": null,
            "grid_auto_flow": null,
            "grid_auto_rows": null,
            "grid_column": null,
            "grid_gap": null,
            "grid_row": null,
            "grid_template_areas": null,
            "grid_template_columns": null,
            "grid_template_rows": null,
            "height": null,
            "justify_content": null,
            "justify_items": null,
            "left": null,
            "margin": null,
            "max_height": null,
            "max_width": null,
            "min_height": null,
            "min_width": null,
            "object_fit": null,
            "object_position": null,
            "order": null,
            "overflow": null,
            "overflow_x": null,
            "overflow_y": null,
            "padding": null,
            "right": null,
            "top": null,
            "visibility": null,
            "width": null
          }
        },
        "6af993e38de04bde82f6bdda5ed9ed11": {
          "model_module": "@jupyter-widgets/controls",
          "model_name": "DescriptionStyleModel",
          "model_module_version": "1.5.0",
          "state": {
            "_model_module": "@jupyter-widgets/controls",
            "_model_module_version": "1.5.0",
            "_model_name": "DescriptionStyleModel",
            "_view_count": null,
            "_view_module": "@jupyter-widgets/base",
            "_view_module_version": "1.2.0",
            "_view_name": "StyleView",
            "description_width": ""
          }
        },
        "835f4cc75b23465aa3d41af6233ee712": {
          "model_module": "@jupyter-widgets/base",
          "model_name": "LayoutModel",
          "model_module_version": "1.2.0",
          "state": {
            "_model_module": "@jupyter-widgets/base",
            "_model_module_version": "1.2.0",
            "_model_name": "LayoutModel",
            "_view_count": null,
            "_view_module": "@jupyter-widgets/base",
            "_view_module_version": "1.2.0",
            "_view_name": "LayoutView",
            "align_content": null,
            "align_items": null,
            "align_self": null,
            "border": null,
            "bottom": null,
            "display": null,
            "flex": null,
            "flex_flow": null,
            "grid_area": null,
            "grid_auto_columns": null,
            "grid_auto_flow": null,
            "grid_auto_rows": null,
            "grid_column": null,
            "grid_gap": null,
            "grid_row": null,
            "grid_template_areas": null,
            "grid_template_columns": null,
            "grid_template_rows": null,
            "height": null,
            "justify_content": null,
            "justify_items": null,
            "left": null,
            "margin": null,
            "max_height": null,
            "max_width": null,
            "min_height": null,
            "min_width": null,
            "object_fit": null,
            "object_position": null,
            "order": null,
            "overflow": null,
            "overflow_x": null,
            "overflow_y": null,
            "padding": null,
            "right": null,
            "top": null,
            "visibility": null,
            "width": null
          }
        },
        "0d4ed884fefa482fb95eb14665275fe4": {
          "model_module": "@jupyter-widgets/controls",
          "model_name": "ProgressStyleModel",
          "model_module_version": "1.5.0",
          "state": {
            "_model_module": "@jupyter-widgets/controls",
            "_model_module_version": "1.5.0",
            "_model_name": "ProgressStyleModel",
            "_view_count": null,
            "_view_module": "@jupyter-widgets/base",
            "_view_module_version": "1.2.0",
            "_view_name": "StyleView",
            "bar_color": null,
            "description_width": ""
          }
        },
        "6c3d523c593c43048a46aabf98429a7c": {
          "model_module": "@jupyter-widgets/base",
          "model_name": "LayoutModel",
          "model_module_version": "1.2.0",
          "state": {
            "_model_module": "@jupyter-widgets/base",
            "_model_module_version": "1.2.0",
            "_model_name": "LayoutModel",
            "_view_count": null,
            "_view_module": "@jupyter-widgets/base",
            "_view_module_version": "1.2.0",
            "_view_name": "LayoutView",
            "align_content": null,
            "align_items": null,
            "align_self": null,
            "border": null,
            "bottom": null,
            "display": null,
            "flex": null,
            "flex_flow": null,
            "grid_area": null,
            "grid_auto_columns": null,
            "grid_auto_flow": null,
            "grid_auto_rows": null,
            "grid_column": null,
            "grid_gap": null,
            "grid_row": null,
            "grid_template_areas": null,
            "grid_template_columns": null,
            "grid_template_rows": null,
            "height": null,
            "justify_content": null,
            "justify_items": null,
            "left": null,
            "margin": null,
            "max_height": null,
            "max_width": null,
            "min_height": null,
            "min_width": null,
            "object_fit": null,
            "object_position": null,
            "order": null,
            "overflow": null,
            "overflow_x": null,
            "overflow_y": null,
            "padding": null,
            "right": null,
            "top": null,
            "visibility": null,
            "width": null
          }
        },
        "5929dae5d6bb4f5c981ff6e6d7d983ed": {
          "model_module": "@jupyter-widgets/controls",
          "model_name": "DescriptionStyleModel",
          "model_module_version": "1.5.0",
          "state": {
            "_model_module": "@jupyter-widgets/controls",
            "_model_module_version": "1.5.0",
            "_model_name": "DescriptionStyleModel",
            "_view_count": null,
            "_view_module": "@jupyter-widgets/base",
            "_view_module_version": "1.2.0",
            "_view_name": "StyleView",
            "description_width": ""
          }
        },
        "bd3f37e4473e407fbff4f1348ee7b5b0": {
          "model_module": "@jupyter-widgets/controls",
          "model_name": "HBoxModel",
          "model_module_version": "1.5.0",
          "state": {
            "_dom_classes": [],
            "_model_module": "@jupyter-widgets/controls",
            "_model_module_version": "1.5.0",
            "_model_name": "HBoxModel",
            "_view_count": null,
            "_view_module": "@jupyter-widgets/controls",
            "_view_module_version": "1.5.0",
            "_view_name": "HBoxView",
            "box_style": "",
            "children": [
              "IPY_MODEL_e973873ebaa8424aae6c92f654f2fd4d",
              "IPY_MODEL_8b290389dac64b77ad622f5a04bd3500",
              "IPY_MODEL_ed54b6afc2254474b60dfed8046912ad"
            ],
            "layout": "IPY_MODEL_74ce59cf66154f3495ae70e7d726b67c"
          }
        },
        "e973873ebaa8424aae6c92f654f2fd4d": {
          "model_module": "@jupyter-widgets/controls",
          "model_name": "HTMLModel",
          "model_module_version": "1.5.0",
          "state": {
            "_dom_classes": [],
            "_model_module": "@jupyter-widgets/controls",
            "_model_module_version": "1.5.0",
            "_model_name": "HTMLModel",
            "_view_count": null,
            "_view_module": "@jupyter-widgets/controls",
            "_view_module_version": "1.5.0",
            "_view_name": "HTMLView",
            "description": "",
            "description_tooltip": null,
            "layout": "IPY_MODEL_a303d5a42ce7406b90a0f7608fc44225",
            "placeholder": "​",
            "style": "IPY_MODEL_6d08989ed395461d998336f170cfca30",
            "value": "Downloading: 100%"
          }
        },
        "8b290389dac64b77ad622f5a04bd3500": {
          "model_module": "@jupyter-widgets/controls",
          "model_name": "FloatProgressModel",
          "model_module_version": "1.5.0",
          "state": {
            "_dom_classes": [],
            "_model_module": "@jupyter-widgets/controls",
            "_model_module_version": "1.5.0",
            "_model_name": "FloatProgressModel",
            "_view_count": null,
            "_view_module": "@jupyter-widgets/controls",
            "_view_module_version": "1.5.0",
            "_view_name": "ProgressView",
            "bar_style": "success",
            "description": "",
            "description_tooltip": null,
            "layout": "IPY_MODEL_4709f3fb09684589ac3aa3cbb99a4b20",
            "max": 267967963,
            "min": 0,
            "orientation": "horizontal",
            "style": "IPY_MODEL_e9d02e04dc64473a93ebd225067051b2",
            "value": 267967963
          }
        },
        "ed54b6afc2254474b60dfed8046912ad": {
          "model_module": "@jupyter-widgets/controls",
          "model_name": "HTMLModel",
          "model_module_version": "1.5.0",
          "state": {
            "_dom_classes": [],
            "_model_module": "@jupyter-widgets/controls",
            "_model_module_version": "1.5.0",
            "_model_name": "HTMLModel",
            "_view_count": null,
            "_view_module": "@jupyter-widgets/controls",
            "_view_module_version": "1.5.0",
            "_view_name": "HTMLView",
            "description": "",
            "description_tooltip": null,
            "layout": "IPY_MODEL_a95319cd78d3485d8ec10fdfe8225f1b",
            "placeholder": "​",
            "style": "IPY_MODEL_a0b549f0f90741ffb554d63fdefba744",
            "value": " 256M/256M [00:04&lt;00:00, 63.8MB/s]"
          }
        },
        "74ce59cf66154f3495ae70e7d726b67c": {
          "model_module": "@jupyter-widgets/base",
          "model_name": "LayoutModel",
          "model_module_version": "1.2.0",
          "state": {
            "_model_module": "@jupyter-widgets/base",
            "_model_module_version": "1.2.0",
            "_model_name": "LayoutModel",
            "_view_count": null,
            "_view_module": "@jupyter-widgets/base",
            "_view_module_version": "1.2.0",
            "_view_name": "LayoutView",
            "align_content": null,
            "align_items": null,
            "align_self": null,
            "border": null,
            "bottom": null,
            "display": null,
            "flex": null,
            "flex_flow": null,
            "grid_area": null,
            "grid_auto_columns": null,
            "grid_auto_flow": null,
            "grid_auto_rows": null,
            "grid_column": null,
            "grid_gap": null,
            "grid_row": null,
            "grid_template_areas": null,
            "grid_template_columns": null,
            "grid_template_rows": null,
            "height": null,
            "justify_content": null,
            "justify_items": null,
            "left": null,
            "margin": null,
            "max_height": null,
            "max_width": null,
            "min_height": null,
            "min_width": null,
            "object_fit": null,
            "object_position": null,
            "order": null,
            "overflow": null,
            "overflow_x": null,
            "overflow_y": null,
            "padding": null,
            "right": null,
            "top": null,
            "visibility": null,
            "width": null
          }
        },
        "a303d5a42ce7406b90a0f7608fc44225": {
          "model_module": "@jupyter-widgets/base",
          "model_name": "LayoutModel",
          "model_module_version": "1.2.0",
          "state": {
            "_model_module": "@jupyter-widgets/base",
            "_model_module_version": "1.2.0",
            "_model_name": "LayoutModel",
            "_view_count": null,
            "_view_module": "@jupyter-widgets/base",
            "_view_module_version": "1.2.0",
            "_view_name": "LayoutView",
            "align_content": null,
            "align_items": null,
            "align_self": null,
            "border": null,
            "bottom": null,
            "display": null,
            "flex": null,
            "flex_flow": null,
            "grid_area": null,
            "grid_auto_columns": null,
            "grid_auto_flow": null,
            "grid_auto_rows": null,
            "grid_column": null,
            "grid_gap": null,
            "grid_row": null,
            "grid_template_areas": null,
            "grid_template_columns": null,
            "grid_template_rows": null,
            "height": null,
            "justify_content": null,
            "justify_items": null,
            "left": null,
            "margin": null,
            "max_height": null,
            "max_width": null,
            "min_height": null,
            "min_width": null,
            "object_fit": null,
            "object_position": null,
            "order": null,
            "overflow": null,
            "overflow_x": null,
            "overflow_y": null,
            "padding": null,
            "right": null,
            "top": null,
            "visibility": null,
            "width": null
          }
        },
        "6d08989ed395461d998336f170cfca30": {
          "model_module": "@jupyter-widgets/controls",
          "model_name": "DescriptionStyleModel",
          "model_module_version": "1.5.0",
          "state": {
            "_model_module": "@jupyter-widgets/controls",
            "_model_module_version": "1.5.0",
            "_model_name": "DescriptionStyleModel",
            "_view_count": null,
            "_view_module": "@jupyter-widgets/base",
            "_view_module_version": "1.2.0",
            "_view_name": "StyleView",
            "description_width": ""
          }
        },
        "4709f3fb09684589ac3aa3cbb99a4b20": {
          "model_module": "@jupyter-widgets/base",
          "model_name": "LayoutModel",
          "model_module_version": "1.2.0",
          "state": {
            "_model_module": "@jupyter-widgets/base",
            "_model_module_version": "1.2.0",
            "_model_name": "LayoutModel",
            "_view_count": null,
            "_view_module": "@jupyter-widgets/base",
            "_view_module_version": "1.2.0",
            "_view_name": "LayoutView",
            "align_content": null,
            "align_items": null,
            "align_self": null,
            "border": null,
            "bottom": null,
            "display": null,
            "flex": null,
            "flex_flow": null,
            "grid_area": null,
            "grid_auto_columns": null,
            "grid_auto_flow": null,
            "grid_auto_rows": null,
            "grid_column": null,
            "grid_gap": null,
            "grid_row": null,
            "grid_template_areas": null,
            "grid_template_columns": null,
            "grid_template_rows": null,
            "height": null,
            "justify_content": null,
            "justify_items": null,
            "left": null,
            "margin": null,
            "max_height": null,
            "max_width": null,
            "min_height": null,
            "min_width": null,
            "object_fit": null,
            "object_position": null,
            "order": null,
            "overflow": null,
            "overflow_x": null,
            "overflow_y": null,
            "padding": null,
            "right": null,
            "top": null,
            "visibility": null,
            "width": null
          }
        },
        "e9d02e04dc64473a93ebd225067051b2": {
          "model_module": "@jupyter-widgets/controls",
          "model_name": "ProgressStyleModel",
          "model_module_version": "1.5.0",
          "state": {
            "_model_module": "@jupyter-widgets/controls",
            "_model_module_version": "1.5.0",
            "_model_name": "ProgressStyleModel",
            "_view_count": null,
            "_view_module": "@jupyter-widgets/base",
            "_view_module_version": "1.2.0",
            "_view_name": "StyleView",
            "bar_color": null,
            "description_width": ""
          }
        },
        "a95319cd78d3485d8ec10fdfe8225f1b": {
          "model_module": "@jupyter-widgets/base",
          "model_name": "LayoutModel",
          "model_module_version": "1.2.0",
          "state": {
            "_model_module": "@jupyter-widgets/base",
            "_model_module_version": "1.2.0",
            "_model_name": "LayoutModel",
            "_view_count": null,
            "_view_module": "@jupyter-widgets/base",
            "_view_module_version": "1.2.0",
            "_view_name": "LayoutView",
            "align_content": null,
            "align_items": null,
            "align_self": null,
            "border": null,
            "bottom": null,
            "display": null,
            "flex": null,
            "flex_flow": null,
            "grid_area": null,
            "grid_auto_columns": null,
            "grid_auto_flow": null,
            "grid_auto_rows": null,
            "grid_column": null,
            "grid_gap": null,
            "grid_row": null,
            "grid_template_areas": null,
            "grid_template_columns": null,
            "grid_template_rows": null,
            "height": null,
            "justify_content": null,
            "justify_items": null,
            "left": null,
            "margin": null,
            "max_height": null,
            "max_width": null,
            "min_height": null,
            "min_width": null,
            "object_fit": null,
            "object_position": null,
            "order": null,
            "overflow": null,
            "overflow_x": null,
            "overflow_y": null,
            "padding": null,
            "right": null,
            "top": null,
            "visibility": null,
            "width": null
          }
        },
        "a0b549f0f90741ffb554d63fdefba744": {
          "model_module": "@jupyter-widgets/controls",
          "model_name": "DescriptionStyleModel",
          "model_module_version": "1.5.0",
          "state": {
            "_model_module": "@jupyter-widgets/controls",
            "_model_module_version": "1.5.0",
            "_model_name": "DescriptionStyleModel",
            "_view_count": null,
            "_view_module": "@jupyter-widgets/base",
            "_view_module_version": "1.2.0",
            "_view_name": "StyleView",
            "description_width": ""
          }
        },
        "6ff2b0bcb1344783963ff9bbed434822": {
          "model_module": "@jupyter-widgets/controls",
          "model_name": "HBoxModel",
          "model_module_version": "1.5.0",
          "state": {
            "_dom_classes": [],
            "_model_module": "@jupyter-widgets/controls",
            "_model_module_version": "1.5.0",
            "_model_name": "HBoxModel",
            "_view_count": null,
            "_view_module": "@jupyter-widgets/controls",
            "_view_module_version": "1.5.0",
            "_view_name": "HBoxView",
            "box_style": "",
            "children": [
              "IPY_MODEL_95da2742109d4338b8d36b14664f6564",
              "IPY_MODEL_2ffe09e7b1ed457d960f87612eee3a57",
              "IPY_MODEL_299fe2da6de84f968fed864444735217"
            ],
            "layout": "IPY_MODEL_1eb9f0dc318e45cbaf6e2935e0fd1913"
          }
        },
        "95da2742109d4338b8d36b14664f6564": {
          "model_module": "@jupyter-widgets/controls",
          "model_name": "HTMLModel",
          "model_module_version": "1.5.0",
          "state": {
            "_dom_classes": [],
            "_model_module": "@jupyter-widgets/controls",
            "_model_module_version": "1.5.0",
            "_model_name": "HTMLModel",
            "_view_count": null,
            "_view_module": "@jupyter-widgets/controls",
            "_view_module_version": "1.5.0",
            "_view_name": "HTMLView",
            "description": "",
            "description_tooltip": null,
            "layout": "IPY_MODEL_28936b60a55841fb8d9724ce3750f1f0",
            "placeholder": "​",
            "style": "IPY_MODEL_f47a6d407ccf4ee4ac5f171a750bedd6",
            "value": "Downloading: 100%"
          }
        },
        "2ffe09e7b1ed457d960f87612eee3a57": {
          "model_module": "@jupyter-widgets/controls",
          "model_name": "FloatProgressModel",
          "model_module_version": "1.5.0",
          "state": {
            "_dom_classes": [],
            "_model_module": "@jupyter-widgets/controls",
            "_model_module_version": "1.5.0",
            "_model_name": "FloatProgressModel",
            "_view_count": null,
            "_view_module": "@jupyter-widgets/controls",
            "_view_module_version": "1.5.0",
            "_view_name": "ProgressView",
            "bar_style": "success",
            "description": "",
            "description_tooltip": null,
            "layout": "IPY_MODEL_2a65e725217247ac83aaf023aee536d7",
            "max": 641,
            "min": 0,
            "orientation": "horizontal",
            "style": "IPY_MODEL_04478f7e0bb54b55bcf94494a8942be9",
            "value": 641
          }
        },
        "299fe2da6de84f968fed864444735217": {
          "model_module": "@jupyter-widgets/controls",
          "model_name": "HTMLModel",
          "model_module_version": "1.5.0",
          "state": {
            "_dom_classes": [],
            "_model_module": "@jupyter-widgets/controls",
            "_model_module_version": "1.5.0",
            "_model_name": "HTMLModel",
            "_view_count": null,
            "_view_module": "@jupyter-widgets/controls",
            "_view_module_version": "1.5.0",
            "_view_name": "HTMLView",
            "description": "",
            "description_tooltip": null,
            "layout": "IPY_MODEL_23089595fc144bda9a6f26e408e7718b",
            "placeholder": "​",
            "style": "IPY_MODEL_18fb7e331599412597b0ec9e353eb8e3",
            "value": " 641/641 [00:00&lt;00:00, 27.3kB/s]"
          }
        },
        "1eb9f0dc318e45cbaf6e2935e0fd1913": {
          "model_module": "@jupyter-widgets/base",
          "model_name": "LayoutModel",
          "model_module_version": "1.2.0",
          "state": {
            "_model_module": "@jupyter-widgets/base",
            "_model_module_version": "1.2.0",
            "_model_name": "LayoutModel",
            "_view_count": null,
            "_view_module": "@jupyter-widgets/base",
            "_view_module_version": "1.2.0",
            "_view_name": "LayoutView",
            "align_content": null,
            "align_items": null,
            "align_self": null,
            "border": null,
            "bottom": null,
            "display": null,
            "flex": null,
            "flex_flow": null,
            "grid_area": null,
            "grid_auto_columns": null,
            "grid_auto_flow": null,
            "grid_auto_rows": null,
            "grid_column": null,
            "grid_gap": null,
            "grid_row": null,
            "grid_template_areas": null,
            "grid_template_columns": null,
            "grid_template_rows": null,
            "height": null,
            "justify_content": null,
            "justify_items": null,
            "left": null,
            "margin": null,
            "max_height": null,
            "max_width": null,
            "min_height": null,
            "min_width": null,
            "object_fit": null,
            "object_position": null,
            "order": null,
            "overflow": null,
            "overflow_x": null,
            "overflow_y": null,
            "padding": null,
            "right": null,
            "top": null,
            "visibility": null,
            "width": null
          }
        },
        "28936b60a55841fb8d9724ce3750f1f0": {
          "model_module": "@jupyter-widgets/base",
          "model_name": "LayoutModel",
          "model_module_version": "1.2.0",
          "state": {
            "_model_module": "@jupyter-widgets/base",
            "_model_module_version": "1.2.0",
            "_model_name": "LayoutModel",
            "_view_count": null,
            "_view_module": "@jupyter-widgets/base",
            "_view_module_version": "1.2.0",
            "_view_name": "LayoutView",
            "align_content": null,
            "align_items": null,
            "align_self": null,
            "border": null,
            "bottom": null,
            "display": null,
            "flex": null,
            "flex_flow": null,
            "grid_area": null,
            "grid_auto_columns": null,
            "grid_auto_flow": null,
            "grid_auto_rows": null,
            "grid_column": null,
            "grid_gap": null,
            "grid_row": null,
            "grid_template_areas": null,
            "grid_template_columns": null,
            "grid_template_rows": null,
            "height": null,
            "justify_content": null,
            "justify_items": null,
            "left": null,
            "margin": null,
            "max_height": null,
            "max_width": null,
            "min_height": null,
            "min_width": null,
            "object_fit": null,
            "object_position": null,
            "order": null,
            "overflow": null,
            "overflow_x": null,
            "overflow_y": null,
            "padding": null,
            "right": null,
            "top": null,
            "visibility": null,
            "width": null
          }
        },
        "f47a6d407ccf4ee4ac5f171a750bedd6": {
          "model_module": "@jupyter-widgets/controls",
          "model_name": "DescriptionStyleModel",
          "model_module_version": "1.5.0",
          "state": {
            "_model_module": "@jupyter-widgets/controls",
            "_model_module_version": "1.5.0",
            "_model_name": "DescriptionStyleModel",
            "_view_count": null,
            "_view_module": "@jupyter-widgets/base",
            "_view_module_version": "1.2.0",
            "_view_name": "StyleView",
            "description_width": ""
          }
        },
        "2a65e725217247ac83aaf023aee536d7": {
          "model_module": "@jupyter-widgets/base",
          "model_name": "LayoutModel",
          "model_module_version": "1.2.0",
          "state": {
            "_model_module": "@jupyter-widgets/base",
            "_model_module_version": "1.2.0",
            "_model_name": "LayoutModel",
            "_view_count": null,
            "_view_module": "@jupyter-widgets/base",
            "_view_module_version": "1.2.0",
            "_view_name": "LayoutView",
            "align_content": null,
            "align_items": null,
            "align_self": null,
            "border": null,
            "bottom": null,
            "display": null,
            "flex": null,
            "flex_flow": null,
            "grid_area": null,
            "grid_auto_columns": null,
            "grid_auto_flow": null,
            "grid_auto_rows": null,
            "grid_column": null,
            "grid_gap": null,
            "grid_row": null,
            "grid_template_areas": null,
            "grid_template_columns": null,
            "grid_template_rows": null,
            "height": null,
            "justify_content": null,
            "justify_items": null,
            "left": null,
            "margin": null,
            "max_height": null,
            "max_width": null,
            "min_height": null,
            "min_width": null,
            "object_fit": null,
            "object_position": null,
            "order": null,
            "overflow": null,
            "overflow_x": null,
            "overflow_y": null,
            "padding": null,
            "right": null,
            "top": null,
            "visibility": null,
            "width": null
          }
        },
        "04478f7e0bb54b55bcf94494a8942be9": {
          "model_module": "@jupyter-widgets/controls",
          "model_name": "ProgressStyleModel",
          "model_module_version": "1.5.0",
          "state": {
            "_model_module": "@jupyter-widgets/controls",
            "_model_module_version": "1.5.0",
            "_model_name": "ProgressStyleModel",
            "_view_count": null,
            "_view_module": "@jupyter-widgets/base",
            "_view_module_version": "1.2.0",
            "_view_name": "StyleView",
            "bar_color": null,
            "description_width": ""
          }
        },
        "23089595fc144bda9a6f26e408e7718b": {
          "model_module": "@jupyter-widgets/base",
          "model_name": "LayoutModel",
          "model_module_version": "1.2.0",
          "state": {
            "_model_module": "@jupyter-widgets/base",
            "_model_module_version": "1.2.0",
            "_model_name": "LayoutModel",
            "_view_count": null,
            "_view_module": "@jupyter-widgets/base",
            "_view_module_version": "1.2.0",
            "_view_name": "LayoutView",
            "align_content": null,
            "align_items": null,
            "align_self": null,
            "border": null,
            "bottom": null,
            "display": null,
            "flex": null,
            "flex_flow": null,
            "grid_area": null,
            "grid_auto_columns": null,
            "grid_auto_flow": null,
            "grid_auto_rows": null,
            "grid_column": null,
            "grid_gap": null,
            "grid_row": null,
            "grid_template_areas": null,
            "grid_template_columns": null,
            "grid_template_rows": null,
            "height": null,
            "justify_content": null,
            "justify_items": null,
            "left": null,
            "margin": null,
            "max_height": null,
            "max_width": null,
            "min_height": null,
            "min_width": null,
            "object_fit": null,
            "object_position": null,
            "order": null,
            "overflow": null,
            "overflow_x": null,
            "overflow_y": null,
            "padding": null,
            "right": null,
            "top": null,
            "visibility": null,
            "width": null
          }
        },
        "18fb7e331599412597b0ec9e353eb8e3": {
          "model_module": "@jupyter-widgets/controls",
          "model_name": "DescriptionStyleModel",
          "model_module_version": "1.5.0",
          "state": {
            "_model_module": "@jupyter-widgets/controls",
            "_model_module_version": "1.5.0",
            "_model_name": "DescriptionStyleModel",
            "_view_count": null,
            "_view_module": "@jupyter-widgets/base",
            "_view_module_version": "1.2.0",
            "_view_name": "StyleView",
            "description_width": ""
          }
        },
        "22b992a010ed41aab8ab52377ef64f62": {
          "model_module": "@jupyter-widgets/controls",
          "model_name": "HBoxModel",
          "model_module_version": "1.5.0",
          "state": {
            "_dom_classes": [],
            "_model_module": "@jupyter-widgets/controls",
            "_model_module_version": "1.5.0",
            "_model_name": "HBoxModel",
            "_view_count": null,
            "_view_module": "@jupyter-widgets/controls",
            "_view_module_version": "1.5.0",
            "_view_name": "HBoxView",
            "box_style": "",
            "children": [
              "IPY_MODEL_045abbe2b9ec4ebf974c71e492eba386",
              "IPY_MODEL_702c278c5c3c49959c5a0984fcac52eb",
              "IPY_MODEL_0807b4f98f2b47538054087a6c965ee7"
            ],
            "layout": "IPY_MODEL_cc348a67e240408e8f24a57adef86147"
          }
        },
        "045abbe2b9ec4ebf974c71e492eba386": {
          "model_module": "@jupyter-widgets/controls",
          "model_name": "HTMLModel",
          "model_module_version": "1.5.0",
          "state": {
            "_dom_classes": [],
            "_model_module": "@jupyter-widgets/controls",
            "_model_module_version": "1.5.0",
            "_model_name": "HTMLModel",
            "_view_count": null,
            "_view_module": "@jupyter-widgets/controls",
            "_view_module_version": "1.5.0",
            "_view_name": "HTMLView",
            "description": "",
            "description_tooltip": null,
            "layout": "IPY_MODEL_c372cbb70fd34272a841bf6dae5b0407",
            "placeholder": "​",
            "style": "IPY_MODEL_d5236062c0404c9f91c2c447262265f4",
            "value": "Downloading: 100%"
          }
        },
        "702c278c5c3c49959c5a0984fcac52eb": {
          "model_module": "@jupyter-widgets/controls",
          "model_name": "FloatProgressModel",
          "model_module_version": "1.5.0",
          "state": {
            "_dom_classes": [],
            "_model_module": "@jupyter-widgets/controls",
            "_model_module_version": "1.5.0",
            "_model_name": "FloatProgressModel",
            "_view_count": null,
            "_view_module": "@jupyter-widgets/controls",
            "_view_module_version": "1.5.0",
            "_view_name": "ProgressView",
            "bar_style": "success",
            "description": "",
            "description_tooltip": null,
            "layout": "IPY_MODEL_d2b5737d8cdf47db926e1ec616c340e3",
            "max": 351265583,
            "min": 0,
            "orientation": "horizontal",
            "style": "IPY_MODEL_b33c6d4d23f04724a29fbb3331a47550",
            "value": 351265583
          }
        },
        "0807b4f98f2b47538054087a6c965ee7": {
          "model_module": "@jupyter-widgets/controls",
          "model_name": "HTMLModel",
          "model_module_version": "1.5.0",
          "state": {
            "_dom_classes": [],
            "_model_module": "@jupyter-widgets/controls",
            "_model_module_version": "1.5.0",
            "_model_name": "HTMLModel",
            "_view_count": null,
            "_view_module": "@jupyter-widgets/controls",
            "_view_module_version": "1.5.0",
            "_view_name": "HTMLView",
            "description": "",
            "description_tooltip": null,
            "layout": "IPY_MODEL_87b32a510c134b3fb09b1a6a464057b5",
            "placeholder": "​",
            "style": "IPY_MODEL_1b3e9738dd4642d9abc356f2e0445dc8",
            "value": " 335M/335M [00:08&lt;00:00, 43.3MB/s]"
          }
        },
        "cc348a67e240408e8f24a57adef86147": {
          "model_module": "@jupyter-widgets/base",
          "model_name": "LayoutModel",
          "model_module_version": "1.2.0",
          "state": {
            "_model_module": "@jupyter-widgets/base",
            "_model_module_version": "1.2.0",
            "_model_name": "LayoutModel",
            "_view_count": null,
            "_view_module": "@jupyter-widgets/base",
            "_view_module_version": "1.2.0",
            "_view_name": "LayoutView",
            "align_content": null,
            "align_items": null,
            "align_self": null,
            "border": null,
            "bottom": null,
            "display": null,
            "flex": null,
            "flex_flow": null,
            "grid_area": null,
            "grid_auto_columns": null,
            "grid_auto_flow": null,
            "grid_auto_rows": null,
            "grid_column": null,
            "grid_gap": null,
            "grid_row": null,
            "grid_template_areas": null,
            "grid_template_columns": null,
            "grid_template_rows": null,
            "height": null,
            "justify_content": null,
            "justify_items": null,
            "left": null,
            "margin": null,
            "max_height": null,
            "max_width": null,
            "min_height": null,
            "min_width": null,
            "object_fit": null,
            "object_position": null,
            "order": null,
            "overflow": null,
            "overflow_x": null,
            "overflow_y": null,
            "padding": null,
            "right": null,
            "top": null,
            "visibility": null,
            "width": null
          }
        },
        "c372cbb70fd34272a841bf6dae5b0407": {
          "model_module": "@jupyter-widgets/base",
          "model_name": "LayoutModel",
          "model_module_version": "1.2.0",
          "state": {
            "_model_module": "@jupyter-widgets/base",
            "_model_module_version": "1.2.0",
            "_model_name": "LayoutModel",
            "_view_count": null,
            "_view_module": "@jupyter-widgets/base",
            "_view_module_version": "1.2.0",
            "_view_name": "LayoutView",
            "align_content": null,
            "align_items": null,
            "align_self": null,
            "border": null,
            "bottom": null,
            "display": null,
            "flex": null,
            "flex_flow": null,
            "grid_area": null,
            "grid_auto_columns": null,
            "grid_auto_flow": null,
            "grid_auto_rows": null,
            "grid_column": null,
            "grid_gap": null,
            "grid_row": null,
            "grid_template_areas": null,
            "grid_template_columns": null,
            "grid_template_rows": null,
            "height": null,
            "justify_content": null,
            "justify_items": null,
            "left": null,
            "margin": null,
            "max_height": null,
            "max_width": null,
            "min_height": null,
            "min_width": null,
            "object_fit": null,
            "object_position": null,
            "order": null,
            "overflow": null,
            "overflow_x": null,
            "overflow_y": null,
            "padding": null,
            "right": null,
            "top": null,
            "visibility": null,
            "width": null
          }
        },
        "d5236062c0404c9f91c2c447262265f4": {
          "model_module": "@jupyter-widgets/controls",
          "model_name": "DescriptionStyleModel",
          "model_module_version": "1.5.0",
          "state": {
            "_model_module": "@jupyter-widgets/controls",
            "_model_module_version": "1.5.0",
            "_model_name": "DescriptionStyleModel",
            "_view_count": null,
            "_view_module": "@jupyter-widgets/base",
            "_view_module_version": "1.2.0",
            "_view_name": "StyleView",
            "description_width": ""
          }
        },
        "d2b5737d8cdf47db926e1ec616c340e3": {
          "model_module": "@jupyter-widgets/base",
          "model_name": "LayoutModel",
          "model_module_version": "1.2.0",
          "state": {
            "_model_module": "@jupyter-widgets/base",
            "_model_module_version": "1.2.0",
            "_model_name": "LayoutModel",
            "_view_count": null,
            "_view_module": "@jupyter-widgets/base",
            "_view_module_version": "1.2.0",
            "_view_name": "LayoutView",
            "align_content": null,
            "align_items": null,
            "align_self": null,
            "border": null,
            "bottom": null,
            "display": null,
            "flex": null,
            "flex_flow": null,
            "grid_area": null,
            "grid_auto_columns": null,
            "grid_auto_flow": null,
            "grid_auto_rows": null,
            "grid_column": null,
            "grid_gap": null,
            "grid_row": null,
            "grid_template_areas": null,
            "grid_template_columns": null,
            "grid_template_rows": null,
            "height": null,
            "justify_content": null,
            "justify_items": null,
            "left": null,
            "margin": null,
            "max_height": null,
            "max_width": null,
            "min_height": null,
            "min_width": null,
            "object_fit": null,
            "object_position": null,
            "order": null,
            "overflow": null,
            "overflow_x": null,
            "overflow_y": null,
            "padding": null,
            "right": null,
            "top": null,
            "visibility": null,
            "width": null
          }
        },
        "b33c6d4d23f04724a29fbb3331a47550": {
          "model_module": "@jupyter-widgets/controls",
          "model_name": "ProgressStyleModel",
          "model_module_version": "1.5.0",
          "state": {
            "_model_module": "@jupyter-widgets/controls",
            "_model_module_version": "1.5.0",
            "_model_name": "ProgressStyleModel",
            "_view_count": null,
            "_view_module": "@jupyter-widgets/base",
            "_view_module_version": "1.2.0",
            "_view_name": "StyleView",
            "bar_color": null,
            "description_width": ""
          }
        },
        "87b32a510c134b3fb09b1a6a464057b5": {
          "model_module": "@jupyter-widgets/base",
          "model_name": "LayoutModel",
          "model_module_version": "1.2.0",
          "state": {
            "_model_module": "@jupyter-widgets/base",
            "_model_module_version": "1.2.0",
            "_model_name": "LayoutModel",
            "_view_count": null,
            "_view_module": "@jupyter-widgets/base",
            "_view_module_version": "1.2.0",
            "_view_name": "LayoutView",
            "align_content": null,
            "align_items": null,
            "align_self": null,
            "border": null,
            "bottom": null,
            "display": null,
            "flex": null,
            "flex_flow": null,
            "grid_area": null,
            "grid_auto_columns": null,
            "grid_auto_flow": null,
            "grid_auto_rows": null,
            "grid_column": null,
            "grid_gap": null,
            "grid_row": null,
            "grid_template_areas": null,
            "grid_template_columns": null,
            "grid_template_rows": null,
            "height": null,
            "justify_content": null,
            "justify_items": null,
            "left": null,
            "margin": null,
            "max_height": null,
            "max_width": null,
            "min_height": null,
            "min_width": null,
            "object_fit": null,
            "object_position": null,
            "order": null,
            "overflow": null,
            "overflow_x": null,
            "overflow_y": null,
            "padding": null,
            "right": null,
            "top": null,
            "visibility": null,
            "width": null
          }
        },
        "1b3e9738dd4642d9abc356f2e0445dc8": {
          "model_module": "@jupyter-widgets/controls",
          "model_name": "DescriptionStyleModel",
          "model_module_version": "1.5.0",
          "state": {
            "_model_module": "@jupyter-widgets/controls",
            "_model_module_version": "1.5.0",
            "_model_name": "DescriptionStyleModel",
            "_view_count": null,
            "_view_module": "@jupyter-widgets/base",
            "_view_module_version": "1.2.0",
            "_view_name": "StyleView",
            "description_width": ""
          }
        }
      }
    }
  },
  "nbformat": 4,
  "nbformat_minor": 0
}